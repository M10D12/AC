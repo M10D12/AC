{
 "cells": [
  {
   "cell_type": "markdown",
   "id": "310bf822",
   "metadata": {},
   "source": [
    "## 1. Data Loading \n",
    "\n",
    "Primeiro carregamos o dataset `dataR2.csv`e verificamos a distribuição das classes (1=Saudável, 2=Cancro) .\n"
   ]
  },
  {
   "cell_type": "code",
   "execution_count": 48,
   "id": "ca5ae220",
   "metadata": {},
   "outputs": [
    {
     "name": "stdout",
     "output_type": "stream",
     "text": [
      "\n",
      "========== DATA LOADING ==========\n"
     ]
    },
    {
     "data": {
      "text/html": [
       "<div>\n",
       "<style scoped>\n",
       "    .dataframe tbody tr th:only-of-type {\n",
       "        vertical-align: middle;\n",
       "    }\n",
       "\n",
       "    .dataframe tbody tr th {\n",
       "        vertical-align: top;\n",
       "    }\n",
       "\n",
       "    .dataframe thead th {\n",
       "        text-align: right;\n",
       "    }\n",
       "</style>\n",
       "<table border=\"1\" class=\"dataframe\">\n",
       "  <thead>\n",
       "    <tr style=\"text-align: right;\">\n",
       "      <th></th>\n",
       "      <th>Age</th>\n",
       "      <th>BMI</th>\n",
       "      <th>Glucose</th>\n",
       "      <th>Insulin</th>\n",
       "      <th>HOMA</th>\n",
       "      <th>Leptin</th>\n",
       "      <th>Adiponectin</th>\n",
       "      <th>Resistin</th>\n",
       "      <th>MCP.1</th>\n",
       "      <th>Classification</th>\n",
       "    </tr>\n",
       "  </thead>\n",
       "  <tbody>\n",
       "    <tr>\n",
       "      <th>0</th>\n",
       "      <td>48</td>\n",
       "      <td>23.500000</td>\n",
       "      <td>70</td>\n",
       "      <td>2.707</td>\n",
       "      <td>0.467409</td>\n",
       "      <td>8.8071</td>\n",
       "      <td>9.702400</td>\n",
       "      <td>7.99585</td>\n",
       "      <td>417.114</td>\n",
       "      <td>1</td>\n",
       "    </tr>\n",
       "    <tr>\n",
       "      <th>1</th>\n",
       "      <td>83</td>\n",
       "      <td>20.690495</td>\n",
       "      <td>92</td>\n",
       "      <td>3.115</td>\n",
       "      <td>0.706897</td>\n",
       "      <td>8.8438</td>\n",
       "      <td>5.429285</td>\n",
       "      <td>4.06405</td>\n",
       "      <td>468.786</td>\n",
       "      <td>1</td>\n",
       "    </tr>\n",
       "    <tr>\n",
       "      <th>2</th>\n",
       "      <td>82</td>\n",
       "      <td>23.124670</td>\n",
       "      <td>91</td>\n",
       "      <td>4.498</td>\n",
       "      <td>1.009651</td>\n",
       "      <td>17.9393</td>\n",
       "      <td>22.432040</td>\n",
       "      <td>9.27715</td>\n",
       "      <td>554.697</td>\n",
       "      <td>1</td>\n",
       "    </tr>\n",
       "    <tr>\n",
       "      <th>3</th>\n",
       "      <td>68</td>\n",
       "      <td>21.367521</td>\n",
       "      <td>77</td>\n",
       "      <td>3.226</td>\n",
       "      <td>0.612725</td>\n",
       "      <td>9.8827</td>\n",
       "      <td>7.169560</td>\n",
       "      <td>12.76600</td>\n",
       "      <td>928.220</td>\n",
       "      <td>1</td>\n",
       "    </tr>\n",
       "    <tr>\n",
       "      <th>4</th>\n",
       "      <td>86</td>\n",
       "      <td>21.111111</td>\n",
       "      <td>92</td>\n",
       "      <td>3.549</td>\n",
       "      <td>0.805386</td>\n",
       "      <td>6.6994</td>\n",
       "      <td>4.819240</td>\n",
       "      <td>10.57635</td>\n",
       "      <td>773.920</td>\n",
       "      <td>1</td>\n",
       "    </tr>\n",
       "  </tbody>\n",
       "</table>\n",
       "</div>"
      ],
      "text/plain": [
       "   Age        BMI  Glucose  Insulin      HOMA   Leptin  Adiponectin  Resistin  \\\n",
       "0   48  23.500000       70    2.707  0.467409   8.8071     9.702400   7.99585   \n",
       "1   83  20.690495       92    3.115  0.706897   8.8438     5.429285   4.06405   \n",
       "2   82  23.124670       91    4.498  1.009651  17.9393    22.432040   9.27715   \n",
       "3   68  21.367521       77    3.226  0.612725   9.8827     7.169560  12.76600   \n",
       "4   86  21.111111       92    3.549  0.805386   6.6994     4.819240  10.57635   \n",
       "\n",
       "     MCP.1  Classification  \n",
       "0  417.114               1  \n",
       "1  468.786               1  \n",
       "2  554.697               1  \n",
       "3  928.220               1  \n",
       "4  773.920               1  "
      ]
     },
     "metadata": {},
     "output_type": "display_data"
    },
    {
     "name": "stdout",
     "output_type": "stream",
     "text": [
      "\n",
      "Linhas: 116, Colunas: 10\n"
     ]
    },
    {
     "data": {
      "text/html": [
       "<div>\n",
       "<style scoped>\n",
       "    .dataframe tbody tr th:only-of-type {\n",
       "        vertical-align: middle;\n",
       "    }\n",
       "\n",
       "    .dataframe tbody tr th {\n",
       "        vertical-align: top;\n",
       "    }\n",
       "\n",
       "    .dataframe thead th {\n",
       "        text-align: right;\n",
       "    }\n",
       "</style>\n",
       "<table border=\"1\" class=\"dataframe\">\n",
       "  <thead>\n",
       "    <tr style=\"text-align: right;\">\n",
       "      <th></th>\n",
       "      <th>Age</th>\n",
       "      <th>BMI</th>\n",
       "      <th>Glucose</th>\n",
       "      <th>Insulin</th>\n",
       "      <th>HOMA</th>\n",
       "      <th>Leptin</th>\n",
       "      <th>Adiponectin</th>\n",
       "      <th>Resistin</th>\n",
       "      <th>MCP.1</th>\n",
       "      <th>Classification</th>\n",
       "    </tr>\n",
       "  </thead>\n",
       "  <tbody>\n",
       "    <tr>\n",
       "      <th>count</th>\n",
       "      <td>116.000000</td>\n",
       "      <td>116.000000</td>\n",
       "      <td>116.000000</td>\n",
       "      <td>116.000000</td>\n",
       "      <td>116.000000</td>\n",
       "      <td>116.000000</td>\n",
       "      <td>116.000000</td>\n",
       "      <td>116.000000</td>\n",
       "      <td>116.000000</td>\n",
       "      <td>116.000000</td>\n",
       "    </tr>\n",
       "    <tr>\n",
       "      <th>mean</th>\n",
       "      <td>57.301724</td>\n",
       "      <td>27.582111</td>\n",
       "      <td>97.793103</td>\n",
       "      <td>10.012086</td>\n",
       "      <td>2.694988</td>\n",
       "      <td>26.615080</td>\n",
       "      <td>10.180874</td>\n",
       "      <td>14.725966</td>\n",
       "      <td>534.647000</td>\n",
       "      <td>1.551724</td>\n",
       "    </tr>\n",
       "    <tr>\n",
       "      <th>std</th>\n",
       "      <td>16.112766</td>\n",
       "      <td>5.020136</td>\n",
       "      <td>22.525162</td>\n",
       "      <td>10.067768</td>\n",
       "      <td>3.642043</td>\n",
       "      <td>19.183294</td>\n",
       "      <td>6.843341</td>\n",
       "      <td>12.390646</td>\n",
       "      <td>345.912663</td>\n",
       "      <td>0.499475</td>\n",
       "    </tr>\n",
       "    <tr>\n",
       "      <th>min</th>\n",
       "      <td>24.000000</td>\n",
       "      <td>18.370000</td>\n",
       "      <td>60.000000</td>\n",
       "      <td>2.432000</td>\n",
       "      <td>0.467409</td>\n",
       "      <td>4.311000</td>\n",
       "      <td>1.656020</td>\n",
       "      <td>3.210000</td>\n",
       "      <td>45.843000</td>\n",
       "      <td>1.000000</td>\n",
       "    </tr>\n",
       "    <tr>\n",
       "      <th>25%</th>\n",
       "      <td>45.000000</td>\n",
       "      <td>22.973205</td>\n",
       "      <td>85.750000</td>\n",
       "      <td>4.359250</td>\n",
       "      <td>0.917966</td>\n",
       "      <td>12.313675</td>\n",
       "      <td>5.474283</td>\n",
       "      <td>6.881763</td>\n",
       "      <td>269.978250</td>\n",
       "      <td>1.000000</td>\n",
       "    </tr>\n",
       "    <tr>\n",
       "      <th>50%</th>\n",
       "      <td>56.000000</td>\n",
       "      <td>27.662416</td>\n",
       "      <td>92.000000</td>\n",
       "      <td>5.924500</td>\n",
       "      <td>1.380939</td>\n",
       "      <td>20.271000</td>\n",
       "      <td>8.352692</td>\n",
       "      <td>10.827740</td>\n",
       "      <td>471.322500</td>\n",
       "      <td>2.000000</td>\n",
       "    </tr>\n",
       "    <tr>\n",
       "      <th>75%</th>\n",
       "      <td>71.000000</td>\n",
       "      <td>31.241442</td>\n",
       "      <td>102.000000</td>\n",
       "      <td>11.189250</td>\n",
       "      <td>2.857787</td>\n",
       "      <td>37.378300</td>\n",
       "      <td>11.815970</td>\n",
       "      <td>17.755207</td>\n",
       "      <td>700.085000</td>\n",
       "      <td>2.000000</td>\n",
       "    </tr>\n",
       "    <tr>\n",
       "      <th>max</th>\n",
       "      <td>89.000000</td>\n",
       "      <td>38.578759</td>\n",
       "      <td>201.000000</td>\n",
       "      <td>58.460000</td>\n",
       "      <td>25.050342</td>\n",
       "      <td>90.280000</td>\n",
       "      <td>38.040000</td>\n",
       "      <td>82.100000</td>\n",
       "      <td>1698.440000</td>\n",
       "      <td>2.000000</td>\n",
       "    </tr>\n",
       "  </tbody>\n",
       "</table>\n",
       "</div>"
      ],
      "text/plain": [
       "              Age         BMI     Glucose     Insulin        HOMA      Leptin  \\\n",
       "count  116.000000  116.000000  116.000000  116.000000  116.000000  116.000000   \n",
       "mean    57.301724   27.582111   97.793103   10.012086    2.694988   26.615080   \n",
       "std     16.112766    5.020136   22.525162   10.067768    3.642043   19.183294   \n",
       "min     24.000000   18.370000   60.000000    2.432000    0.467409    4.311000   \n",
       "25%     45.000000   22.973205   85.750000    4.359250    0.917966   12.313675   \n",
       "50%     56.000000   27.662416   92.000000    5.924500    1.380939   20.271000   \n",
       "75%     71.000000   31.241442  102.000000   11.189250    2.857787   37.378300   \n",
       "max     89.000000   38.578759  201.000000   58.460000   25.050342   90.280000   \n",
       "\n",
       "       Adiponectin    Resistin        MCP.1  Classification  \n",
       "count   116.000000  116.000000   116.000000      116.000000  \n",
       "mean     10.180874   14.725966   534.647000        1.551724  \n",
       "std       6.843341   12.390646   345.912663        0.499475  \n",
       "min       1.656020    3.210000    45.843000        1.000000  \n",
       "25%       5.474283    6.881763   269.978250        1.000000  \n",
       "50%       8.352692   10.827740   471.322500        2.000000  \n",
       "75%      11.815970   17.755207   700.085000        2.000000  \n",
       "max      38.040000   82.100000  1698.440000        2.000000  "
      ]
     },
     "metadata": {},
     "output_type": "display_data"
    },
    {
     "name": "stdout",
     "output_type": "stream",
     "text": [
      "\n",
      "Missing por coluna:\n",
      " Age               0\n",
      "BMI               0\n",
      "Glucose           0\n",
      "Insulin           0\n",
      "HOMA              0\n",
      "Leptin            0\n",
      "Adiponectin       0\n",
      "Resistin          0\n",
      "MCP.1             0\n",
      "Classification    0\n",
      "dtype: int64\n",
      "\n",
      "Distribuição de classes no dataset:\n",
      "Classification\n",
      "1    52\n",
      "2    64\n",
      "Name: count, dtype: int64\n"
     ]
    },
    {
     "data": {
      "image/png": "[encoded data removed]",
      "text/plain": [
       "<Figure size 800x500 with 1 Axes>"
      ]
     },
     "metadata": {},
     "output_type": "display_data"
    },
    {
     "data": {
      "application/vnd.plotly.v1+json": {
       "config": {
        "plotlyServerURL": "https://plot.ly"
       },
       "data": [
        {
         "box": {
          "visible": true
         },
         "jitter": 0.05,
         "meanline": {
          "visible": true
         },
         "name": "Saudável",
         "points": "all",
         "scalemode": "width",
         "type": "violin",
         "y": {
          "bdata": "MFNSRFYxWUxJSyIdGRgmLC89QCAkIh0jNi0yQiMkQjUcKzNDQkU8TUxMS0VHQktORVVMTQ==",
          "dtype": "i1"
         }
        },
        {
         "box": {
          "visible": true
         },
         "jitter": 0.05,
         "meanline": {
          "visible": true
         },
         "name": "Cancro",
         "points": "all",
         "scalemode": "width",
         "type": "violin",
         "y": {
          "bdata": "LS0xIipEMz4mRTEzOy02QC4sLSwzSC4rNytWKTtRMEcqQTBVMDooUjQxPDEsKEdFSkJBSDlJLS5ESzYtPkFIVg==",
          "dtype": "i1"
         }
        }
       ],
       "layout": {
        "autosize": false,
        "font": {
         "color": "black",
         "size": 16
        },
        "height": 520,
        "showlegend": true,
        "template": {
         "data": {
          "bar": [
           {
            "error_x": {
             "color": "#2a3f5f"
            },
            "error_y": {
             "color": "#2a3f5f"
            },
            "marker": {
             "line": {
              "color": "#E5ECF6",
              "width": 0.5
             },
             "pattern": {
              "fillmode": "overlay",
              "size": 10,
              "solidity": 0.2
             }
            },
            "type": "bar"
           }
          ],
          "barpolar": [
           {
            "marker": {
             "line": {
              "color": "#E5ECF6",
              "width": 0.5
             },
             "pattern": {
              "fillmode": "overlay",
              "size": 10,
              "solidity": 0.2
             }
            },
            "type": "barpolar"
           }
          ],
          "carpet": [
           {
            "aaxis": {
             "endlinecolor": "#2a3f5f",
             "gridcolor": "white",
             "linecolor": "white",
             "minorgridcolor": "white",
             "startlinecolor": "#2a3f5f"
            },
            "baxis": {
             "endlinecolor": "#2a3f5f",
             "gridcolor": "white",
             "linecolor": "white",
             "minorgridcolor": "white",
             "startlinecolor": "#2a3f5f"
            },
            "type": "carpet"
           }
          ],
          "choropleth": [
           {
            "colorbar": {
             "outlinewidth": 0,
             "ticks": ""
            },
            "type": "choropleth"
           }
          ],
          "contour": [
           {
            "colorbar": {
             "outlinewidth": 0,
             "ticks": ""
            },
            "colorscale": [
             [
              0,
              "#0d0887"
             ],
             [
              0.1111111111111111,
              "#46039f"
             ],
             [
              0.2222222222222222,
              "#7201a8"
             ],
             [
              0.3333333333333333,
              "#9c179e"
             ],
             [
              0.4444444444444444,
              "#bd3786"
             ],
             [
              0.5555555555555556,
              "#d8576b"
             ],
             [
              0.6666666666666666,
              "#ed7953"
             ],
             [
              0.7777777777777778,
              "#fb9f3a"
             ],
             [
              0.8888888888888888,
              "#fdca26"
             ],
             [
              1,
              "#f0f921"
             ]
            ],
            "type": "contour"
           }
          ],
          "contourcarpet": [
           {
            "colorbar": {
             "outlinewidth": 0,
             "ticks": ""
            },
            "type": "contourcarpet"
           }
          ],
          "heatmap": [
           {
            "colorbar": {
             "outlinewidth": 0,
             "ticks": ""
            },
            "colorscale": [
             [
              0,
              "#0d0887"
             ],
             [
              0.1111111111111111,
              "#46039f"
             ],
             [
              0.2222222222222222,
              "#7201a8"
             ],
             [
              0.3333333333333333,
              "#9c179e"
             ],
             [
              0.4444444444444444,
              "#bd3786"
             ],
             [
              0.5555555555555556,
              "#d8576b"
             ],
             [
              0.6666666666666666,
              "#ed7953"
             ],
             [
              0.7777777777777778,
              "#fb9f3a"
             ],
             [
              0.8888888888888888,
              "#fdca26"
             ],
             [
              1,
              "#f0f921"
             ]
            ],
            "type": "heatmap"
           }
          ],
          "histogram": [
           {
            "marker": {
             "pattern": {
              "fillmode": "overlay",
              "size": 10,
              "solidity": 0.2
             }
            },
            "type": "histogram"
           }
          ],
          "histogram2d": [
           {
            "colorbar": {
             "outlinewidth": 0,
             "ticks": ""
            },
            "colorscale": [
             [
              0,
              "#0d0887"
             ],
             [
              0.1111111111111111,
              "#46039f"
             ],
             [
              0.2222222222222222,
              "#7201a8"
             ],
             [
              0.3333333333333333,
              "#9c179e"
             ],
             [
              0.4444444444444444,
              "#bd3786"
             ],
             [
              0.5555555555555556,
              "#d8576b"
             ],
             [
              0.6666666666666666,
              "#ed7953"
             ],
             [
              0.7777777777777778,
              "#fb9f3a"
             ],
             [
              0.8888888888888888,
              "#fdca26"
             ],
             [
              1,
              "#f0f921"
             ]
            ],
            "type": "histogram2d"
           }
          ],
          "histogram2dcontour": [
           {
            "colorbar": {
             "outlinewidth": 0,
             "ticks": ""
            },
            "colorscale": [
             [
              0,
              "#0d0887"
             ],
             [
              0.1111111111111111,
              "#46039f"
             ],
             [
              0.2222222222222222,
              "#7201a8"
             ],
             [
              0.3333333333333333,
              "#9c179e"
             ],
             [
              0.4444444444444444,
              "#bd3786"
             ],
             [
              0.5555555555555556,
              "#d8576b"
             ],
             [
              0.6666666666666666,
              "#ed7953"
             ],
             [
              0.7777777777777778,
              "#fb9f3a"
             ],
             [
              0.8888888888888888,
              "#fdca26"
             ],
             [
              1,
              "#f0f921"
             ]
            ],
            "type": "histogram2dcontour"
           }
          ],
          "mesh3d": [
           {
            "colorbar": {
             "outlinewidth": 0,
             "ticks": ""
            },
            "type": "mesh3d"
           }
          ],
          "parcoords": [
           {
            "line": {
             "colorbar": {
              "outlinewidth": 0,
              "ticks": ""
             }
            },
            "type": "parcoords"
           }
          ],
          "pie": [
           {
            "automargin": true,
            "type": "pie"
           }
          ],
          "scatter": [
           {
            "fillpattern": {
             "fillmode": "overlay",
             "size": 10,
             "solidity": 0.2
            },
            "type": "scatter"
           }
          ],
          "scatter3d": [
           {
            "line": {
             "colorbar": {
              "outlinewidth": 0,
              "ticks": ""
             }
            },
            "marker": {
             "colorbar": {
              "outlinewidth": 0,
              "ticks": ""
             }
            },
            "type": "scatter3d"
           }
          ],
          "scattercarpet": [
           {
            "marker": {
             "colorbar": {
              "outlinewidth": 0,
              "ticks": ""
             }
            },
            "type": "scattercarpet"
           }
          ],
          "scattergeo": [
           {
            "marker": {
             "colorbar": {
              "outlinewidth": 0,
              "ticks": ""
             }
            },
            "type": "scattergeo"
           }
          ],
          "scattergl": [
           {
            "marker": {
             "colorbar": {
              "outlinewidth": 0,
              "ticks": ""
             }
            },
            "type": "scattergl"
           }
          ],
          "scattermap": [
           {
            "marker": {
             "colorbar": {
              "outlinewidth": 0,
              "ticks": ""
             }
            },
            "type": "scattermap"
           }
          ],
          "scattermapbox": [
           {
            "marker": {
             "colorbar": {
              "outlinewidth": 0,
              "ticks": ""
             }
            },
            "type": "scattermapbox"
           }
          ],
          "scatterpolar": [
           {
            "marker": {
             "colorbar": {
              "outlinewidth": 0,
              "ticks": ""
             }
            },
            "type": "scatterpolar"
           }
          ],
          "scatterpolargl": [
           {
            "marker": {
             "colorbar": {
              "outlinewidth": 0,
              "ticks": ""
             }
            },
            "type": "scatterpolargl"
           }
          ],
          "scatterternary": [
           {
            "marker": {
             "colorbar": {
              "outlinewidth": 0,
              "ticks": ""
             }
            },
            "type": "scatterternary"
           }
          ],
          "surface": [
           {
            "colorbar": {
             "outlinewidth": 0,
             "ticks": ""
            },
            "colorscale": [
             [
              0,
              "#0d0887"
             ],
             [
              0.1111111111111111,
              "#46039f"
             ],
             [
              0.2222222222222222,
              "#7201a8"
             ],
             [
              0.3333333333333333,
              "#9c179e"
             ],
             [
              0.4444444444444444,
              "#bd3786"
             ],
             [
              0.5555555555555556,
              "#d8576b"
             ],
             [
              0.6666666666666666,
              "#ed7953"
             ],
             [
              0.7777777777777778,
              "#fb9f3a"
             ],
             [
              0.8888888888888888,
              "#fdca26"
             ],
             [
              1,
              "#f0f921"
             ]
            ],
            "type": "surface"
           }
          ],
          "table": [
           {
            "cells": {
             "fill": {
              "color": "#EBF0F8"
             },
             "line": {
              "color": "white"
             }
            },
            "header": {
             "fill": {
              "color": "#C8D4E3"
             },
             "line": {
              "color": "white"
             }
            },
            "type": "table"
           }
          ]
         },
         "layout": {
          "annotationdefaults": {
           "arrowcolor": "#2a3f5f",
           "arrowhead": 0,
           "arrowwidth": 1
          },
          "autotypenumbers": "strict",
          "coloraxis": {
           "colorbar": {
            "outlinewidth": 0,
            "ticks": ""
           }
          },
          "colorscale": {
           "diverging": [
            [
             0,
             "#8e0152"
            ],
            [
             0.1,
             "#c51b7d"
            ],
            [
             0.2,
             "#de77ae"
            ],
            [
             0.3,
             "#f1b6da"
            ],
            [
             0.4,
             "#fde0ef"
            ],
            [
             0.5,
             "#f7f7f7"
            ],
            [
             0.6,
             "#e6f5d0"
            ],
            [
             0.7,
             "#b8e186"
            ],
            [
             0.8,
             "#7fbc41"
            ],
            [
             0.9,
             "#4d9221"
            ],
            [
             1,
             "#276419"
            ]
           ],
           "sequential": [
            [
             0,
             "#0d0887"
            ],
            [
             0.1111111111111111,
             "#46039f"
            ],
            [
             0.2222222222222222,
             "#7201a8"
            ],
            [
             0.3333333333333333,
             "#9c179e"
            ],
            [
             0.4444444444444444,
             "#bd3786"
            ],
            [
             0.5555555555555556,
             "#d8576b"
            ],
            [
             0.6666666666666666,
             "#ed7953"
            ],
            [
             0.7777777777777778,
             "#fb9f3a"
            ],
            [
             0.8888888888888888,
             "#fdca26"
            ],
            [
             1,
             "#f0f921"
            ]
           ],
           "sequentialminus": [
            [
             0,
             "#0d0887"
            ],
            [
             0.1111111111111111,
             "#46039f"
            ],
            [
             0.2222222222222222,
             "#7201a8"
            ],
            [
             0.3333333333333333,
             "#9c179e"
            ],
            [
             0.4444444444444444,
             "#bd3786"
            ],
            [
             0.5555555555555556,
             "#d8576b"
            ],
            [
             0.6666666666666666,
             "#ed7953"
            ],
            [
             0.7777777777777778,
             "#fb9f3a"
            ],
            [
             0.8888888888888888,
             "#fdca26"
            ],
            [
             1,
             "#f0f921"
            ]
           ]
          },
          "colorway": [
           "#636efa",
           "#EF553B",
           "#00cc96",
           "#ab63fa",
           "#FFA15A",
           "#19d3f3",
           "#FF6692",
           "#B6E880",
           "#FF97FF",
           "#FECB52"
          ],
          "font": {
           "color": "#2a3f5f"
          },
          "geo": {
           "bgcolor": "white",
           "lakecolor": "white",
           "landcolor": "#E5ECF6",
           "showlakes": true,
           "showland": true,
           "subunitcolor": "white"
          },
          "hoverlabel": {
           "align": "left"
          },
          "hovermode": "closest",
          "mapbox": {
           "style": "light"
          },
          "paper_bgcolor": "white",
          "plot_bgcolor": "#E5ECF6",
          "polar": {
           "angularaxis": {
            "gridcolor": "white",
            "linecolor": "white",
            "ticks": ""
           },
           "bgcolor": "#E5ECF6",
           "radialaxis": {
            "gridcolor": "white",
            "linecolor": "white",
            "ticks": ""
           }
          },
          "scene": {
           "xaxis": {
            "backgroundcolor": "#E5ECF6",
            "gridcolor": "white",
            "gridwidth": 2,
            "linecolor": "white",
            "showbackground": true,
            "ticks": "",
            "zerolinecolor": "white"
           },
           "yaxis": {
            "backgroundcolor": "#E5ECF6",
            "gridcolor": "white",
            "gridwidth": 2,
            "linecolor": "white",
            "showbackground": true,
            "ticks": "",
            "zerolinecolor": "white"
           },
           "zaxis": {
            "backgroundcolor": "#E5ECF6",
            "gridcolor": "white",
            "gridwidth": 2,
            "linecolor": "white",
            "showbackground": true,
            "ticks": "",
            "zerolinecolor": "white"
           }
          },
          "shapedefaults": {
           "line": {
            "color": "#2a3f5f"
           }
          },
          "ternary": {
           "aaxis": {
            "gridcolor": "white",
            "linecolor": "white",
            "ticks": ""
           },
           "baxis": {
            "gridcolor": "white",
            "linecolor": "white",
            "ticks": ""
           },
           "bgcolor": "#E5ECF6",
           "caxis": {
            "gridcolor": "white",
            "linecolor": "white",
            "ticks": ""
           }
          },
          "title": {
           "x": 0.05
          },
          "xaxis": {
           "automargin": true,
           "gridcolor": "white",
           "linecolor": "white",
           "ticks": "",
           "title": {
            "standoff": 15
           },
           "zerolinecolor": "white",
           "zerolinewidth": 2
          },
          "yaxis": {
           "automargin": true,
           "gridcolor": "white",
           "linecolor": "white",
           "ticks": "",
           "title": {
            "standoff": 15
           },
           "zerolinecolor": "white",
           "zerolinewidth": 2
          }
         }
        },
        "title": {
         "text": "Age — Distribuição por Classe (Violin)"
        },
        "updatemenus": [
         {
          "buttons": [
           {
            "args": [
             {
              "y": [
               [
                48,
                83,
                82,
                68,
                86,
                49,
                89,
                76,
                73,
                75,
                34,
                29,
                25,
                24,
                38,
                44,
                47,
                61,
                64,
                32,
                36,
                34,
                29,
                35,
                54,
                45,
                50,
                66,
                35,
                36,
                66,
                53,
                28,
                43,
                51,
                67,
                66,
                69,
                60,
                77,
                76,
                76,
                75,
                69,
                71,
                66,
                75,
                78,
                69,
                85,
                76,
                77
               ],
               [
                45,
                45,
                49,
                34,
                42,
                68,
                51,
                62,
                38,
                69,
                49,
                51,
                59,
                45,
                54,
                64,
                46,
                44,
                45,
                44,
                51,
                72,
                46,
                43,
                55,
                43,
                86,
                41,
                59,
                81,
                48,
                71,
                42,
                65,
                48,
                85,
                48,
                58,
                40,
                82,
                52,
                49,
                60,
                49,
                44,
                40,
                71,
                69,
                74,
                66,
                65,
                72,
                57,
                73,
                45,
                46,
                68,
                75,
                54,
                45,
                62,
                65,
                72,
                86
               ]
              ]
             },
             {
              "title": "Age — Distribuição por Classe (Violin)",
              "yaxis": {
               "title": "Age"
              }
             }
            ],
            "label": "Age",
            "method": "update"
           },
           {
            "args": [
             {
              "y": [
               [
                23.5,
                20.69049454,
                23.12467037,
                21.36752137,
                21.11111111,
                22.85445769,
                22.7,
                23.8,
                22,
                23,
                21.47,
                23.01,
                22.86,
                18.67,
                23.34,
                20.76,
                22.03,
                32.03895937,
                34.5297228,
                36.51263743,
                28.57667585,
                31.97501487,
                32.27078777,
                30.27681661,
                30.48315806,
                37.03560819,
                38.57875854,
                31.44654088,
                35.2507611,
                34.17489,
                36.21227888,
                36.7901662,
                35.85581466,
                34.42217362,
                27.68877813,
                29.60676726,
                31.2385898,
                35.09270153,
                26.34929208,
                35.58792924,
                29.2184076,
                27.2,
                27.3,
                32.5,
                30.3,
                27.7,
                25.7,
                25.3,
                29.4,
                26.6,
                27.1,
                25.9
               ],
               [
                21.30394858,
                20.82999519,
                20.9566075,
                24.24242424,
                21.35991456,
                21.08281329,
                19.13265306,
                22.65625,
                22.4996371,
                21.51385851,
                21.36752137,
                22.89281998,
                22.83287935,
                23.14049587,
                24.21875,
                22.22222222,
                20.83,
                19.56,
                20.26,
                24.74,
                18.37,
                23.62,
                22.21,
                26.5625,
                31.97501487,
                31.25,
                26.66666667,
                26.6727633,
                28.67262608,
                31.64036818,
                32.46191136,
                25.51020408,
                29.296875,
                29.666548,
                28.125,
                27.68877813,
                31.25,
                29.15451895,
                30.83653053,
                31.21748179,
                30.8012487,
                32.46191136,
                31.23140988,
                29.77777778,
                27.88761707,
                27.63605442,
                27.91551882,
                28.44444444,
                28.65013774,
                26.5625,
                30.91557669,
                29.13631634,
                34.83814777,
                37.109375,
                29.38475666,
                33.18,
                35.56,
                30.48,
                36.05,
                26.85,
                26.84,
                32.05,
                25.59,
                27.18
               ]
              ]
             },
             {
              "title": "BMI — Distribuição por Classe (Violin)",
              "yaxis": {
               "title": "BMI"
              }
             }
            ],
            "label": "BMI",
            "method": "update"
           },
           {
            "args": [
             {
              "y": [
               [
                70,
                92,
                91,
                77,
                92,
                92,
                77,
                118,
                97,
                83,
                78,
                82,
                82,
                88,
                75,
                86,
                84,
                85,
                95,
                87,
                86,
                87,
                84,
                84,
                90,
                83,
                106,
                90,
                90,
                80,
                101,
                101,
                87,
                89,
                77,
                79,
                82,
                101,
                103,
                76,
                83,
                94,
                85,
                93,
                102,
                90,
                94,
                60,
                89,
                96,
                110,
                85
               ],
               [
                102,
                74,
                94,
                92,
                93,
                102,
                93,
                92,
                95,
                112,
                78,
                103,
                98,
                116,
                86,
                98,
                88,
                114,
                92,
                106,
                105,
                105,
                86,
                101,
                92,
                103,
                201,
                97,
                77,
                100,
                99,
                112,
                98,
                85,
                90,
                196,
                199,
                139,
                128,
                100,
                87,
                134,
                131,
                70,
                99,
                103,
                104,
                108,
                88,
                89,
                97,
                83,
                95,
                134,
                90,
                92,
                131,
                152,
                119,
                92,
                100,
                97,
                82,
                138
               ]
              ]
             },
             {
              "title": "Glucose — Distribuição por Classe (Violin)",
              "yaxis": {
               "title": "Glucose"
              }
             }
            ],
            "label": "Glucose",
            "method": "update"
           },
           {
            "args": [
             {
              "y": [
               [
                2.707,
                3.115,
                4.498,
                3.226,
                3.549,
                3.226,
                4.69,
                6.47,
                3.35,
                4.952,
                3.469,
                5.663,
                4.09,
                6.107,
                5.782,
                7.553,
                2.869,
                18.077,
                4.427,
                14.026,
                4.345,
                4.53,
                5.81,
                4.376,
                5.537,
                6.76,
                6.703,
                9.245,
                6.817,
                6.59,
                15.533,
                10.175,
                8.576,
                23.194,
                3.855,
                5.819,
                4.181,
                5.646,
                5.138,
                3.881,
                5.376,
                14.07,
                5.197,
                5.43,
                8.34,
                6.042,
                8.079,
                3.508,
                10.704,
                4.462,
                26.211,
                4.58
               ],
               [
                13.852,
                4.56,
                12.305,
                21.699,
                2.999,
                6.2,
                4.364,
                3.482,
                5.261,
                6.683,
                2.64,
                2.74,
                6.862,
                4.902,
                3.73,
                5.7,
                3.42,
                15.89,
                3.44,
                58.46,
                6.03,
                4.42,
                36.94,
                10.555,
                16.635,
                4.328,
                41.611,
                22.033,
                3.188,
                9.669,
                28.677,
                10.395,
                4.172,
                14.649,
                2.54,
                51.814,
                12.162,
                16.582,
                41.894,
                18.077,
                30.212,
                24.887,
                30.13,
                8.396,
                9.208,
                2.432,
                18.2,
                8.808,
                3.012,
                6.524,
                10.491,
                10.949,
                12.548,
                5.636,
                4.713,
                5.75,
                8.15,
                7.01,
                11.91,
                3.33,
                4.53,
                5.73,
                2.82,
                19.91
               ]
              ]
             },
             {
              "title": "Insulin — Distribuição por Classe (Violin)",
              "yaxis": {
               "title": "Insulin"
              }
             }
            ],
            "label": "Insulin",
            "method": "update"
           },
           {
            "args": [
             {
              "y": [
               [
                0.467408667,
                0.706897333,
                1.009651067,
                0.612724933,
                0.8053864,
                0.732086933,
                0.890787333,
                1.883201333,
                0.801543333,
                1.013839467,
                0.6674356,
                1.145436133,
                0.827270667,
                1.33,
                1.06967,
                1.6,
                0.59,
                3.790144333,
                1.037393667,
                3.0099796,
                0.921719333,
                0.972138,
                1.203832,
                0.9067072,
                1.229214,
                1.383997333,
                1.752611067,
                2.05239,
                1.513374,
                1.300426667,
                3.869788067,
                2.534931667,
                1.8404096,
                5.091856133,
                0.732193,
                1.133929133,
                0.845676933,
                1.4066068,
                1.305394533,
                0.727558133,
                1.1006464,
                3.262364,
                1.089637667,
                1.245642,
                2.098344,
                1.341324,
                1.8732508,
                0.519184,
                2.3498848,
                1.0566016,
                7.111918,
                0.960273333
               ],
               [
                3.4851632,
                0.832352,
                2.853119333,
                4.9242264,
                0.6879706,
                1.55992,
                1.0011016,
                0.790181867,
                1.232827667,
                1.846290133,
                0.507936,
                0.696142667,
                1.658774133,
                1.4026256,
                0.791257333,
                1.37788,
                0.742368,
                4.468268,
                0.780650667,
                15.28534133,
                1.56177,
                1.14478,
                7.836205333,
                2.629602333,
                3.775036,
                1.099600533,
                20.6307338,
                5.271762467,
                0.605507467,
                2.38502,
                7.0029234,
                2.871792,
                1.008511467,
                3.071407,
                0.56388,
                25.05034187,
                5.9699204,
                5.685415067,
                13.22733227,
                4.458993333,
                6.4834952,
                8.225983067,
                9.736007333,
                1.449709333,
                2.2485936,
                0.617890133,
                4.668906667,
                2.3464512,
                0.6538048,
                1.432235467,
                2.5101466,
                2.241625267,
                2.940414667,
                1.862885867,
                1.046286,
                1.304866667,
                2.633536667,
                2.628282667,
                3.495982,
                0.755688,
                1.1174,
                1.370998,
                0.570392,
                6.777364
               ]
              ]
             },
             {
              "title": "HOMA — Distribuição por Classe (Violin)",
              "yaxis": {
               "title": "HOMA"
              }
             }
            ],
            "label": "HOMA",
            "method": "update"
           },
           {
            "args": [
             {
              "y": [
               [
                8.8071,
                8.8438,
                17.9393,
                9.8827,
                6.6994,
                6.8317,
                6.964,
                4.311,
                4.47,
                17.127,
                14.57,
                35.59,
                20.45,
                8.88,
                15.26,
                14.09,
                26.65,
                30.7729,
                21.2117,
                49.3727,
                15.1248,
                28.7502,
                45.6196,
                39.2134,
                12.331,
                39.9802,
                46.6401,
                45.9624,
                50.6094,
                10.2809,
                74.7069,
                27.1841,
                68.5102,
                31.2128,
                20.092,
                21.9033,
                16.2247,
                83.4821,
                24.2998,
                21.7863,
                28.562,
                35.891,
                10.39,
                15.145,
                56.502,
                24.846,
                65.926,
                6.633,
                45.272,
                7.85,
                21.778,
                13.74
               ],
               [
                7.6476,
                7.7529,
                11.2406,
                16.7353,
                19.0826,
                9.6994,
                11.0816,
                9.8648,
                8.438,
                32.58,
                6.3339,
                8.0163,
                14.9037,
                17.9973,
                8.6874,
                12.1905,
                12.87,
                13.08,
                7.65,
                18.16,
                9.62,
                21.78,
                10.16,
                9.8,
                37.2234,
                25.7816,
                47.647,
                44.7059,
                17.022,
                38.8066,
                46.076,
                19.0653,
                12.2617,
                26.5166,
                15.5325,
                70.8824,
                18.1314,
                22.8884,
                31.0385,
                31.6453,
                29.2739,
                42.3914,
                37.843,
                51.3387,
                12.6757,
                14.3224,
                53.4997,
                14.7485,
                31.1233,
                14.9084,
                44.0217,
                26.8081,
                33.1612,
                41.4064,
                23.8479,
                18.69,
                17.87,
                50.53,
                89.27,
                54.68,
                12.45,
                61.48,
                24.96,
                90.28
               ]
              ]
             },
             {
              "title": "Leptin — Distribuição por Classe (Violin)",
              "yaxis": {
               "title": "Leptin"
              }
             }
            ],
            "label": "Leptin",
            "method": "update"
           },
           {
            "args": [
             {
              "y": [
               [
                9.7024,
                5.429285,
                22.43204,
                7.16956,
                4.81924,
                13.67975,
                5.589865,
                13.25132,
                10.358725,
                11.57899,
                13.11,
                26.72,
                23.67,
                36.06,
                17.95,
                20.32,
                38.04,
                7.780255,
                5.46262,
                5.1,
                8.6,
                7.64276,
                6.209635,
                9.048185,
                9.73138,
                4.617125,
                4.667645,
                10.35526,
                6.966895,
                5.065915,
                7.53955,
                20.03,
                4.7942,
                8.300955,
                3.19209,
                2.19428,
                4.267105,
                6.796985,
                2.19428,
                8.12555,
                7.36996,
                9.34663,
                9.000805,
                11.78796,
                8.13,
                7.652055,
                3.74122,
                10.567295,
                8.2863,
                7.9317,
                4.935635,
                9.75326
               ],
               [
                21.056625,
                8.237405,
                8.412175,
                21.823745,
                8.462915,
                8.574655,
                5.80762,
                11.236235,
                4.77192,
                4.138025,
                3.886145,
                9.349775,
                4.230105,
                4.294705,
                3.70523,
                4.783985,
                18.55,
                20.37,
                16.67,
                16.1,
                12.76,
                17.86,
                9.76,
                6.420295,
                11.018455,
                12.71896,
                5.357135,
                13.494865,
                16.44048,
                10.636525,
                21.57,
                5.4861,
                6.695585,
                7.28287,
                10.22231,
                7.901685,
                4.104105,
                10.26266,
                6.160995,
                9.92365,
                6.26854,
                10.79394,
                8.40443,
                10.73174,
                5.47817,
                6.78387,
                1.65602,
                5.288025,
                7.65222,
                8.42996,
                3.71009,
                2.78491,
                2.36495,
                3.335665,
                6.644245,
                9.16,
                11.9,
                10.06,
                8.01,
                12.1,
                21.42,
                22.54,
                33.75,
                14.11
               ]
              ]
             },
             {
              "title": "Adiponectin — Distribuição por Classe (Violin)",
              "yaxis": {
               "title": "Adiponectin"
              }
             }
            ],
            "label": "Adiponectin",
            "method": "update"
           },
           {
            "args": [
             {
              "y": [
               [
                7.99585,
                4.06405,
                9.27715,
                12.766,
                10.57635,
                10.3176,
                12.9361,
                5.1042,
                6.28445,
                7.0913,
                6.92,
                4.58,
                5.14,
                6.85,
                9.35,
                7.64,
                3.32,
                13.68392,
                6.70188,
                17.10223,
                9.1539,
                5.62592,
                24.6033,
                16.43706,
                10.19299,
                8.70448,
                11.78388,
                23.3819,
                22.03703,
                15.72187,
                22.32024,
                10.26309,
                21.44366,
                6.71026,
                10.37518,
                4.2075,
                3.29175,
                82.1,
                20.2535,
                17.2615,
                8.04375,
                8.4156,
                7.5767,
                11.78796,
                4.2989,
                6.7052,
                4.49685,
                4.6638,
                4.53,
                9.6135,
                8.49395,
                11.774
               ],
               [
                23.03408,
                28.0323,
                23.1177,
                12.06534,
                17.37615,
                13.74244,
                5.57055,
                10.69548,
                15.73606,
                15.69876,
                22.94254,
                11.55492,
                8.2049,
                5.2633,
                10.34455,
                13.91245,
                13.56,
                4.62,
                7.84,
                5.31,
                3.21,
                4.82,
                5.68,
                16.1,
                7.16514,
                38.6531,
                24.3701,
                27.8325,
                31.6904,
                29.5583,
                10.15726,
                42.7447,
                53.6717,
                19.46324,
                16.11032,
                55.2153,
                53.6308,
                13.97399,
                17.55503,
                19.94687,
                24.24591,
                5.768,
                11.50005,
                20.76801,
                23.03306,
                26.0136,
                49.24184,
                16.48508,
                18.35574,
                14.91922,
                20.4685,
                14.76966,
                9.9542,
                6.89235,
                15.55625,
                8.89,
                4.19,
                11.73,
                5.06,
                10.96,
                7.32,
                10.33,
                3.27,
                4.35
               ]
              ]
             },
             {
              "title": "Resistin — Distribuição por Classe (Violin)",
              "yaxis": {
               "title": "Resistin"
              }
             }
            ],
            "label": "Resistin",
            "method": "update"
           },
           {
            "args": [
             {
              "y": [
               [
                417.114,
                468.786,
                554.697,
                928.22,
                773.92,
                530.41,
                1256.083,
                280.694,
                136.855,
                318.302,
                354.6,
                174.8,
                313.73,
                632.22,
                165.02,
                63.61,
                191.72,
                444.395,
                252.449,
                588.46,
                534.224,
                572.783,
                904.981,
                733.797,
                1227.91,
                586.173,
                887.16,
                1102.11,
                667.928,
                581.313,
                864.968,
                695.754,
                358.624,
                960.246,
                473.859,
                585.307,
                634.602,
                263.499,
                378.996,
                618.272,
                698.789,
                377.227,
                335.393,
                270.142,
                200.976,
                225.88,
                206.802,
                209.749,
                215.769,
                232.006,
                45.843,
                488.829
               ],
               [
                552.444,
                382.955,
                573.63,
                481.949,
                321.919,
                448.799,
                90.6,
                703.973,
                199.055,
                713.239,
                737.672,
                359.232,
                355.31,
                518.586,
                635.049,
                395.976,
                301.21,
                220.66,
                193.87,
                244.75,
                513.66,
                195.94,
                312,
                806.724,
                483.377,
                775.322,
                1698.44,
                783.796,
                910.489,
                426.175,
                738.034,
                799.898,
                1041.843,
                1698.44,
                1698.44,
                1078.359,
                1698.44,
                923.886,
                638.261,
                994.316,
                764.667,
                656.393,
                396.021,
                602.486,
                407.206,
                293.123,
                256.001,
                353.568,
                572.401,
                269.487,
                396.648,
                232.018,
                655.834,
                788.902,
                621.273,
                209.19,
                198.4,
                99.45,
                218.28,
                268.23,
                330.16,
                314.05,
                392.46,
                90.09
               ]
              ]
             },
             {
              "title": "MCP.1 — Distribuição por Classe (Violin)",
              "yaxis": {
               "title": "MCP.1"
              }
             }
            ],
            "label": "MCP.1",
            "method": "update"
           }
          ],
          "direction": "down",
          "showactive": true,
          "x": 0.02,
          "y": 1.15
         }
        ],
        "width": 1100,
        "yaxis": {
         "title": {
          "text": "Age"
         }
        }
       }
      }
     },
     "metadata": {},
     "output_type": "display_data"
    }
   ],
   "source": [
    "import numpy as np\n",
    "import pandas as pd\n",
    "import matplotlib.pyplot as plt\n",
    "from sklearn.model_selection import train_test_split\n",
    "from sklearn.preprocessing import StandardScaler\n",
    "from sklearn.metrics import (\n",
    "    roc_curve, auc\n",
    ")\n",
    "from sklearn.decomposition import PCA\n",
    "from sklearn.discriminant_analysis import LinearDiscriminantAnalysis as LDA\n",
    "from scipy import stats\n",
    "from IPython.display import display\n",
    "import plotly.graph_objects as go\n",
    "import plotly.express as px\n",
    "from sklearn.metrics import confusion_matrix, precision_score, f1_score, roc_auc_score, roc_curve\n",
    "\n",
    "\n",
    "print(\"\\n========== DATA LOADING ==========\")\n",
    "data = pd.read_csv('dataR2.csv')\n",
    "display(data.head())\n",
    "print(f\"\\nLinhas: {data.shape[0]}, Colunas: {data.shape[1]}\")\n",
    "display(data.describe())\n",
    "print(\"\\nMissing por coluna:\\n\", data.isnull().sum())\n",
    "\n",
    "class_counts = data['Classification'].value_counts().sort_index()\n",
    "total = class_counts.sum()\n",
    "print(\"\\nDistribuição de classes no dataset:\")\n",
    "print(class_counts)\n",
    "\n",
    "x = np.arange(len(class_counts))\n",
    "labels_map = {1: \"Saudável\", 2: \"Cancro\"}\n",
    "labels = [labels_map[i] for i in class_counts.index]\n",
    "colors = ['green' if i == 1 else 'red' for i in class_counts.index]\n",
    "\n",
    "plt.figure(figsize=(8, 5))\n",
    "bars = plt.bar(x, class_counts.values, color=colors)\n",
    "for xi, bar, count in zip(x, bars, class_counts.values):\n",
    "    y = bar.get_height()\n",
    "    plt.text(xi, y + max(total*0.01, 1), f\"{count} ({count/total:.0%})\",\n",
    "             ha='center', va='bottom', fontsize=10, fontweight='bold')\n",
    "plt.title(\"Dataset - Distribuição por Classe\", fontweight='bold')\n",
    "plt.xlabel(\"Classes\", fontweight='bold'); plt.ylabel(\"Número de Amostras\", fontweight='bold')\n",
    "plt.xticks(x, labels, fontweight='bold')\n",
    "plt.ylim(0, max(class_counts.values)*1.15)\n",
    "plt.tight_layout(); plt.show()\n",
    "\n",
    "\n",
    "labels_map = {1: \"Saudável\", 2: \"Cancro\"}\n",
    "data_v = data.copy()\n",
    "data_v[\"ClassLabel\"] = data_v[\"Classification\"].map(labels_map)\n",
    "\n",
    "num_cols = data.select_dtypes(include=[np.number]).columns.drop('Classification', errors='ignore')\n",
    "features = list(num_cols)\n",
    "\n",
    "feat0 = features[0]\n",
    "fig = go.Figure()\n",
    "\n",
    "fig.add_trace(go.Violin(\n",
    "    y=data_v.loc[data_v[\"Classification\"]==1, feat0],\n",
    "    name=\"Saudável\",\n",
    "    box_visible=True, meanline_visible=True, points='all', jitter=0.05, scalemode='width'\n",
    "))\n",
    "fig.add_trace(go.Violin(\n",
    "    y=data_v.loc[data_v[\"Classification\"]==2, feat0],\n",
    "    name=\"Cancro\",\n",
    "    box_visible=True, meanline_visible=True, points='all', jitter=0.05, scalemode='width'\n",
    "))\n",
    "\n",
    "fig.update_layout(\n",
    "    title=f\"{feat0} — Distribuição por Classe (Violin)\",\n",
    "    autosize=False, width=1100, height=520,\n",
    "    font=dict(size=16, color=\"black\"),\n",
    "    yaxis_title=feat0,\n",
    "    showlegend=True\n",
    ")\n",
    "\n",
    "updatemenus = [\n",
    "    dict(\n",
    "        buttons=[\n",
    "            dict(\n",
    "                label=feat,\n",
    "                method=\"update\",\n",
    "                args=[\n",
    "                    {\n",
    "                        \"y\": [\n",
    "                            data_v.loc[data_v[\"Classification\"]==1, feat],\n",
    "                            data_v.loc[data_v[\"Classification\"]==2, feat]\n",
    "                        ]\n",
    "                    },\n",
    "                    {\n",
    "                        \"title\": f\"{feat} — Distribuição por Classe (Violin)\",\n",
    "                        \"yaxis\": {\"title\": feat}\n",
    "                    }\n",
    "                ],\n",
    "            ) for feat in features\n",
    "        ],\n",
    "        direction=\"down\",\n",
    "        showactive=True,\n",
    "        x=0.02, y=1.15\n",
    "    )\n",
    "]\n",
    "fig.update_layout(updatemenus=updatemenus)\n",
    "fig.show()\n"
   ]
  },
  {
   "cell_type": "markdown",
   "id": "65d1ac54",
   "metadata": {},
   "source": [
    "## 2. DATA PARTITIONING\n",
    "Nesta secção dividimos os dados para 70% para treino e 30% para teste"
   ]
  },
  {
   "cell_type": "code",
   "execution_count": 49,
   "id": "85a2c4de",
   "metadata": {},
   "outputs": [
    {
     "name": "stdout",
     "output_type": "stream",
     "text": [
      "\n",
      "========== DATA PARTITIONING ==========\n",
      "Train shape: (81, 9)  Test shape: (35, 9)\n",
      "\n",
      "Distribuição por classe – TOTAL:\n",
      "                 count   perc\n",
      "Classification              \n",
      "1                  52  44.8%\n",
      "2                  64  55.2%\n",
      "\n",
      "Distribuição por classe – TREINO:\n",
      "                 count   perc\n",
      "Classification              \n",
      "1                  36  44.4%\n",
      "2                  45  55.6%\n",
      "\n",
      "Distribuição por classe – TESTE:\n",
      "                 count   perc\n",
      "Classification              \n",
      "1                  16  45.7%\n",
      "2                  19  54.3%\n"
     ]
    },
    {
     "data": {
      "image/png": "[encoded data removed]",
      "text/plain": [
       "<Figure size 1000x400 with 2 Axes>"
      ]
     },
     "metadata": {},
     "output_type": "display_data"
    }
   ],
   "source": [
    "print(\"\\n========== DATA PARTITIONING ==========\")\n",
    "\n",
    "y = data['Classification']\n",
    "X = data.drop(columns=['Classification'])\n",
    "\n",
    "X_train, X_test, y_train, y_test = train_test_split(\n",
    "    X, y, test_size=0.30, stratify=y, random_state=42, shuffle=True\n",
    ")\n",
    "print(\"Train shape:\", X_train.shape, \" Test shape:\", X_test.shape)\n",
    "\n",
    "def _dist_df(yv):\n",
    "    vc = yv.value_counts().sort_index()\n",
    "    return pd.DataFrame({'count': vc, 'perc': (vc/vc.sum()).map(lambda v: f\"{v:.1%}\")})\n",
    "\n",
    "print(\"\\nDistribuição por classe – TOTAL:\\n\", _dist_df(y))\n",
    "print(\"\\nDistribuição por classe – TREINO:\\n\", _dist_df(y_train))\n",
    "print(\"\\nDistribuição por classe – TESTE:\\n\", _dist_df(y_test))\n",
    "\n",
    "scaler = StandardScaler()\n",
    "X_train_std = pd.DataFrame(scaler.fit_transform(X_train), index=X_train.index, columns=X_train.columns)\n",
    "X_test_std  = pd.DataFrame(scaler.transform(X_test), index=X_test.index, columns=X_test.columns)\n",
    "\n",
    "fig, axes = plt.subplots(1, 2, figsize=(10, 4), sharey=True)\n",
    "train_counts = y_train.value_counts().sort_index()\n",
    "axes[0].bar(train_counts.index, train_counts.values, color=['green','red'])\n",
    "axes[0].set_title('Treino – Distribuição de Classes', fontweight='bold')\n",
    "axes[0].set_xlabel('Classes', fontweight='bold'); axes[0].set_ylabel('Nº Amostras', fontweight='bold')\n",
    "axes[0].set_xticks([1,2]); axes[0].set_xticklabels(['Saudável','Cancro'], fontweight='bold')\n",
    "for i, v in enumerate(train_counts.values): axes[0].text(i+1, v + 0.5, str(v), ha='center', fontweight='bold')\n",
    "\n",
    "test_counts = y_test.value_counts().sort_index()\n",
    "axes[1].bar(test_counts.index, test_counts.values, color=['green','red'])\n",
    "axes[1].set_title('Teste – Distribuição de Classes', fontweight='bold')\n",
    "axes[1].set_xlabel('Classes', fontweight='bold')\n",
    "axes[1].set_xticks([1,2]); axes[1].set_xticklabels(['Saudável','Cancro'], fontweight='bold')\n",
    "for i, v in enumerate(test_counts.values): axes[1].text(i+1, v + 0.5, str(v), ha='center', fontweight='bold')\n",
    "plt.tight_layout(); plt.show()\n"
   ]
  },
  {
   "cell_type": "markdown",
   "id": "aee79c76",
   "metadata": {},
   "source": [
    "## 3. KRUSSKAL-WALLIS e MATRIZ DE CORRELAÇÃO\n",
    "Aqu com os dados de treino faço o Kruskal–Wallis para cada categoria e escolho as 5 categorias q tem mais H para fazer a mariz de correlação."
   ]
  },
  {
   "cell_type": "code",
   "execution_count": 50,
   "id": "a76b168c",
   "metadata": {},
   "outputs": [
    {
     "name": "stdout",
     "output_type": "stream",
     "text": [
      "\n",
      "========== KRUSKAL–WALLIS (Treino) ==========\n",
      "\n",
      "Ranked features (by H):\n",
      "Glucose: H=19.640129  p=9.35e-06\n",
      "Resistin: H=7.649593  p=0.00568\n",
      "HOMA: H=5.645890  p=0.0175\n",
      "Insulin: H=3.058390  p=0.0803\n",
      "Age: H=1.015856  p=0.314\n",
      "BMI: H=0.474830  p=0.491\n",
      "MCP.1: H=0.216902  p=0.641\n",
      "Adiponectin: H=0.070822  p=0.79\n",
      "Leptin: H=0.000000  p=1\n"
     ]
    },
    {
     "data": {
      "text/html": [
       "<div>\n",
       "<style scoped>\n",
       "    .dataframe tbody tr th:only-of-type {\n",
       "        vertical-align: middle;\n",
       "    }\n",
       "\n",
       "    .dataframe tbody tr th {\n",
       "        vertical-align: top;\n",
       "    }\n",
       "\n",
       "    .dataframe thead th {\n",
       "        text-align: right;\n",
       "    }\n",
       "</style>\n",
       "<table border=\"1\" class=\"dataframe\">\n",
       "  <thead>\n",
       "    <tr style=\"text-align: right;\">\n",
       "      <th></th>\n",
       "      <th>feature</th>\n",
       "      <th>H</th>\n",
       "      <th>p_value</th>\n",
       "    </tr>\n",
       "  </thead>\n",
       "  <tbody>\n",
       "    <tr>\n",
       "      <th>0</th>\n",
       "      <td>Glucose</td>\n",
       "      <td>19.640129</td>\n",
       "      <td>0.000009</td>\n",
       "    </tr>\n",
       "    <tr>\n",
       "      <th>1</th>\n",
       "      <td>Resistin</td>\n",
       "      <td>7.649593</td>\n",
       "      <td>0.005679</td>\n",
       "    </tr>\n",
       "    <tr>\n",
       "      <th>2</th>\n",
       "      <td>HOMA</td>\n",
       "      <td>5.645890</td>\n",
       "      <td>0.017496</td>\n",
       "    </tr>\n",
       "    <tr>\n",
       "      <th>3</th>\n",
       "      <td>Insulin</td>\n",
       "      <td>3.058390</td>\n",
       "      <td>0.080321</td>\n",
       "    </tr>\n",
       "    <tr>\n",
       "      <th>4</th>\n",
       "      <td>Age</td>\n",
       "      <td>1.015856</td>\n",
       "      <td>0.313504</td>\n",
       "    </tr>\n",
       "    <tr>\n",
       "      <th>5</th>\n",
       "      <td>BMI</td>\n",
       "      <td>0.474830</td>\n",
       "      <td>0.490773</td>\n",
       "    </tr>\n",
       "    <tr>\n",
       "      <th>6</th>\n",
       "      <td>MCP.1</td>\n",
       "      <td>0.216902</td>\n",
       "      <td>0.641410</td>\n",
       "    </tr>\n",
       "    <tr>\n",
       "      <th>7</th>\n",
       "      <td>Adiponectin</td>\n",
       "      <td>0.070822</td>\n",
       "      <td>0.790144</td>\n",
       "    </tr>\n",
       "    <tr>\n",
       "      <th>8</th>\n",
       "      <td>Leptin</td>\n",
       "      <td>0.000000</td>\n",
       "      <td>1.000000</td>\n",
       "    </tr>\n",
       "  </tbody>\n",
       "</table>\n",
       "</div>"
      ],
      "text/plain": [
       "       feature          H   p_value\n",
       "0      Glucose  19.640129  0.000009\n",
       "1     Resistin   7.649593  0.005679\n",
       "2         HOMA   5.645890  0.017496\n",
       "3      Insulin   3.058390  0.080321\n",
       "4          Age   1.015856  0.313504\n",
       "5          BMI   0.474830  0.490773\n",
       "6        MCP.1   0.216902  0.641410\n",
       "7  Adiponectin   0.070822  0.790144\n",
       "8       Leptin   0.000000  1.000000"
      ]
     },
     "metadata": {},
     "output_type": "display_data"
    },
    {
     "data": {
      "image/png": "[encoded data removed]",
      "text/plain": [
       "<Figure size 600x500 with 2 Axes>"
      ]
     },
     "metadata": {},
     "output_type": "display_data"
    }
   ],
   "source": [
    "\n",
    "print(\"\\n========== KRUSKAL–WALLIS (Treino) ==========\")\n",
    "\n",
    "X_kw = X_train.astype(float)\n",
    "y_kw = y_train.copy()\n",
    "classes_sorted = sorted(y_kw.unique())\n",
    "group_idx = {c: np.where(y_kw.values == c)[0] for c in classes_sorted}\n",
    "\n",
    "Hs, Ps = {}, {}\n",
    "fnames = X_kw.columns.tolist(); X_np = X_kw.to_numpy()\n",
    "for i, fname in enumerate(fnames):\n",
    "    groups = [X_np[group_idx[c], i].flatten() for c in classes_sorted]\n",
    "    st = stats.kruskal(*groups)\n",
    "    Hs[fname] = st.statistic; Ps[fname] = st.pvalue\n",
    "\n",
    "ranked = sorted(Hs.items(), key=lambda x: x[1], reverse=True)\n",
    "print(\"\\nRanked features (by H):\")\n",
    "for f, h in ranked: print(f\"{f}: H={h:.6f}  p={Ps[f]:.3g}\")\n",
    "\n",
    "k_top = min(10, len(ranked))\n",
    "res_df = pd.DataFrame([(f, Hs[f], Ps[f]) for f, _ in ranked[:k_top]], columns=[\"feature\", \"H\", \"p_value\"])\n",
    "display(res_df)\n",
    "\n",
    "k_corr = min(5, len(ranked))\n",
    "top_feats = [f for f, _ in ranked[:k_corr]]\n",
    "corrM = X_kw[top_feats].corr().to_numpy()\n",
    "\n",
    "fig, ax = plt.subplots(figsize=(6,5))\n",
    "im = ax.imshow(corrM, vmin=-1, vmax=1, cmap='gray', aspect='equal')\n",
    "ax.set_xticks(range(k_corr)); ax.set_yticks(range(k_corr))\n",
    "ax.set_xticklabels(top_feats, rotation=45, ha='right'); ax.set_yticklabels(top_feats)\n",
    "ax.set_title(\"Correlação – Top features (Kruskal)\")\n",
    "cbar = plt.colorbar(im, ax=ax); cbar.set_label(\"Correlation\")\n",
    "for i in range(k_corr):\n",
    "    for j in range(k_corr):\n",
    "        ax.text(j, i, f\"{corrM[i,j]:.3f}\", ha='center', va='center', fontsize=8)\n",
    "plt.tight_layout(); plt.show()\n"
   ]
  },
  {
   "cell_type": "markdown",
   "id": "6fd5ff69",
   "metadata": {},
   "source": [
    "## 4. ROC\n",
    "Nos dados de treino, calculei a ROC e a AUC de cada variável, ordenei-as por AUC, comparei o Top-5 com o do Kruskal e desenhei as ROC das 5 melhores."
   ]
  },
  {
   "cell_type": "code",
   "execution_count": 51,
   "id": "f7780d8f",
   "metadata": {},
   "outputs": [
    {
     "name": "stdout",
     "output_type": "stream",
     "text": [
      "\n",
      "========== ROC–AUC por feature (Treino) ==========\n",
      "\n",
      "=== Ranking por AUC (treino) ===\n",
      "Glucose       AUC=0.7877\n",
      "Resistin      AUC=0.6796\n",
      "HOMA          AUC=0.6543\n",
      "Insulin       AUC=0.6136\n",
      "MCP.1         AUC=0.5302\n",
      "Leptin        AUC=0.5000\n",
      "Adiponectin   AUC=0.4827\n",
      "BMI           AUC=0.4552\n",
      "Age           AUC=0.4346\n",
      "\n",
      "=== Comparação: top-5 AUC vs top-5 Kruskal (H) ===\n",
      "Top-5 AUC     : ['Glucose', 'Resistin', 'HOMA', 'Insulin', 'MCP.1']\n",
      "Top-5 Kruskal : ['Glucose', 'Resistin', 'HOMA', 'Insulin', 'Age']\n"
     ]
    },
    {
     "data": {
      "image/png": "[encoded data removed]",
      "text/plain": [
       "<Figure size 650x550 with 1 Axes>"
      ]
     },
     "metadata": {},
     "output_type": "display_data"
    }
   ],
   "source": [
    "\n",
    "print(\"\\n========== ROC–AUC por feature (Treino) ==========\")\n",
    "\n",
    "y_train_bin = (y_train == 2).astype(int).values\n",
    "roc_points, roc_auc_dict = {}, {}\n",
    "\n",
    "for f in X_train.columns:\n",
    "    scores = X_train[f].values  \n",
    "    fpr, tpr, thr = roc_curve(y_train_bin, scores, pos_label=1)\n",
    "    roc_points[f] = (fpr, tpr)\n",
    "    roc_auc_dict[f] = auc(fpr, tpr)\n",
    "\n",
    "rank_auc = sorted(roc_auc_dict.items(), key=lambda x: x[1], reverse=True)\n",
    "\n",
    "print(\"\\n=== Ranking por AUC (treino) ===\")\n",
    "for feat, a in rank_auc:\n",
    "    print(f\"{feat:12s}  AUC={a:.4f}\")\n",
    "\n",
    "print(\"\\n=== Comparação: top-5 AUC vs top-5 Kruskal (H) ===\")\n",
    "top5_auc = [f for f,_ in rank_auc[:5]]\n",
    "top5_kw  = [f for f,_ in ranked[:5]]\n",
    "print(\"Top-5 AUC     :\", top5_auc)\n",
    "print(\"Top-5 Kruskal :\", [f for f,_ in sorted([(f,0) for f,_ in ranked], key=lambda x: 0, reverse=False)[:5]])  \n",
    "\n",
    "top_k = min(5, len(rank_auc))\n",
    "top_features_auc_train = [feat for feat, _ in rank_auc[:top_k]]\n",
    "\n",
    "plt.figure(figsize=(6.5,5.5))\n",
    "for feat in top_features_auc_train:\n",
    "    fpr, tpr = roc_points[feat]\n",
    "    plt.plot(fpr, tpr, linewidth=1.8, label=f\"{feat} (AUC={roc_auc_dict[feat]:.2f})\")\n",
    "plt.plot([0,1], [0,1], '--', linewidth=1)\n",
    "plt.xlim([-0.01, 1.01]); plt.ylim([-0.01, 1.01])\n",
    "plt.xlabel(\"1 - Especificidade (FPR)\", fontweight='bold')\n",
    "plt.ylabel(\"Sensibilidade (TPR)\", fontweight='bold')\n",
    "plt.title(\"Curvas ROC – Treino (por feature)\", fontweight='bold')\n",
    "plt.legend(loc='lower right'); plt.tight_layout(); plt.show()\n"
   ]
  },
  {
   "cell_type": "markdown",
   "id": "99edb590",
   "metadata": {},
   "source": [
    "## 5.PCA\n",
    "Aqui fiz o PCA só no treino, imprimi os autovalores e os autovetores, mostrei o scree plot com a regra de Kaiser (λ=1) e projetei os dados do treino na PC1."
   ]
  },
  {
   "cell_type": "code",
   "execution_count": 52,
   "id": "a3e6af18",
   "metadata": {},
   "outputs": [
    {
     "name": "stdout",
     "output_type": "stream",
     "text": [
      "\n",
      "========== PCA (Análise — estilo prof) ==========\n",
      "PCA eigenvalues/Explained variance\n",
      "[2.95769533 1.54052744 1.31317495 1.16978379 0.76322714 0.58833957\n",
      " 0.4601659  0.28713676 0.03244912]\n",
      "Sum of eigenvalues=9.112499999999995\n",
      "PCA eigenvectors/Principal components\n",
      "[[ 1.19723412e-01 -1.96730661e-01  1.49601889e-01  7.82317218e-01\n",
      "   2.80277259e-01  2.59451290e-01 -3.22057471e-01 -2.49302854e-01\n",
      "  -2.86208889e-02]\n",
      " [ 2.94534213e-01 -3.89337854e-01  3.93700669e-01 -2.96342279e-01\n",
      "  -2.75022087e-01  2.77944858e-01  2.23259291e-01 -5.59593858e-01\n",
      "   5.44626446e-02]\n",
      " [ 4.30208489e-01  1.37051347e-01 -9.41283461e-02  1.06715490e-01\n",
      "   4.93860123e-01 -8.53083303e-02  6.89954041e-01 -2.28330002e-02\n",
      "  -2.19444721e-01]\n",
      " [ 4.52906489e-01  3.98829166e-01  6.57285172e-04 -1.84275898e-02\n",
      "  -3.21081455e-01 -1.27651216e-01 -3.44979859e-01 -1.32087052e-01\n",
      "  -6.16136976e-01]\n",
      " [ 5.01125868e-01  3.80578921e-01 -7.57033463e-02  5.80280920e-02\n",
      "  -9.33397284e-02 -7.81853232e-02 -1.12823889e-01 -4.98424630e-02\n",
      "   7.51595332e-01]\n",
      " [ 3.11226170e-01 -1.49099713e-01  6.12596598e-01 -1.69727416e-01\n",
      "   2.14389700e-01  4.11322238e-02 -1.86217263e-01  6.27960867e-01\n",
      "  -1.26109523e-02]\n",
      " [-2.02908981e-01  4.76266758e-01  1.21655146e-01 -3.77475456e-01\n",
      "   5.11938847e-01  4.36012390e-01 -2.16729829e-01 -2.74791800e-01\n",
      "  -6.29975603e-03]\n",
      " [ 2.09946673e-01 -4.43194577e-01 -3.23814893e-01 -3.19484189e-01\n",
      "   4.18067713e-01 -4.23184570e-01 -3.92539136e-01 -2.10927501e-01\n",
      "   1.14696809e-02]\n",
      " [ 2.74724855e-01 -2.03820531e-01 -5.59550563e-01 -1.08169914e-01\n",
      "  -8.53178964e-02  6.74434986e-01 -5.40527617e-02  2.99857301e-01\n",
      "  -5.66399715e-02]]\n"
     ]
    },
    {
     "data": {
      "application/vnd.plotly.v1+json": {
       "config": {
        "plotlyServerURL": "https://plot.ly"
       },
       "data": [
        {
         "hovertemplate": "PC=%{x}<br>Explained Variance (λ)=%{y}<extra></extra>",
         "legendgroup": "",
         "marker": {
          "color": "#636efa",
          "size": 9,
          "symbol": "circle"
         },
         "mode": "markers",
         "name": "",
         "orientation": "v",
         "showlegend": false,
         "type": "scatter",
         "x": {
          "bdata": "AQIDBAUGBwgJ",
          "dtype": "i1"
         },
         "xaxis": "x",
         "y": {
          "bdata": "CQvqKlypB0Bd0voYAKb4P6zU77vDAvU/Nk1SNG+38j//MvxUW2zoP8rJCYSt0+I/KAxzr1tz3T/eOozfcmDSP1tIHq8rnaA/",
          "dtype": "f8"
         },
         "yaxis": "y"
        }
       ],
       "layout": {
        "annotations": [
         {
          "showarrow": false,
          "text": "Kaiser λ=1",
          "x": 0,
          "xanchor": "left",
          "xref": "x domain",
          "y": 1,
          "yanchor": "bottom",
          "yref": "y"
         }
        ],
        "legend": {
         "tracegroupgap": 0
        },
        "shapes": [
         {
          "line": {
           "color": "red",
           "dash": "dash",
           "width": 2
          },
          "type": "line",
          "x0": 0,
          "x1": 1,
          "xref": "x domain",
          "y0": 1,
          "y1": 1,
          "yref": "y"
         }
        ],
        "template": {
         "data": {
          "bar": [
           {
            "error_x": {
             "color": "#2a3f5f"
            },
            "error_y": {
             "color": "#2a3f5f"
            },
            "marker": {
             "line": {
              "color": "#E5ECF6",
              "width": 0.5
             },
             "pattern": {
              "fillmode": "overlay",
              "size": 10,
              "solidity": 0.2
             }
            },
            "type": "bar"
           }
          ],
          "barpolar": [
           {
            "marker": {
             "line": {
              "color": "#E5ECF6",
              "width": 0.5
             },
             "pattern": {
              "fillmode": "overlay",
              "size": 10,
              "solidity": 0.2
             }
            },
            "type": "barpolar"
           }
          ],
          "carpet": [
           {
            "aaxis": {
             "endlinecolor": "#2a3f5f",
             "gridcolor": "white",
             "linecolor": "white",
             "minorgridcolor": "white",
             "startlinecolor": "#2a3f5f"
            },
            "baxis": {
             "endlinecolor": "#2a3f5f",
             "gridcolor": "white",
             "linecolor": "white",
             "minorgridcolor": "white",
             "startlinecolor": "#2a3f5f"
            },
            "type": "carpet"
           }
          ],
          "choropleth": [
           {
            "colorbar": {
             "outlinewidth": 0,
             "ticks": ""
            },
            "type": "choropleth"
           }
          ],
          "contour": [
           {
            "colorbar": {
             "outlinewidth": 0,
             "ticks": ""
            },
            "colorscale": [
             [
              0,
              "#0d0887"
             ],
             [
              0.1111111111111111,
              "#46039f"
             ],
             [
              0.2222222222222222,
              "#7201a8"
             ],
             [
              0.3333333333333333,
              "#9c179e"
             ],
             [
              0.4444444444444444,
              "#bd3786"
             ],
             [
              0.5555555555555556,
              "#d8576b"
             ],
             [
              0.6666666666666666,
              "#ed7953"
             ],
             [
              0.7777777777777778,
              "#fb9f3a"
             ],
             [
              0.8888888888888888,
              "#fdca26"
             ],
             [
              1,
              "#f0f921"
             ]
            ],
            "type": "contour"
           }
          ],
          "contourcarpet": [
           {
            "colorbar": {
             "outlinewidth": 0,
             "ticks": ""
            },
            "type": "contourcarpet"
           }
          ],
          "heatmap": [
           {
            "colorbar": {
             "outlinewidth": 0,
             "ticks": ""
            },
            "colorscale": [
             [
              0,
              "#0d0887"
             ],
             [
              0.1111111111111111,
              "#46039f"
             ],
             [
              0.2222222222222222,
              "#7201a8"
             ],
             [
              0.3333333333333333,
              "#9c179e"
             ],
             [
              0.4444444444444444,
              "#bd3786"
             ],
             [
              0.5555555555555556,
              "#d8576b"
             ],
             [
              0.6666666666666666,
              "#ed7953"
             ],
             [
              0.7777777777777778,
              "#fb9f3a"
             ],
             [
              0.8888888888888888,
              "#fdca26"
             ],
             [
              1,
              "#f0f921"
             ]
            ],
            "type": "heatmap"
           }
          ],
          "histogram": [
           {
            "marker": {
             "pattern": {
              "fillmode": "overlay",
              "size": 10,
              "solidity": 0.2
             }
            },
            "type": "histogram"
           }
          ],
          "histogram2d": [
           {
            "colorbar": {
             "outlinewidth": 0,
             "ticks": ""
            },
            "colorscale": [
             [
              0,
              "#0d0887"
             ],
             [
              0.1111111111111111,
              "#46039f"
             ],
             [
              0.2222222222222222,
              "#7201a8"
             ],
             [
              0.3333333333333333,
              "#9c179e"
             ],
             [
              0.4444444444444444,
              "#bd3786"
             ],
             [
              0.5555555555555556,
              "#d8576b"
             ],
             [
              0.6666666666666666,
              "#ed7953"
             ],
             [
              0.7777777777777778,
              "#fb9f3a"
             ],
             [
              0.8888888888888888,
              "#fdca26"
             ],
             [
              1,
              "#f0f921"
             ]
            ],
            "type": "histogram2d"
           }
          ],
          "histogram2dcontour": [
           {
            "colorbar": {
             "outlinewidth": 0,
             "ticks": ""
            },
            "colorscale": [
             [
              0,
              "#0d0887"
             ],
             [
              0.1111111111111111,
              "#46039f"
             ],
             [
              0.2222222222222222,
              "#7201a8"
             ],
             [
              0.3333333333333333,
              "#9c179e"
             ],
             [
              0.4444444444444444,
              "#bd3786"
             ],
             [
              0.5555555555555556,
              "#d8576b"
             ],
             [
              0.6666666666666666,
              "#ed7953"
             ],
             [
              0.7777777777777778,
              "#fb9f3a"
             ],
             [
              0.8888888888888888,
              "#fdca26"
             ],
             [
              1,
              "#f0f921"
             ]
            ],
            "type": "histogram2dcontour"
           }
          ],
          "mesh3d": [
           {
            "colorbar": {
             "outlinewidth": 0,
             "ticks": ""
            },
            "type": "mesh3d"
           }
          ],
          "parcoords": [
           {
            "line": {
             "colorbar": {
              "outlinewidth": 0,
              "ticks": ""
             }
            },
            "type": "parcoords"
           }
          ],
          "pie": [
           {
            "automargin": true,
            "type": "pie"
           }
          ],
          "scatter": [
           {
            "fillpattern": {
             "fillmode": "overlay",
             "size": 10,
             "solidity": 0.2
            },
            "type": "scatter"
           }
          ],
          "scatter3d": [
           {
            "line": {
             "colorbar": {
              "outlinewidth": 0,
              "ticks": ""
             }
            },
            "marker": {
             "colorbar": {
              "outlinewidth": 0,
              "ticks": ""
             }
            },
            "type": "scatter3d"
           }
          ],
          "scattercarpet": [
           {
            "marker": {
             "colorbar": {
              "outlinewidth": 0,
              "ticks": ""
             }
            },
            "type": "scattercarpet"
           }
          ],
          "scattergeo": [
           {
            "marker": {
             "colorbar": {
              "outlinewidth": 0,
              "ticks": ""
             }
            },
            "type": "scattergeo"
           }
          ],
          "scattergl": [
           {
            "marker": {
             "colorbar": {
              "outlinewidth": 0,
              "ticks": ""
             }
            },
            "type": "scattergl"
           }
          ],
          "scattermap": [
           {
            "marker": {
             "colorbar": {
              "outlinewidth": 0,
              "ticks": ""
             }
            },
            "type": "scattermap"
           }
          ],
          "scattermapbox": [
           {
            "marker": {
             "colorbar": {
              "outlinewidth": 0,
              "ticks": ""
             }
            },
            "type": "scattermapbox"
           }
          ],
          "scatterpolar": [
           {
            "marker": {
             "colorbar": {
              "outlinewidth": 0,
              "ticks": ""
             }
            },
            "type": "scatterpolar"
           }
          ],
          "scatterpolargl": [
           {
            "marker": {
             "colorbar": {
              "outlinewidth": 0,
              "ticks": ""
             }
            },
            "type": "scatterpolargl"
           }
          ],
          "scatterternary": [
           {
            "marker": {
             "colorbar": {
              "outlinewidth": 0,
              "ticks": ""
             }
            },
            "type": "scatterternary"
           }
          ],
          "surface": [
           {
            "colorbar": {
             "outlinewidth": 0,
             "ticks": ""
            },
            "colorscale": [
             [
              0,
              "#0d0887"
             ],
             [
              0.1111111111111111,
              "#46039f"
             ],
             [
              0.2222222222222222,
              "#7201a8"
             ],
             [
              0.3333333333333333,
              "#9c179e"
             ],
             [
              0.4444444444444444,
              "#bd3786"
             ],
             [
              0.5555555555555556,
              "#d8576b"
             ],
             [
              0.6666666666666666,
              "#ed7953"
             ],
             [
              0.7777777777777778,
              "#fb9f3a"
             ],
             [
              0.8888888888888888,
              "#fdca26"
             ],
             [
              1,
              "#f0f921"
             ]
            ],
            "type": "surface"
           }
          ],
          "table": [
           {
            "cells": {
             "fill": {
              "color": "#EBF0F8"
             },
             "line": {
              "color": "white"
             }
            },
            "header": {
             "fill": {
              "color": "#C8D4E3"
             },
             "line": {
              "color": "white"
             }
            },
            "type": "table"
           }
          ]
         },
         "layout": {
          "annotationdefaults": {
           "arrowcolor": "#2a3f5f",
           "arrowhead": 0,
           "arrowwidth": 1
          },
          "autotypenumbers": "strict",
          "coloraxis": {
           "colorbar": {
            "outlinewidth": 0,
            "ticks": ""
           }
          },
          "colorscale": {
           "diverging": [
            [
             0,
             "#8e0152"
            ],
            [
             0.1,
             "#c51b7d"
            ],
            [
             0.2,
             "#de77ae"
            ],
            [
             0.3,
             "#f1b6da"
            ],
            [
             0.4,
             "#fde0ef"
            ],
            [
             0.5,
             "#f7f7f7"
            ],
            [
             0.6,
             "#e6f5d0"
            ],
            [
             0.7,
             "#b8e186"
            ],
            [
             0.8,
             "#7fbc41"
            ],
            [
             0.9,
             "#4d9221"
            ],
            [
             1,
             "#276419"
            ]
           ],
           "sequential": [
            [
             0,
             "#0d0887"
            ],
            [
             0.1111111111111111,
             "#46039f"
            ],
            [
             0.2222222222222222,
             "#7201a8"
            ],
            [
             0.3333333333333333,
             "#9c179e"
            ],
            [
             0.4444444444444444,
             "#bd3786"
            ],
            [
             0.5555555555555556,
             "#d8576b"
            ],
            [
             0.6666666666666666,
             "#ed7953"
            ],
            [
             0.7777777777777778,
             "#fb9f3a"
            ],
            [
             0.8888888888888888,
             "#fdca26"
            ],
            [
             1,
             "#f0f921"
            ]
           ],
           "sequentialminus": [
            [
             0,
             "#0d0887"
            ],
            [
             0.1111111111111111,
             "#46039f"
            ],
            [
             0.2222222222222222,
             "#7201a8"
            ],
            [
             0.3333333333333333,
             "#9c179e"
            ],
            [
             0.4444444444444444,
             "#bd3786"
            ],
            [
             0.5555555555555556,
             "#d8576b"
            ],
            [
             0.6666666666666666,
             "#ed7953"
            ],
            [
             0.7777777777777778,
             "#fb9f3a"
            ],
            [
             0.8888888888888888,
             "#fdca26"
            ],
            [
             1,
             "#f0f921"
            ]
           ]
          },
          "colorway": [
           "#636efa",
           "#EF553B",
           "#00cc96",
           "#ab63fa",
           "#FFA15A",
           "#19d3f3",
           "#FF6692",
           "#B6E880",
           "#FF97FF",
           "#FECB52"
          ],
          "font": {
           "color": "#2a3f5f"
          },
          "geo": {
           "bgcolor": "white",
           "lakecolor": "white",
           "landcolor": "#E5ECF6",
           "showlakes": true,
           "showland": true,
           "subunitcolor": "white"
          },
          "hoverlabel": {
           "align": "left"
          },
          "hovermode": "closest",
          "mapbox": {
           "style": "light"
          },
          "paper_bgcolor": "white",
          "plot_bgcolor": "#E5ECF6",
          "polar": {
           "angularaxis": {
            "gridcolor": "white",
            "linecolor": "white",
            "ticks": ""
           },
           "bgcolor": "#E5ECF6",
           "radialaxis": {
            "gridcolor": "white",
            "linecolor": "white",
            "ticks": ""
           }
          },
          "scene": {
           "xaxis": {
            "backgroundcolor": "#E5ECF6",
            "gridcolor": "white",
            "gridwidth": 2,
            "linecolor": "white",
            "showbackground": true,
            "ticks": "",
            "zerolinecolor": "white"
           },
           "yaxis": {
            "backgroundcolor": "#E5ECF6",
            "gridcolor": "white",
            "gridwidth": 2,
            "linecolor": "white",
            "showbackground": true,
            "ticks": "",
            "zerolinecolor": "white"
           },
           "zaxis": {
            "backgroundcolor": "#E5ECF6",
            "gridcolor": "white",
            "gridwidth": 2,
            "linecolor": "white",
            "showbackground": true,
            "ticks": "",
            "zerolinecolor": "white"
           }
          },
          "shapedefaults": {
           "line": {
            "color": "#2a3f5f"
           }
          },
          "ternary": {
           "aaxis": {
            "gridcolor": "white",
            "linecolor": "white",
            "ticks": ""
           },
           "baxis": {
            "gridcolor": "white",
            "linecolor": "white",
            "ticks": ""
           },
           "bgcolor": "#E5ECF6",
           "caxis": {
            "gridcolor": "white",
            "linecolor": "white",
            "ticks": ""
           }
          },
          "title": {
           "x": 0.05
          },
          "xaxis": {
           "automargin": true,
           "gridcolor": "white",
           "linecolor": "white",
           "ticks": "",
           "title": {
            "standoff": 15
           },
           "zerolinecolor": "white",
           "zerolinewidth": 2
          },
          "yaxis": {
           "automargin": true,
           "gridcolor": "white",
           "linecolor": "white",
           "ticks": "",
           "title": {
            "standoff": 15
           },
           "zerolinecolor": "white",
           "zerolinewidth": 2
          }
         }
        },
        "title": {
         "text": "Scree plot (autovalores)"
        },
        "xaxis": {
         "anchor": "y",
         "domain": [
          0,
          1
         ],
         "dtick": 1,
         "title": {
          "text": "PC"
         }
        },
        "yaxis": {
         "anchor": "x",
         "domain": [
          0,
          1
         ],
         "title": {
          "text": "Explained Variance (λ)"
         }
        }
       }
      }
     },
     "metadata": {},
     "output_type": "display_data"
    },
    {
     "name": "stdout",
     "output_type": "stream",
     "text": [
      "(81, 1)\n"
     ]
    },
    {
     "data": {
      "application/vnd.plotly.v1+json": {
       "config": {
        "plotlyServerURL": "https://plot.ly"
       },
       "data": [
        {
         "hovertemplate": "Classe=Saudável<br>PC1=%{x}<br>=%{y}<extra></extra>",
         "legendgroup": "Saudável",
         "marker": {
          "color": "#636efa",
          "size": 8,
          "symbol": "circle"
         },
         "mode": "markers",
         "name": "Saudável",
         "orientation": "v",
         "showlegend": true,
         "type": "scatter",
         "x": {
          "bdata": "TTNfqdME8L9En9G6f7/uv3NuFlEMYeI/Nst9l+zh/z/Evvblb87Qv6Aks4N1Fsw/r8CNPjbd9z+1jDucUTgFwOLuvudIuOo/s32zTuAYAkDnI5Zy1MQDwP+K418Ypfc/t1TtHXXu+b/i9F3Ok13RP02Hss7yBwDAdNHfxvHy9b95x+wD+HcAwM99fRA3kbI/xslaF0ccAsA2AGwbsUTRP79tr8/J0vA/A467xP7q8b+2zdAUM4D0v57y9KyYLKo/lnEhUGh45b/92ydcYmvovwFkKEpkh+a/fYW52l9O7T/ICiX6/SEBwOgtLXtSP+u/CFQv/CMc97/DfjIFcyHZv7fVS3YZteO/T3dwIWDj+r9rkXXROv7kP5u9m/8MfQDA",
          "dtype": "f8"
         },
         "xaxis": "x",
         "y": {
          "bdata": "AAAAAAAAAAAAAAAAAAAAAAAAAAAAAAAAAAAAAAAAAAAAAAAAAAAAAAAAAAAAAAAAAAAAAAAAAAAAAAAAAAAAAAAAAAAAAAAAAAAAAAAAAAAAAAAAAAAAAAAAAAAAAAAAAAAAAAAAAAAAAAAAAAAAAAAAAAAAAAAAAAAAAAAAAAAAAAAAAAAAAAAAAAAAAAAAAAAAAAAAAAAAAAAAAAAAAAAAAAAAAAAAAAAAAAAAAAAAAAAAAAAAAAAAAAAAAAAAAAAAAAAAAAAAAAAAAAAAAAAAAAAAAAAAAAAAAAAAAAAAAAAAAAAAAAAAAAAAAAAAAAAAAAAAAAAAAAAAAAAAAAAAAAAAAAAAAAAAAAAAAAAAAAAAAAAAAAAAAAAAAAAA",
          "dtype": "f8"
         },
         "yaxis": "y"
        },
        {
         "hovertemplate": "Classe=Cancro<br>PC1=%{x}<br>=%{y}<extra></extra>",
         "legendgroup": "Cancro",
         "marker": {
          "color": "#EF553B",
          "size": 8,
          "symbol": "circle"
         },
         "mode": "markers",
         "name": "Cancro",
         "orientation": "v",
         "showlegend": true,
         "type": "scatter",
         "x": {
          "bdata": "zctykPuRwr/gSIhYOGjfv4At6ck5L+Y/8Lth2X0yEUCsy7bSc/H6P7QOXPGehOm/y09++oah7L9oUJmmtSLsv0P0Pf4wCfc/bqEQYgfc4j8DhB/iHb71v+w+UAgBreQ/M9T5+sEz9r96AoivqZAAQGxKvk04xfA/6jeuADmN4L9UXQZk0K3Zv4LCbm1Zhro/dsgsKP0yoj9yjj7MOrr1v2Bil2CXwum/Hv+gmSef4r9sx4JRRQi7Px9cWCI6ldI/WFmT1JTKCEAi22+AZ0b2v3gjnACALvQ/YWU+AoqH/j8p0GVQ0AgRQCfEl7HRCO8/kCrwhOb28T9fHDS3e9MDQPOJtDU7B9o/5Dzgi3l3oL9+/GpnbFb3v8QGiq3nOPS/Z9HW2d8xAcAUIL1E70/iv6/d9CTiQfa/X8ksDHi0zr/zTBggdoTrv0/5hF0MBM6/0D7GJTj28r+Ar/JLktT+P9SNTWh5bCBA",
          "dtype": "f8"
         },
         "xaxis": "x",
         "y": {
          "bdata": "AAAAAAAAAAAAAAAAAAAAAAAAAAAAAAAAAAAAAAAAAAAAAAAAAAAAAAAAAAAAAAAAAAAAAAAAAAAAAAAAAAAAAAAAAAAAAAAAAAAAAAAAAAAAAAAAAAAAAAAAAAAAAAAAAAAAAAAAAAAAAAAAAAAAAAAAAAAAAAAAAAAAAAAAAAAAAAAAAAAAAAAAAAAAAAAAAAAAAAAAAAAAAAAAAAAAAAAAAAAAAAAAAAAAAAAAAAAAAAAAAAAAAAAAAAAAAAAAAAAAAAAAAAAAAAAAAAAAAAAAAAAAAAAAAAAAAAAAAAAAAAAAAAAAAAAAAAAAAAAAAAAAAAAAAAAAAAAAAAAAAAAAAAAAAAAAAAAAAAAAAAAAAAAAAAAAAAAAAAAAAAAAAAAAAAAAAAAAAAAAAAAAAAAAAAAAAAAAAAAAAAAAAAAAAAAAAAAAAAAAAAAAAAAAAAAAAAAAAAAAAAAAAAAAAAAAAAAAAAAA",
          "dtype": "f8"
         },
         "yaxis": "y"
        }
       ],
       "layout": {
        "legend": {
         "title": {
          "text": "Classe"
         },
         "tracegroupgap": 0
        },
        "margin": {
         "t": 60
        },
        "template": {
         "data": {
          "bar": [
           {
            "error_x": {
             "color": "#2a3f5f"
            },
            "error_y": {
             "color": "#2a3f5f"
            },
            "marker": {
             "line": {
              "color": "#E5ECF6",
              "width": 0.5
             },
             "pattern": {
              "fillmode": "overlay",
              "size": 10,
              "solidity": 0.2
             }
            },
            "type": "bar"
           }
          ],
          "barpolar": [
           {
            "marker": {
             "line": {
              "color": "#E5ECF6",
              "width": 0.5
             },
             "pattern": {
              "fillmode": "overlay",
              "size": 10,
              "solidity": 0.2
             }
            },
            "type": "barpolar"
           }
          ],
          "carpet": [
           {
            "aaxis": {
             "endlinecolor": "#2a3f5f",
             "gridcolor": "white",
             "linecolor": "white",
             "minorgridcolor": "white",
             "startlinecolor": "#2a3f5f"
            },
            "baxis": {
             "endlinecolor": "#2a3f5f",
             "gridcolor": "white",
             "linecolor": "white",
             "minorgridcolor": "white",
             "startlinecolor": "#2a3f5f"
            },
            "type": "carpet"
           }
          ],
          "choropleth": [
           {
            "colorbar": {
             "outlinewidth": 0,
             "ticks": ""
            },
            "type": "choropleth"
           }
          ],
          "contour": [
           {
            "colorbar": {
             "outlinewidth": 0,
             "ticks": ""
            },
            "colorscale": [
             [
              0,
              "#0d0887"
             ],
             [
              0.1111111111111111,
              "#46039f"
             ],
             [
              0.2222222222222222,
              "#7201a8"
             ],
             [
              0.3333333333333333,
              "#9c179e"
             ],
             [
              0.4444444444444444,
              "#bd3786"
             ],
             [
              0.5555555555555556,
              "#d8576b"
             ],
             [
              0.6666666666666666,
              "#ed7953"
             ],
             [
              0.7777777777777778,
              "#fb9f3a"
             ],
             [
              0.8888888888888888,
              "#fdca26"
             ],
             [
              1,
              "#f0f921"
             ]
            ],
            "type": "contour"
           }
          ],
          "contourcarpet": [
           {
            "colorbar": {
             "outlinewidth": 0,
             "ticks": ""
            },
            "type": "contourcarpet"
           }
          ],
          "heatmap": [
           {
            "colorbar": {
             "outlinewidth": 0,
             "ticks": ""
            },
            "colorscale": [
             [
              0,
              "#0d0887"
             ],
             [
              0.1111111111111111,
              "#46039f"
             ],
             [
              0.2222222222222222,
              "#7201a8"
             ],
             [
              0.3333333333333333,
              "#9c179e"
             ],
             [
              0.4444444444444444,
              "#bd3786"
             ],
             [
              0.5555555555555556,
              "#d8576b"
             ],
             [
              0.6666666666666666,
              "#ed7953"
             ],
             [
              0.7777777777777778,
              "#fb9f3a"
             ],
             [
              0.8888888888888888,
              "#fdca26"
             ],
             [
              1,
              "#f0f921"
             ]
            ],
            "type": "heatmap"
           }
          ],
          "histogram": [
           {
            "marker": {
             "pattern": {
              "fillmode": "overlay",
              "size": 10,
              "solidity": 0.2
             }
            },
            "type": "histogram"
           }
          ],
          "histogram2d": [
           {
            "colorbar": {
             "outlinewidth": 0,
             "ticks": ""
            },
            "colorscale": [
             [
              0,
              "#0d0887"
             ],
             [
              0.1111111111111111,
              "#46039f"
             ],
             [
              0.2222222222222222,
              "#7201a8"
             ],
             [
              0.3333333333333333,
              "#9c179e"
             ],
             [
              0.4444444444444444,
              "#bd3786"
             ],
             [
              0.5555555555555556,
              "#d8576b"
             ],
             [
              0.6666666666666666,
              "#ed7953"
             ],
             [
              0.7777777777777778,
              "#fb9f3a"
             ],
             [
              0.8888888888888888,
              "#fdca26"
             ],
             [
              1,
              "#f0f921"
             ]
            ],
            "type": "histogram2d"
           }
          ],
          "histogram2dcontour": [
           {
            "colorbar": {
             "outlinewidth": 0,
             "ticks": ""
            },
            "colorscale": [
             [
              0,
              "#0d0887"
             ],
             [
              0.1111111111111111,
              "#46039f"
             ],
             [
              0.2222222222222222,
              "#7201a8"
             ],
             [
              0.3333333333333333,
              "#9c179e"
             ],
             [
              0.4444444444444444,
              "#bd3786"
             ],
             [
              0.5555555555555556,
              "#d8576b"
             ],
             [
              0.6666666666666666,
              "#ed7953"
             ],
             [
              0.7777777777777778,
              "#fb9f3a"
             ],
             [
              0.8888888888888888,
              "#fdca26"
             ],
             [
              1,
              "#f0f921"
             ]
            ],
            "type": "histogram2dcontour"
           }
          ],
          "mesh3d": [
           {
            "colorbar": {
             "outlinewidth": 0,
             "ticks": ""
            },
            "type": "mesh3d"
           }
          ],
          "parcoords": [
           {
            "line": {
             "colorbar": {
              "outlinewidth": 0,
              "ticks": ""
             }
            },
            "type": "parcoords"
           }
          ],
          "pie": [
           {
            "automargin": true,
            "type": "pie"
           }
          ],
          "scatter": [
           {
            "fillpattern": {
             "fillmode": "overlay",
             "size": 10,
             "solidity": 0.2
            },
            "type": "scatter"
           }
          ],
          "scatter3d": [
           {
            "line": {
             "colorbar": {
              "outlinewidth": 0,
              "ticks": ""
             }
            },
            "marker": {
             "colorbar": {
              "outlinewidth": 0,
              "ticks": ""
             }
            },
            "type": "scatter3d"
           }
          ],
          "scattercarpet": [
           {
            "marker": {
             "colorbar": {
              "outlinewidth": 0,
              "ticks": ""
             }
            },
            "type": "scattercarpet"
           }
          ],
          "scattergeo": [
           {
            "marker": {
             "colorbar": {
              "outlinewidth": 0,
              "ticks": ""
             }
            },
            "type": "scattergeo"
           }
          ],
          "scattergl": [
           {
            "marker": {
             "colorbar": {
              "outlinewidth": 0,
              "ticks": ""
             }
            },
            "type": "scattergl"
           }
          ],
          "scattermap": [
           {
            "marker": {
             "colorbar": {
              "outlinewidth": 0,
              "ticks": ""
             }
            },
            "type": "scattermap"
           }
          ],
          "scattermapbox": [
           {
            "marker": {
             "colorbar": {
              "outlinewidth": 0,
              "ticks": ""
             }
            },
            "type": "scattermapbox"
           }
          ],
          "scatterpolar": [
           {
            "marker": {
             "colorbar": {
              "outlinewidth": 0,
              "ticks": ""
             }
            },
            "type": "scatterpolar"
           }
          ],
          "scatterpolargl": [
           {
            "marker": {
             "colorbar": {
              "outlinewidth": 0,
              "ticks": ""
             }
            },
            "type": "scatterpolargl"
           }
          ],
          "scatterternary": [
           {
            "marker": {
             "colorbar": {
              "outlinewidth": 0,
              "ticks": ""
             }
            },
            "type": "scatterternary"
           }
          ],
          "surface": [
           {
            "colorbar": {
             "outlinewidth": 0,
             "ticks": ""
            },
            "colorscale": [
             [
              0,
              "#0d0887"
             ],
             [
              0.1111111111111111,
              "#46039f"
             ],
             [
              0.2222222222222222,
              "#7201a8"
             ],
             [
              0.3333333333333333,
              "#9c179e"
             ],
             [
              0.4444444444444444,
              "#bd3786"
             ],
             [
              0.5555555555555556,
              "#d8576b"
             ],
             [
              0.6666666666666666,
              "#ed7953"
             ],
             [
              0.7777777777777778,
              "#fb9f3a"
             ],
             [
              0.8888888888888888,
              "#fdca26"
             ],
             [
              1,
              "#f0f921"
             ]
            ],
            "type": "surface"
           }
          ],
          "table": [
           {
            "cells": {
             "fill": {
              "color": "#EBF0F8"
             },
             "line": {
              "color": "white"
             }
            },
            "header": {
             "fill": {
              "color": "#C8D4E3"
             },
             "line": {
              "color": "white"
             }
            },
            "type": "table"
           }
          ]
         },
         "layout": {
          "annotationdefaults": {
           "arrowcolor": "#2a3f5f",
           "arrowhead": 0,
           "arrowwidth": 1
          },
          "autotypenumbers": "strict",
          "coloraxis": {
           "colorbar": {
            "outlinewidth": 0,
            "ticks": ""
           }
          },
          "colorscale": {
           "diverging": [
            [
             0,
             "#8e0152"
            ],
            [
             0.1,
             "#c51b7d"
            ],
            [
             0.2,
             "#de77ae"
            ],
            [
             0.3,
             "#f1b6da"
            ],
            [
             0.4,
             "#fde0ef"
            ],
            [
             0.5,
             "#f7f7f7"
            ],
            [
             0.6,
             "#e6f5d0"
            ],
            [
             0.7,
             "#b8e186"
            ],
            [
             0.8,
             "#7fbc41"
            ],
            [
             0.9,
             "#4d9221"
            ],
            [
             1,
             "#276419"
            ]
           ],
           "sequential": [
            [
             0,
             "#0d0887"
            ],
            [
             0.1111111111111111,
             "#46039f"
            ],
            [
             0.2222222222222222,
             "#7201a8"
            ],
            [
             0.3333333333333333,
             "#9c179e"
            ],
            [
             0.4444444444444444,
             "#bd3786"
            ],
            [
             0.5555555555555556,
             "#d8576b"
            ],
            [
             0.6666666666666666,
             "#ed7953"
            ],
            [
             0.7777777777777778,
             "#fb9f3a"
            ],
            [
             0.8888888888888888,
             "#fdca26"
            ],
            [
             1,
             "#f0f921"
            ]
           ],
           "sequentialminus": [
            [
             0,
             "#0d0887"
            ],
            [
             0.1111111111111111,
             "#46039f"
            ],
            [
             0.2222222222222222,
             "#7201a8"
            ],
            [
             0.3333333333333333,
             "#9c179e"
            ],
            [
             0.4444444444444444,
             "#bd3786"
            ],
            [
             0.5555555555555556,
             "#d8576b"
            ],
            [
             0.6666666666666666,
             "#ed7953"
            ],
            [
             0.7777777777777778,
             "#fb9f3a"
            ],
            [
             0.8888888888888888,
             "#fdca26"
            ],
            [
             1,
             "#f0f921"
            ]
           ]
          },
          "colorway": [
           "#636efa",
           "#EF553B",
           "#00cc96",
           "#ab63fa",
           "#FFA15A",
           "#19d3f3",
           "#FF6692",
           "#B6E880",
           "#FF97FF",
           "#FECB52"
          ],
          "font": {
           "color": "#2a3f5f"
          },
          "geo": {
           "bgcolor": "white",
           "lakecolor": "white",
           "landcolor": "#E5ECF6",
           "showlakes": true,
           "showland": true,
           "subunitcolor": "white"
          },
          "hoverlabel": {
           "align": "left"
          },
          "hovermode": "closest",
          "mapbox": {
           "style": "light"
          },
          "paper_bgcolor": "white",
          "plot_bgcolor": "#E5ECF6",
          "polar": {
           "angularaxis": {
            "gridcolor": "white",
            "linecolor": "white",
            "ticks": ""
           },
           "bgcolor": "#E5ECF6",
           "radialaxis": {
            "gridcolor": "white",
            "linecolor": "white",
            "ticks": ""
           }
          },
          "scene": {
           "xaxis": {
            "backgroundcolor": "#E5ECF6",
            "gridcolor": "white",
            "gridwidth": 2,
            "linecolor": "white",
            "showbackground": true,
            "ticks": "",
            "zerolinecolor": "white"
           },
           "yaxis": {
            "backgroundcolor": "#E5ECF6",
            "gridcolor": "white",
            "gridwidth": 2,
            "linecolor": "white",
            "showbackground": true,
            "ticks": "",
            "zerolinecolor": "white"
           },
           "zaxis": {
            "backgroundcolor": "#E5ECF6",
            "gridcolor": "white",
            "gridwidth": 2,
            "linecolor": "white",
            "showbackground": true,
            "ticks": "",
            "zerolinecolor": "white"
           }
          },
          "shapedefaults": {
           "line": {
            "color": "#2a3f5f"
           }
          },
          "ternary": {
           "aaxis": {
            "gridcolor": "white",
            "linecolor": "white",
            "ticks": ""
           },
           "baxis": {
            "gridcolor": "white",
            "linecolor": "white",
            "ticks": ""
           },
           "bgcolor": "#E5ECF6",
           "caxis": {
            "gridcolor": "white",
            "linecolor": "white",
            "ticks": ""
           }
          },
          "title": {
           "x": 0.05
          },
          "xaxis": {
           "automargin": true,
           "gridcolor": "white",
           "linecolor": "white",
           "ticks": "",
           "title": {
            "standoff": 15
           },
           "zerolinecolor": "white",
           "zerolinewidth": 2
          },
          "yaxis": {
           "automargin": true,
           "gridcolor": "white",
           "linecolor": "white",
           "ticks": "",
           "title": {
            "standoff": 15
           },
           "zerolinecolor": "white",
           "zerolinewidth": 2
          }
         }
        },
        "xaxis": {
         "anchor": "y",
         "domain": [
          0,
          1
         ],
         "title": {
          "text": "PC1"
         }
        },
        "yaxis": {
         "anchor": "x",
         "domain": [
          0,
          1
         ],
         "title": {
          "text": ""
         }
        }
       }
      }
     },
     "metadata": {},
     "output_type": "display_data"
    }
   ],
   "source": [
    "\n",
    "print(\"\\n========== PCA (Análise — estilo prof) ==========\")\n",
    "\n",
    "\n",
    "\n",
    "features_for_pca = X_train_std.columns.tolist()\n",
    "Z_train = X_train_std[features_for_pca].values \n",
    "\n",
    "pca = PCA()\n",
    "pca.fit(Z_train)\n",
    "\n",
    "print(\"PCA eigenvalues/Explained variance\")\n",
    "eigvals = pca.explained_variance_\n",
    "print(eigvals)\n",
    "print(\"Sum of eigenvalues=\" + str(np.sum(eigvals)))\n",
    "\n",
    "print(\"PCA eigenvectors/Principal components\")\n",
    "W = pca.components_.T    \n",
    "print(W)\n",
    "\n",
    "\n",
    "lam = pca.explained_variance_          \n",
    "x   = np.arange(1, len(lam) + 1)        \n",
    "\n",
    "fig = px.scatter(\n",
    "    x=x, y=lam,\n",
    "    labels={'x': 'PC', 'y': 'Explained Variance (λ)'},\n",
    "    title='Scree plot (autovalores)'\n",
    ")\n",
    "fig.add_hline(\n",
    "    y=1.0, line_width=2, line_dash='dash', line_color='red',\n",
    "    annotation_text='Kaiser λ=1', annotation_position='top left'\n",
    ")\n",
    "fig.update_traces(mode='markers', marker_size=9)\n",
    "fig.update_xaxes(dtick=1)\n",
    "fig.show()\n",
    "\n",
    "pca1 = PCA(n_components=1)\n",
    "X1D = pca1.fit_transform(Z_train)  \n",
    "print(np.shape(X1D))\n",
    "\n",
    "labels_map = {1: \"Saudável\", 2: \"Cancro\"}\n",
    "y_train_labels = y_train.map(labels_map)\n",
    "\n",
    "fig = px.scatter(\n",
    "    x=X1D[:, 0],\n",
    "    y=np.zeros(X1D.shape[0]),\n",
    "    color=y_train_labels,\n",
    "    labels=dict(x=\"PC1\", y=\"\", color=\"Classe\")\n",
    ")\n",
    "fig.update_traces(marker_size=8)\n",
    "fig.show()\n",
    "\n"
   ]
  },
  {
   "cell_type": "markdown",
   "id": "3af0f941",
   "metadata": {},
   "source": [
    "## 6. LDA\n",
    "Aplico o LDA"
   ]
  },
  {
   "cell_type": "code",
   "execution_count": 53,
   "id": "813ed9c1",
   "metadata": {},
   "outputs": [
    {
     "data": {
      "application/vnd.plotly.v1+json": {
       "config": {
        "plotlyServerURL": "https://plot.ly"
       },
       "data": [
        {
         "hovertemplate": "Classe=Saudável<br>LD1=%{x}<br>=%{y}<extra></extra>",
         "legendgroup": "Saudável",
         "marker": {
          "color": "#636efa",
          "size": 8,
          "symbol": "circle"
         },
         "mode": "markers",
         "name": "Saudável",
         "orientation": "v",
         "showlegend": true,
         "type": "scatter",
         "x": {
          "bdata": "9iAk4Yew1b99wr7kQxfUv+ynTtWIWOm/oRrYuMUN5D//660X80/wv6x3ZeliSOS/jkYpjGh/8z+mMiTYQSL4vz68xuRLmPG/XneSNLSP6r/yfv2t/P/Qv0ygVdTE9tS/9PcvsEKWpL+6HyWY4IzWv0DxCFaZ/JO/uBxJvcmw1L+k4A65Dhz1v4sc7ra2I+e/dj/h3ryT5r8G8lACndHuv7al3VDyzua/udxuJIt18b9cJlcvSDXxv/jz+F1vpPm/5rWLLjDt97/0sc++wjr5vx7q4lCqTeu/tiWJyerP4r9PCWtS/cwDwJiUkyKVhOS/nQ7xT9IT7r/Loksqvl4CwJA5Sk7JWeu/hEVvG6JUxD81t82oJtTavyqzjfoaIe2/",
          "dtype": "f8"
         },
         "xaxis": "x",
         "y": {
          "bdata": "AAAAAAAAAAAAAAAAAAAAAAAAAAAAAAAAAAAAAAAAAAAAAAAAAAAAAAAAAAAAAAAAAAAAAAAAAAAAAAAAAAAAAAAAAAAAAAAAAAAAAAAAAAAAAAAAAAAAAAAAAAAAAAAAAAAAAAAAAAAAAAAAAAAAAAAAAAAAAAAAAAAAAAAAAAAAAAAAAAAAAAAAAAAAAAAAAAAAAAAAAAAAAAAAAAAAAAAAAAAAAAAAAAAAAAAAAAAAAAAAAAAAAAAAAAAAAAAAAAAAAAAAAAAAAAAAAAAAAAAAAAAAAAAAAAAAAAAAAAAAAAAAAAAAAAAAAAAAAAAAAAAAAAAAAAAAAAAAAAAAAAAAAAAAAAAAAAAAAAAAAAAAAAAAAAAAAAAAAAAAAAAA",
          "dtype": "f8"
         },
         "yaxis": "y"
        },
        {
         "hovertemplate": "Classe=Cancro<br>LD1=%{x}<br>=%{y}<extra></extra>",
         "legendgroup": "Cancro",
         "marker": {
          "color": "#EF553B",
          "size": 8,
          "symbol": "circle"
         },
         "mode": "markers",
         "name": "Cancro",
         "orientation": "v",
         "showlegend": true,
         "type": "scatter",
         "x": {
          "bdata": "7jCv6wUk4r82VwQE00Hxvx8QfjWbRdC/9vvkefdt/j/1R4wiuCnQv2XXnpLlLeK/Jea65LgJ5D/YcJFtHVHwP9ORq4d8e+I/K2hGyUQH4L8QP3KXnKbwPyGzse+Yv7q/2CBMg25I7z8WgSViBwXrP79Z6jevJP4/lLFkiR8Q9D9OX58XjVnyP2HhqBdkJPE/pz+nqZ2a5z+Dltp9SQLXv8POs0QXa/a/qKbBWlIC+j/p7cRSz2TgP8Dr89Pef/A/xFAiIQdr9T9+FYcXuLnpPyIc/nN3Lu2/gdIMVoJg/D9mruYih1UWQE1jAGmR7Pk//YhOC7GMAUDYYXHS1V7jP7q/ZrrBG+s/hhJHIZJQ6j+SaeMxqQ7iP5jOaGA7epg/128GLzrZzj+pImbYerTav0ae/W6kLsy/eE+K5x597T9K5rqEjxLiPyXOgLnZ8/e/tjNMtLsx078J1/fDAIa6v6heYhSgxPc/",
          "dtype": "f8"
         },
         "xaxis": "x",
         "y": {
          "bdata": "AAAAAAAAAAAAAAAAAAAAAAAAAAAAAAAAAAAAAAAAAAAAAAAAAAAAAAAAAAAAAAAAAAAAAAAAAAAAAAAAAAAAAAAAAAAAAAAAAAAAAAAAAAAAAAAAAAAAAAAAAAAAAAAAAAAAAAAAAAAAAAAAAAAAAAAAAAAAAAAAAAAAAAAAAAAAAAAAAAAAAAAAAAAAAAAAAAAAAAAAAAAAAAAAAAAAAAAAAAAAAAAAAAAAAAAAAAAAAAAAAAAAAAAAAAAAAAAAAAAAAAAAAAAAAAAAAAAAAAAAAAAAAAAAAAAAAAAAAAAAAAAAAAAAAAAAAAAAAAAAAAAAAAAAAAAAAAAAAAAAAAAAAAAAAAAAAAAAAAAAAAAAAAAAAAAAAAAAAAAAAAAAAAAAAAAAAAAAAAAAAAAAAAAAAAAAAAAAAAAAAAAAAAAAAAAAAAAAAAAAAAAAAAAAAAAAAAAAAAAAAAAAAAAAAAAAAAAAAAAA",
          "dtype": "f8"
         },
         "yaxis": "y"
        }
       ],
       "layout": {
        "legend": {
         "title": {
          "text": "Classe"
         },
         "tracegroupgap": 0
        },
        "template": {
         "data": {
          "bar": [
           {
            "error_x": {
             "color": "#2a3f5f"
            },
            "error_y": {
             "color": "#2a3f5f"
            },
            "marker": {
             "line": {
              "color": "#E5ECF6",
              "width": 0.5
             },
             "pattern": {
              "fillmode": "overlay",
              "size": 10,
              "solidity": 0.2
             }
            },
            "type": "bar"
           }
          ],
          "barpolar": [
           {
            "marker": {
             "line": {
              "color": "#E5ECF6",
              "width": 0.5
             },
             "pattern": {
              "fillmode": "overlay",
              "size": 10,
              "solidity": 0.2
             }
            },
            "type": "barpolar"
           }
          ],
          "carpet": [
           {
            "aaxis": {
             "endlinecolor": "#2a3f5f",
             "gridcolor": "white",
             "linecolor": "white",
             "minorgridcolor": "white",
             "startlinecolor": "#2a3f5f"
            },
            "baxis": {
             "endlinecolor": "#2a3f5f",
             "gridcolor": "white",
             "linecolor": "white",
             "minorgridcolor": "white",
             "startlinecolor": "#2a3f5f"
            },
            "type": "carpet"
           }
          ],
          "choropleth": [
           {
            "colorbar": {
             "outlinewidth": 0,
             "ticks": ""
            },
            "type": "choropleth"
           }
          ],
          "contour": [
           {
            "colorbar": {
             "outlinewidth": 0,
             "ticks": ""
            },
            "colorscale": [
             [
              0,
              "#0d0887"
             ],
             [
              0.1111111111111111,
              "#46039f"
             ],
             [
              0.2222222222222222,
              "#7201a8"
             ],
             [
              0.3333333333333333,
              "#9c179e"
             ],
             [
              0.4444444444444444,
              "#bd3786"
             ],
             [
              0.5555555555555556,
              "#d8576b"
             ],
             [
              0.6666666666666666,
              "#ed7953"
             ],
             [
              0.7777777777777778,
              "#fb9f3a"
             ],
             [
              0.8888888888888888,
              "#fdca26"
             ],
             [
              1,
              "#f0f921"
             ]
            ],
            "type": "contour"
           }
          ],
          "contourcarpet": [
           {
            "colorbar": {
             "outlinewidth": 0,
             "ticks": ""
            },
            "type": "contourcarpet"
           }
          ],
          "heatmap": [
           {
            "colorbar": {
             "outlinewidth": 0,
             "ticks": ""
            },
            "colorscale": [
             [
              0,
              "#0d0887"
             ],
             [
              0.1111111111111111,
              "#46039f"
             ],
             [
              0.2222222222222222,
              "#7201a8"
             ],
             [
              0.3333333333333333,
              "#9c179e"
             ],
             [
              0.4444444444444444,
              "#bd3786"
             ],
             [
              0.5555555555555556,
              "#d8576b"
             ],
             [
              0.6666666666666666,
              "#ed7953"
             ],
             [
              0.7777777777777778,
              "#fb9f3a"
             ],
             [
              0.8888888888888888,
              "#fdca26"
             ],
             [
              1,
              "#f0f921"
             ]
            ],
            "type": "heatmap"
           }
          ],
          "histogram": [
           {
            "marker": {
             "pattern": {
              "fillmode": "overlay",
              "size": 10,
              "solidity": 0.2
             }
            },
            "type": "histogram"
           }
          ],
          "histogram2d": [
           {
            "colorbar": {
             "outlinewidth": 0,
             "ticks": ""
            },
            "colorscale": [
             [
              0,
              "#0d0887"
             ],
             [
              0.1111111111111111,
              "#46039f"
             ],
             [
              0.2222222222222222,
              "#7201a8"
             ],
             [
              0.3333333333333333,
              "#9c179e"
             ],
             [
              0.4444444444444444,
              "#bd3786"
             ],
             [
              0.5555555555555556,
              "#d8576b"
             ],
             [
              0.6666666666666666,
              "#ed7953"
             ],
             [
              0.7777777777777778,
              "#fb9f3a"
             ],
             [
              0.8888888888888888,
              "#fdca26"
             ],
             [
              1,
              "#f0f921"
             ]
            ],
            "type": "histogram2d"
           }
          ],
          "histogram2dcontour": [
           {
            "colorbar": {
             "outlinewidth": 0,
             "ticks": ""
            },
            "colorscale": [
             [
              0,
              "#0d0887"
             ],
             [
              0.1111111111111111,
              "#46039f"
             ],
             [
              0.2222222222222222,
              "#7201a8"
             ],
             [
              0.3333333333333333,
              "#9c179e"
             ],
             [
              0.4444444444444444,
              "#bd3786"
             ],
             [
              0.5555555555555556,
              "#d8576b"
             ],
             [
              0.6666666666666666,
              "#ed7953"
             ],
             [
              0.7777777777777778,
              "#fb9f3a"
             ],
             [
              0.8888888888888888,
              "#fdca26"
             ],
             [
              1,
              "#f0f921"
             ]
            ],
            "type": "histogram2dcontour"
           }
          ],
          "mesh3d": [
           {
            "colorbar": {
             "outlinewidth": 0,
             "ticks": ""
            },
            "type": "mesh3d"
           }
          ],
          "parcoords": [
           {
            "line": {
             "colorbar": {
              "outlinewidth": 0,
              "ticks": ""
             }
            },
            "type": "parcoords"
           }
          ],
          "pie": [
           {
            "automargin": true,
            "type": "pie"
           }
          ],
          "scatter": [
           {
            "fillpattern": {
             "fillmode": "overlay",
             "size": 10,
             "solidity": 0.2
            },
            "type": "scatter"
           }
          ],
          "scatter3d": [
           {
            "line": {
             "colorbar": {
              "outlinewidth": 0,
              "ticks": ""
             }
            },
            "marker": {
             "colorbar": {
              "outlinewidth": 0,
              "ticks": ""
             }
            },
            "type": "scatter3d"
           }
          ],
          "scattercarpet": [
           {
            "marker": {
             "colorbar": {
              "outlinewidth": 0,
              "ticks": ""
             }
            },
            "type": "scattercarpet"
           }
          ],
          "scattergeo": [
           {
            "marker": {
             "colorbar": {
              "outlinewidth": 0,
              "ticks": ""
             }
            },
            "type": "scattergeo"
           }
          ],
          "scattergl": [
           {
            "marker": {
             "colorbar": {
              "outlinewidth": 0,
              "ticks": ""
             }
            },
            "type": "scattergl"
           }
          ],
          "scattermap": [
           {
            "marker": {
             "colorbar": {
              "outlinewidth": 0,
              "ticks": ""
             }
            },
            "type": "scattermap"
           }
          ],
          "scattermapbox": [
           {
            "marker": {
             "colorbar": {
              "outlinewidth": 0,
              "ticks": ""
             }
            },
            "type": "scattermapbox"
           }
          ],
          "scatterpolar": [
           {
            "marker": {
             "colorbar": {
              "outlinewidth": 0,
              "ticks": ""
             }
            },
            "type": "scatterpolar"
           }
          ],
          "scatterpolargl": [
           {
            "marker": {
             "colorbar": {
              "outlinewidth": 0,
              "ticks": ""
             }
            },
            "type": "scatterpolargl"
           }
          ],
          "scatterternary": [
           {
            "marker": {
             "colorbar": {
              "outlinewidth": 0,
              "ticks": ""
             }
            },
            "type": "scatterternary"
           }
          ],
          "surface": [
           {
            "colorbar": {
             "outlinewidth": 0,
             "ticks": ""
            },
            "colorscale": [
             [
              0,
              "#0d0887"
             ],
             [
              0.1111111111111111,
              "#46039f"
             ],
             [
              0.2222222222222222,
              "#7201a8"
             ],
             [
              0.3333333333333333,
              "#9c179e"
             ],
             [
              0.4444444444444444,
              "#bd3786"
             ],
             [
              0.5555555555555556,
              "#d8576b"
             ],
             [
              0.6666666666666666,
              "#ed7953"
             ],
             [
              0.7777777777777778,
              "#fb9f3a"
             ],
             [
              0.8888888888888888,
              "#fdca26"
             ],
             [
              1,
              "#f0f921"
             ]
            ],
            "type": "surface"
           }
          ],
          "table": [
           {
            "cells": {
             "fill": {
              "color": "#EBF0F8"
             },
             "line": {
              "color": "white"
             }
            },
            "header": {
             "fill": {
              "color": "#C8D4E3"
             },
             "line": {
              "color": "white"
             }
            },
            "type": "table"
           }
          ]
         },
         "layout": {
          "annotationdefaults": {
           "arrowcolor": "#2a3f5f",
           "arrowhead": 0,
           "arrowwidth": 1
          },
          "autotypenumbers": "strict",
          "coloraxis": {
           "colorbar": {
            "outlinewidth": 0,
            "ticks": ""
           }
          },
          "colorscale": {
           "diverging": [
            [
             0,
             "#8e0152"
            ],
            [
             0.1,
             "#c51b7d"
            ],
            [
             0.2,
             "#de77ae"
            ],
            [
             0.3,
             "#f1b6da"
            ],
            [
             0.4,
             "#fde0ef"
            ],
            [
             0.5,
             "#f7f7f7"
            ],
            [
             0.6,
             "#e6f5d0"
            ],
            [
             0.7,
             "#b8e186"
            ],
            [
             0.8,
             "#7fbc41"
            ],
            [
             0.9,
             "#4d9221"
            ],
            [
             1,
             "#276419"
            ]
           ],
           "sequential": [
            [
             0,
             "#0d0887"
            ],
            [
             0.1111111111111111,
             "#46039f"
            ],
            [
             0.2222222222222222,
             "#7201a8"
            ],
            [
             0.3333333333333333,
             "#9c179e"
            ],
            [
             0.4444444444444444,
             "#bd3786"
            ],
            [
             0.5555555555555556,
             "#d8576b"
            ],
            [
             0.6666666666666666,
             "#ed7953"
            ],
            [
             0.7777777777777778,
             "#fb9f3a"
            ],
            [
             0.8888888888888888,
             "#fdca26"
            ],
            [
             1,
             "#f0f921"
            ]
           ],
           "sequentialminus": [
            [
             0,
             "#0d0887"
            ],
            [
             0.1111111111111111,
             "#46039f"
            ],
            [
             0.2222222222222222,
             "#7201a8"
            ],
            [
             0.3333333333333333,
             "#9c179e"
            ],
            [
             0.4444444444444444,
             "#bd3786"
            ],
            [
             0.5555555555555556,
             "#d8576b"
            ],
            [
             0.6666666666666666,
             "#ed7953"
            ],
            [
             0.7777777777777778,
             "#fb9f3a"
            ],
            [
             0.8888888888888888,
             "#fdca26"
            ],
            [
             1,
             "#f0f921"
            ]
           ]
          },
          "colorway": [
           "#636efa",
           "#EF553B",
           "#00cc96",
           "#ab63fa",
           "#FFA15A",
           "#19d3f3",
           "#FF6692",
           "#B6E880",
           "#FF97FF",
           "#FECB52"
          ],
          "font": {
           "color": "#2a3f5f"
          },
          "geo": {
           "bgcolor": "white",
           "lakecolor": "white",
           "landcolor": "#E5ECF6",
           "showlakes": true,
           "showland": true,
           "subunitcolor": "white"
          },
          "hoverlabel": {
           "align": "left"
          },
          "hovermode": "closest",
          "mapbox": {
           "style": "light"
          },
          "paper_bgcolor": "white",
          "plot_bgcolor": "#E5ECF6",
          "polar": {
           "angularaxis": {
            "gridcolor": "white",
            "linecolor": "white",
            "ticks": ""
           },
           "bgcolor": "#E5ECF6",
           "radialaxis": {
            "gridcolor": "white",
            "linecolor": "white",
            "ticks": ""
           }
          },
          "scene": {
           "xaxis": {
            "backgroundcolor": "#E5ECF6",
            "gridcolor": "white",
            "gridwidth": 2,
            "linecolor": "white",
            "showbackground": true,
            "ticks": "",
            "zerolinecolor": "white"
           },
           "yaxis": {
            "backgroundcolor": "#E5ECF6",
            "gridcolor": "white",
            "gridwidth": 2,
            "linecolor": "white",
            "showbackground": true,
            "ticks": "",
            "zerolinecolor": "white"
           },
           "zaxis": {
            "backgroundcolor": "#E5ECF6",
            "gridcolor": "white",
            "gridwidth": 2,
            "linecolor": "white",
            "showbackground": true,
            "ticks": "",
            "zerolinecolor": "white"
           }
          },
          "shapedefaults": {
           "line": {
            "color": "#2a3f5f"
           }
          },
          "ternary": {
           "aaxis": {
            "gridcolor": "white",
            "linecolor": "white",
            "ticks": ""
           },
           "baxis": {
            "gridcolor": "white",
            "linecolor": "white",
            "ticks": ""
           },
           "bgcolor": "#E5ECF6",
           "caxis": {
            "gridcolor": "white",
            "linecolor": "white",
            "ticks": ""
           }
          },
          "title": {
           "x": 0.05
          },
          "xaxis": {
           "automargin": true,
           "gridcolor": "white",
           "linecolor": "white",
           "ticks": "",
           "title": {
            "standoff": 15
           },
           "zerolinecolor": "white",
           "zerolinewidth": 2
          },
          "yaxis": {
           "automargin": true,
           "gridcolor": "white",
           "linecolor": "white",
           "ticks": "",
           "title": {
            "standoff": 15
           },
           "zerolinecolor": "white",
           "zerolinewidth": 2
          }
         }
        },
        "title": {
         "text": "LDA — Projeção 1D (Treino)"
        },
        "xaxis": {
         "anchor": "y",
         "domain": [
          0,
          1
         ],
         "title": {
          "text": "LD1"
         }
        },
        "yaxis": {
         "anchor": "x",
         "domain": [
          0,
          1
         ],
         "showgrid": false,
         "showticklabels": false,
         "title": {
          "text": ""
         },
         "visible": false
        }
       }
      }
     },
     "metadata": {},
     "output_type": "display_data"
    }
   ],
   "source": [
    "Xtr = X_train_std.to_numpy()\n",
    "ytr = y_train.to_numpy()\n",
    "\n",
    "lda = LDA(solver=\"svd\")   \n",
    "lda.fit(Xtr, ytr)\n",
    "\n",
    "Ztr = lda.transform(Xtr)[:, 0]   \n",
    "\n",
    "labels_map = {1: \"Saudável\", 2: \"Cancro\"}\n",
    "cores = pd.Series(ytr).map(labels_map)\n",
    "\n",
    "fig = px.scatter(\n",
    "    x=Ztr,\n",
    "    y=np.zeros_like(Ztr),\n",
    "    color=cores,\n",
    "    labels=dict(x=\"LD1\", y=\"\", color=\"Classe\"),\n",
    "    title=\"LDA — Projeção 1D (Treino)\"\n",
    ")\n",
    "fig.update_traces(marker_size=8)\n",
    "fig.update_yaxes(visible=False, showticklabels=False, showgrid=False)  # fica só a “linha”\n",
    "fig.show()"
   ]
  },
  {
   "cell_type": "markdown",
   "id": "fbe9ed9a",
   "metadata": {},
   "source": [
    "#### CLASSIFICATION\n",
    "## 7.MDC Euclidiano\n",
    "Agora ja com dados de teste calculei o mdc euclidiano e mdc mahalanobis e as metricas de desempenho"
   ]
  },
  {
   "cell_type": "code",
   "execution_count": 54,
   "id": "b2021ec1",
   "metadata": {},
   "outputs": [
    {
     "name": "stdout",
     "output_type": "stream",
     "text": [
      "\n",
      "========== MDC 2D — Euclidiano & Mahalanobis==========\n",
      "\n",
      "=== Euclidiano (TESTE) ===\n",
      "[[14  2]\n",
      " [12  7]]\n",
      "Sensitivity: 0.368 | Specificity: 0.875 | Precision: 0.778 | F1: 0.500 | ROC-AUC: 0.747\n",
      "\n",
      "=== Mahalanobis (TESTE) ===\n",
      "[[14  2]\n",
      " [11  8]]\n",
      "Sensitivity: 0.421 | Specificity: 0.875 | Precision: 0.800 | F1: 0.552 | ROC-AUC: 0.724\n"
     ]
    },
    {
     "data": {
      "application/vnd.plotly.v1+json": {
       "config": {
        "plotlyServerURL": "https://plot.ly"
       },
       "data": [
        {
         "marker": {
          "color": "blue",
          "size": 9
         },
         "mode": "markers",
         "name": "Saudável",
         "type": "scatter",
         "x": {
          "bdata": "BLjR2bGcxr+A7CNuEnnGP2ox8cz5veO/a59lQyZl2b+O3jDvpyblv0aEsapLVeK/avq2kWPq8L9DQG+aDjLsv2ftrry8mu2/s/nkh4I23L9qMfHM+b3jvyLXcYid7OC/jt4w76cm5b+zi3ARVo/mvyNF5v7Jk9a/PiBEnXjA6j8=",
          "dtype": "f8"
         },
         "y": {
          "bdata": "s8FM+brF5L9z1Abiv/naP7znQA2Mj+K/fKN+ySz/4T8Ay5VzEHzoP/nfNTeRJd2/nYsNSrwn3L+ec3GtFxTrv2Sw/iqQOOS/GoOj3V5D6r8DSG3hOMzPvwiQ72YXfue/qA//gwG3vj+SSRi+RWHhvwXQhVIIhty/sBvBm7/P6L8=",
          "dtype": "f8"
         }
        },
        {
         "marker": {
          "color": "red",
          "size": 9
         },
         "mode": "markers",
         "name": "Cancro",
         "type": "scatter",
         "x": {
          "bdata": "GQWQBJ6w0z/wNyXlWdbAPyhcleGwFBFAa59lQyZl2b/b6ma6bcLTvwS40dmxnMa/RCtW5xZw9L/XOLAzBPjnvzo7n0yjQ6Y/EaEi98obzD+z+eSHgjbcv/bFxFgc7+c//NDWorqe8b/b6ma6bcLTv9vqZrptwtO/kpDndRHx0L/8U2TM3gffv8adqI+Brra/QHmfYK2l+D8=",
          "dtype": "f8"
         },
         "y": {
          "bdata": "ejHPBI5K6L/zk7U+p8i3v8xEXykJeAlA4Li5DEcbuD/Sjz1hANrMv/oYTMmoGdm/HZsMJbuT3T9B81ye13Ltvy/OzgrZbNk/VSJzw4exBUDaoV4DSvYQPwDO2WvHaOi/Xnvk9qeT8D822S+YJVrVv26JbJbAA9S/Y4sDR+2h578wpekYQXm7v6fBETgAU/A/e8ZXJCMi578=",
          "dtype": "f8"
         }
        },
        {
         "marker": {
          "color": "red",
          "line": {
           "color": "red",
           "width": 3
          },
          "size": 15,
          "symbol": "circle-open"
         },
         "mode": "markers",
         "name": "False Positive",
         "type": "scatter",
         "x": {
          "bdata": "gOwjbhJ5xj8+IESdeMDqPw==",
          "dtype": "f8"
         },
         "y": {
          "bdata": "c9QG4r/52j+wG8Gbv8/ovw==",
          "dtype": "f8"
         }
        },
        {
         "marker": {
          "color": "blue",
          "line": {
           "color": "blue",
           "width": 3
          },
          "size": 15,
          "symbol": "circle-open"
         },
         "mode": "markers",
         "name": "False Negative",
         "type": "scatter",
         "x": {
          "bdata": "GQWQBJ6w0z9rn2VDJmXZv9vqZrptwtO/BLjR2bGcxr9EK1bnFnD0v9c4sDME+Oe/s/nkh4I23L/80Naiup7xv9vqZrptwtO/2+pmum3C07+SkOd1EfHQv/xTZMzeB9+/",
          "dtype": "f8"
         },
         "y": {
          "bdata": "ejHPBI5K6L/guLkMRxu4P9KPPWEA2sy/+hhMyagZ2b8dmwwlu5PdP0HzXJ7Xcu2/2qFeA0r2ED9ee+T2p5PwPzbZL5glWtW/bolslsAD1L9jiwNH7aHnvzCl6RhBebu/",
          "dtype": "f8"
         }
        },
        {
         "marker": {
          "color": "green",
          "line": {
           "color": "black",
           "width": 1
          },
          "size": 20,
          "symbol": "x"
         },
         "mode": "markers",
         "name": "Mean (Saudável)",
         "type": "scatter",
         "x": [
          -0.47507128849338076
         ],
         "y": [
          -0.2297433283301478
         ]
        },
        {
         "marker": {
          "color": "yellow",
          "line": {
           "color": "black",
           "width": 1
          },
          "size": 20,
          "symbol": "x"
         },
         "mode": "markers",
         "name": "Mean (Cancro)",
         "type": "scatter",
         "x": [
          0.38005703079470504
         ],
         "y": [
          0.18379466266411823
         ]
        },
        {
         "line": {
          "color": "black",
          "width": 4
         },
         "mode": "lines",
         "name": "Inter mean segment",
         "type": "scatter",
         "x": [
          -0.47507128849338076,
          0.38005703079470504
         ],
         "y": [
          -0.2297433283301478,
          0.18379466266411823
         ]
        },
        {
         "line": {
          "color": "gray",
          "dash": "dash",
          "width": 4
         },
         "mode": "lines",
         "name": "Hyperplane",
         "type": "scatter",
         "x": {
          "bdata": "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",
          "dtype": "f8"
         },
         "y": {
          "bdata": "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",
          "dtype": "f8"
         }
        }
       ],
       "layout": {
        "autosize": false,
        "height": 720,
        "legend": {
         "itemsizing": "constant"
        },
        "template": {
         "data": {
          "bar": [
           {
            "error_x": {
             "color": "#2a3f5f"
            },
            "error_y": {
             "color": "#2a3f5f"
            },
            "marker": {
             "line": {
              "color": "#E5ECF6",
              "width": 0.5
             },
             "pattern": {
              "fillmode": "overlay",
              "size": 10,
              "solidity": 0.2
             }
            },
            "type": "bar"
           }
          ],
          "barpolar": [
           {
            "marker": {
             "line": {
              "color": "#E5ECF6",
              "width": 0.5
             },
             "pattern": {
              "fillmode": "overlay",
              "size": 10,
              "solidity": 0.2
             }
            },
            "type": "barpolar"
           }
          ],
          "carpet": [
           {
            "aaxis": {
             "endlinecolor": "#2a3f5f",
             "gridcolor": "white",
             "linecolor": "white",
             "minorgridcolor": "white",
             "startlinecolor": "#2a3f5f"
            },
            "baxis": {
             "endlinecolor": "#2a3f5f",
             "gridcolor": "white",
             "linecolor": "white",
             "minorgridcolor": "white",
             "startlinecolor": "#2a3f5f"
            },
            "type": "carpet"
           }
          ],
          "choropleth": [
           {
            "colorbar": {
             "outlinewidth": 0,
             "ticks": ""
            },
            "type": "choropleth"
           }
          ],
          "contour": [
           {
            "colorbar": {
             "outlinewidth": 0,
             "ticks": ""
            },
            "colorscale": [
             [
              0,
              "#0d0887"
             ],
             [
              0.1111111111111111,
              "#46039f"
             ],
             [
              0.2222222222222222,
              "#7201a8"
             ],
             [
              0.3333333333333333,
              "#9c179e"
             ],
             [
              0.4444444444444444,
              "#bd3786"
             ],
             [
              0.5555555555555556,
              "#d8576b"
             ],
             [
              0.6666666666666666,
              "#ed7953"
             ],
             [
              0.7777777777777778,
              "#fb9f3a"
             ],
             [
              0.8888888888888888,
              "#fdca26"
             ],
             [
              1,
              "#f0f921"
             ]
            ],
            "type": "contour"
           }
          ],
          "contourcarpet": [
           {
            "colorbar": {
             "outlinewidth": 0,
             "ticks": ""
            },
            "type": "contourcarpet"
           }
          ],
          "heatmap": [
           {
            "colorbar": {
             "outlinewidth": 0,
             "ticks": ""
            },
            "colorscale": [
             [
              0,
              "#0d0887"
             ],
             [
              0.1111111111111111,
              "#46039f"
             ],
             [
              0.2222222222222222,
              "#7201a8"
             ],
             [
              0.3333333333333333,
              "#9c179e"
             ],
             [
              0.4444444444444444,
              "#bd3786"
             ],
             [
              0.5555555555555556,
              "#d8576b"
             ],
             [
              0.6666666666666666,
              "#ed7953"
             ],
             [
              0.7777777777777778,
              "#fb9f3a"
             ],
             [
              0.8888888888888888,
              "#fdca26"
             ],
             [
              1,
              "#f0f921"
             ]
            ],
            "type": "heatmap"
           }
          ],
          "histogram": [
           {
            "marker": {
             "pattern": {
              "fillmode": "overlay",
              "size": 10,
              "solidity": 0.2
             }
            },
            "type": "histogram"
           }
          ],
          "histogram2d": [
           {
            "colorbar": {
             "outlinewidth": 0,
             "ticks": ""
            },
            "colorscale": [
             [
              0,
              "#0d0887"
             ],
             [
              0.1111111111111111,
              "#46039f"
             ],
             [
              0.2222222222222222,
              "#7201a8"
             ],
             [
              0.3333333333333333,
              "#9c179e"
             ],
             [
              0.4444444444444444,
              "#bd3786"
             ],
             [
              0.5555555555555556,
              "#d8576b"
             ],
             [
              0.6666666666666666,
              "#ed7953"
             ],
             [
              0.7777777777777778,
              "#fb9f3a"
             ],
             [
              0.8888888888888888,
              "#fdca26"
             ],
             [
              1,
              "#f0f921"
             ]
            ],
            "type": "histogram2d"
           }
          ],
          "histogram2dcontour": [
           {
            "colorbar": {
             "outlinewidth": 0,
             "ticks": ""
            },
            "colorscale": [
             [
              0,
              "#0d0887"
             ],
             [
              0.1111111111111111,
              "#46039f"
             ],
             [
              0.2222222222222222,
              "#7201a8"
             ],
             [
              0.3333333333333333,
              "#9c179e"
             ],
             [
              0.4444444444444444,
              "#bd3786"
             ],
             [
              0.5555555555555556,
              "#d8576b"
             ],
             [
              0.6666666666666666,
              "#ed7953"
             ],
             [
              0.7777777777777778,
              "#fb9f3a"
             ],
             [
              0.8888888888888888,
              "#fdca26"
             ],
             [
              1,
              "#f0f921"
             ]
            ],
            "type": "histogram2dcontour"
           }
          ],
          "mesh3d": [
           {
            "colorbar": {
             "outlinewidth": 0,
             "ticks": ""
            },
            "type": "mesh3d"
           }
          ],
          "parcoords": [
           {
            "line": {
             "colorbar": {
              "outlinewidth": 0,
              "ticks": ""
             }
            },
            "type": "parcoords"
           }
          ],
          "pie": [
           {
            "automargin": true,
            "type": "pie"
           }
          ],
          "scatter": [
           {
            "fillpattern": {
             "fillmode": "overlay",
             "size": 10,
             "solidity": 0.2
            },
            "type": "scatter"
           }
          ],
          "scatter3d": [
           {
            "line": {
             "colorbar": {
              "outlinewidth": 0,
              "ticks": ""
             }
            },
            "marker": {
             "colorbar": {
              "outlinewidth": 0,
              "ticks": ""
             }
            },
            "type": "scatter3d"
           }
          ],
          "scattercarpet": [
           {
            "marker": {
             "colorbar": {
              "outlinewidth": 0,
              "ticks": ""
             }
            },
            "type": "scattercarpet"
           }
          ],
          "scattergeo": [
           {
            "marker": {
             "colorbar": {
              "outlinewidth": 0,
              "ticks": ""
             }
            },
            "type": "scattergeo"
           }
          ],
          "scattergl": [
           {
            "marker": {
             "colorbar": {
              "outlinewidth": 0,
              "ticks": ""
             }
            },
            "type": "scattergl"
           }
          ],
          "scattermap": [
           {
            "marker": {
             "colorbar": {
              "outlinewidth": 0,
              "ticks": ""
             }
            },
            "type": "scattermap"
           }
          ],
          "scattermapbox": [
           {
            "marker": {
             "colorbar": {
              "outlinewidth": 0,
              "ticks": ""
             }
            },
            "type": "scattermapbox"
           }
          ],
          "scatterpolar": [
           {
            "marker": {
             "colorbar": {
              "outlinewidth": 0,
              "ticks": ""
             }
            },
            "type": "scatterpolar"
           }
          ],
          "scatterpolargl": [
           {
            "marker": {
             "colorbar": {
              "outlinewidth": 0,
              "ticks": ""
             }
            },
            "type": "scatterpolargl"
           }
          ],
          "scatterternary": [
           {
            "marker": {
             "colorbar": {
              "outlinewidth": 0,
              "ticks": ""
             }
            },
            "type": "scatterternary"
           }
          ],
          "surface": [
           {
            "colorbar": {
             "outlinewidth": 0,
             "ticks": ""
            },
            "colorscale": [
             [
              0,
              "#0d0887"
             ],
             [
              0.1111111111111111,
              "#46039f"
             ],
             [
              0.2222222222222222,
              "#7201a8"
             ],
             [
              0.3333333333333333,
              "#9c179e"
             ],
             [
              0.4444444444444444,
              "#bd3786"
             ],
             [
              0.5555555555555556,
              "#d8576b"
             ],
             [
              0.6666666666666666,
              "#ed7953"
             ],
             [
              0.7777777777777778,
              "#fb9f3a"
             ],
             [
              0.8888888888888888,
              "#fdca26"
             ],
             [
              1,
              "#f0f921"
             ]
            ],
            "type": "surface"
           }
          ],
          "table": [
           {
            "cells": {
             "fill": {
              "color": "#EBF0F8"
             },
             "line": {
              "color": "white"
             }
            },
            "header": {
             "fill": {
              "color": "#C8D4E3"
             },
             "line": {
              "color": "white"
             }
            },
            "type": "table"
           }
          ]
         },
         "layout": {
          "annotationdefaults": {
           "arrowcolor": "#2a3f5f",
           "arrowhead": 0,
           "arrowwidth": 1
          },
          "autotypenumbers": "strict",
          "coloraxis": {
           "colorbar": {
            "outlinewidth": 0,
            "ticks": ""
           }
          },
          "colorscale": {
           "diverging": [
            [
             0,
             "#8e0152"
            ],
            [
             0.1,
             "#c51b7d"
            ],
            [
             0.2,
             "#de77ae"
            ],
            [
             0.3,
             "#f1b6da"
            ],
            [
             0.4,
             "#fde0ef"
            ],
            [
             0.5,
             "#f7f7f7"
            ],
            [
             0.6,
             "#e6f5d0"
            ],
            [
             0.7,
             "#b8e186"
            ],
            [
             0.8,
             "#7fbc41"
            ],
            [
             0.9,
             "#4d9221"
            ],
            [
             1,
             "#276419"
            ]
           ],
           "sequential": [
            [
             0,
             "#0d0887"
            ],
            [
             0.1111111111111111,
             "#46039f"
            ],
            [
             0.2222222222222222,
             "#7201a8"
            ],
            [
             0.3333333333333333,
             "#9c179e"
            ],
            [
             0.4444444444444444,
             "#bd3786"
            ],
            [
             0.5555555555555556,
             "#d8576b"
            ],
            [
             0.6666666666666666,
             "#ed7953"
            ],
            [
             0.7777777777777778,
             "#fb9f3a"
            ],
            [
             0.8888888888888888,
             "#fdca26"
            ],
            [
             1,
             "#f0f921"
            ]
           ],
           "sequentialminus": [
            [
             0,
             "#0d0887"
            ],
            [
             0.1111111111111111,
             "#46039f"
            ],
            [
             0.2222222222222222,
             "#7201a8"
            ],
            [
             0.3333333333333333,
             "#9c179e"
            ],
            [
             0.4444444444444444,
             "#bd3786"
            ],
            [
             0.5555555555555556,
             "#d8576b"
            ],
            [
             0.6666666666666666,
             "#ed7953"
            ],
            [
             0.7777777777777778,
             "#fb9f3a"
            ],
            [
             0.8888888888888888,
             "#fdca26"
            ],
            [
             1,
             "#f0f921"
            ]
           ]
          },
          "colorway": [
           "#636efa",
           "#EF553B",
           "#00cc96",
           "#ab63fa",
           "#FFA15A",
           "#19d3f3",
           "#FF6692",
           "#B6E880",
           "#FF97FF",
           "#FECB52"
          ],
          "font": {
           "color": "#2a3f5f"
          },
          "geo": {
           "bgcolor": "white",
           "lakecolor": "white",
           "landcolor": "#E5ECF6",
           "showlakes": true,
           "showland": true,
           "subunitcolor": "white"
          },
          "hoverlabel": {
           "align": "left"
          },
          "hovermode": "closest",
          "mapbox": {
           "style": "light"
          },
          "paper_bgcolor": "white",
          "plot_bgcolor": "#E5ECF6",
          "polar": {
           "angularaxis": {
            "gridcolor": "white",
            "linecolor": "white",
            "ticks": ""
           },
           "bgcolor": "#E5ECF6",
           "radialaxis": {
            "gridcolor": "white",
            "linecolor": "white",
            "ticks": ""
           }
          },
          "scene": {
           "xaxis": {
            "backgroundcolor": "#E5ECF6",
            "gridcolor": "white",
            "gridwidth": 2,
            "linecolor": "white",
            "showbackground": true,
            "ticks": "",
            "zerolinecolor": "white"
           },
           "yaxis": {
            "backgroundcolor": "#E5ECF6",
            "gridcolor": "white",
            "gridwidth": 2,
            "linecolor": "white",
            "showbackground": true,
            "ticks": "",
            "zerolinecolor": "white"
           },
           "zaxis": {
            "backgroundcolor": "#E5ECF6",
            "gridcolor": "white",
            "gridwidth": 2,
            "linecolor": "white",
            "showbackground": true,
            "ticks": "",
            "zerolinecolor": "white"
           }
          },
          "shapedefaults": {
           "line": {
            "color": "#2a3f5f"
           }
          },
          "ternary": {
           "aaxis": {
            "gridcolor": "white",
            "linecolor": "white",
            "ticks": ""
           },
           "baxis": {
            "gridcolor": "white",
            "linecolor": "white",
            "ticks": ""
           },
           "bgcolor": "#E5ECF6",
           "caxis": {
            "gridcolor": "white",
            "linecolor": "white",
            "ticks": ""
           }
          },
          "title": {
           "x": 0.05
          },
          "xaxis": {
           "automargin": true,
           "gridcolor": "white",
           "linecolor": "white",
           "ticks": "",
           "title": {
            "standoff": 15
           },
           "zerolinecolor": "white",
           "zerolinewidth": 2
          },
          "yaxis": {
           "automargin": true,
           "gridcolor": "white",
           "linecolor": "white",
           "ticks": "",
           "title": {
            "standoff": 15
           },
           "zerolinecolor": "white",
           "zerolinewidth": 2
          }
         }
        },
        "title": {
         "text": "MDC Euclidiano — Glucose × Resistin"
        },
        "width": 900,
        "xaxis": {
         "title": {
          "text": "Glucose"
         }
        },
        "yaxis": {
         "title": {
          "text": "Resistin"
         }
        }
       }
      }
     },
     "metadata": {},
     "output_type": "display_data"
    },
    {
     "data": {
      "application/vnd.plotly.v1+json": {
       "config": {
        "plotlyServerURL": "https://plot.ly"
       },
       "data": [
        {
         "marker": {
          "color": "blue",
          "size": 9
         },
         "mode": "markers",
         "name": "Saudável",
         "type": "scatter",
         "x": {
          "bdata": "BLjR2bGcxr+A7CNuEnnGP2ox8cz5veO/a59lQyZl2b+O3jDvpyblv0aEsapLVeK/avq2kWPq8L9DQG+aDjLsv2ftrry8mu2/s/nkh4I23L9qMfHM+b3jvyLXcYid7OC/jt4w76cm5b+zi3ARVo/mvyNF5v7Jk9a/PiBEnXjA6j8=",
          "dtype": "f8"
         },
         "y": {
          "bdata": "s8FM+brF5L9z1Abiv/naP7znQA2Mj+K/fKN+ySz/4T8Ay5VzEHzoP/nfNTeRJd2/nYsNSrwn3L+ec3GtFxTrv2Sw/iqQOOS/GoOj3V5D6r8DSG3hOMzPvwiQ72YXfue/qA//gwG3vj+SSRi+RWHhvwXQhVIIhty/sBvBm7/P6L8=",
          "dtype": "f8"
         }
        },
        {
         "marker": {
          "color": "red",
          "size": 9
         },
         "mode": "markers",
         "name": "Cancro",
         "type": "scatter",
         "x": {
          "bdata": "GQWQBJ6w0z/wNyXlWdbAPyhcleGwFBFAa59lQyZl2b/b6ma6bcLTvwS40dmxnMa/RCtW5xZw9L/XOLAzBPjnvzo7n0yjQ6Y/EaEi98obzD+z+eSHgjbcv/bFxFgc7+c//NDWorqe8b/b6ma6bcLTv9vqZrptwtO/kpDndRHx0L/8U2TM3gffv8adqI+Brra/QHmfYK2l+D8=",
          "dtype": "f8"
         },
         "y": {
          "bdata": "ejHPBI5K6L/zk7U+p8i3v8xEXykJeAlA4Li5DEcbuD/Sjz1hANrMv/oYTMmoGdm/HZsMJbuT3T9B81ye13Ltvy/OzgrZbNk/VSJzw4exBUDaoV4DSvYQPwDO2WvHaOi/Xnvk9qeT8D822S+YJVrVv26JbJbAA9S/Y4sDR+2h578wpekYQXm7v6fBETgAU/A/e8ZXJCMi578=",
          "dtype": "f8"
         }
        },
        {
         "marker": {
          "color": "red",
          "line": {
           "color": "red",
           "width": 3
          },
          "size": 15,
          "symbol": "circle-open"
         },
         "mode": "markers",
         "name": "False Positive",
         "type": "scatter",
         "x": {
          "bdata": "gOwjbhJ5xj8+IESdeMDqPw==",
          "dtype": "f8"
         },
         "y": {
          "bdata": "c9QG4r/52j+wG8Gbv8/ovw==",
          "dtype": "f8"
         }
        },
        {
         "marker": {
          "color": "blue",
          "line": {
           "color": "blue",
           "width": 3
          },
          "size": 15,
          "symbol": "circle-open"
         },
         "mode": "markers",
         "name": "False Negative",
         "type": "scatter",
         "x": {
          "bdata": "a59lQyZl2b/b6ma6bcLTvwS40dmxnMa/RCtW5xZw9L/XOLAzBPjnv7P55IeCNty//NDWorqe8b/b6ma6bcLTv9vqZrptwtO/kpDndRHx0L/8U2TM3gffvw==",
          "dtype": "f8"
         },
         "y": {
          "bdata": "4Li5DEcbuD/Sjz1hANrMv/oYTMmoGdm/HZsMJbuT3T9B81ye13Ltv9qhXgNK9hA/Xnvk9qeT8D822S+YJVrVv26JbJbAA9S/Y4sDR+2h578wpekYQXm7vw==",
          "dtype": "f8"
         }
        },
        {
         "marker": {
          "color": "green",
          "line": {
           "color": "black",
           "width": 1
          },
          "size": 20,
          "symbol": "x"
         },
         "mode": "markers",
         "name": "Mean (Saudável)",
         "type": "scatter",
         "x": [
          -0.47507128849338076
         ],
         "y": [
          -0.2297433283301478
         ]
        },
        {
         "marker": {
          "color": "yellow",
          "line": {
           "color": "black",
           "width": 1
          },
          "size": 20,
          "symbol": "x"
         },
         "mode": "markers",
         "name": "Mean (Cancro)",
         "type": "scatter",
         "x": [
          0.38005703079470504
         ],
         "y": [
          0.18379466266411823
         ]
        },
        {
         "line": {
          "color": "black",
          "width": 4
         },
         "mode": "lines",
         "name": "Inter mean segment",
         "type": "scatter",
         "x": [
          -0.47507128849338076,
          0.38005703079470504
         ],
         "y": [
          -0.2297433283301478,
          0.18379466266411823
         ]
        },
        {
         "line": {
          "color": "gray",
          "dash": "dash",
          "width": 4
         },
         "mode": "lines",
         "name": "Hyperplane",
         "type": "scatter",
         "x": {
          "bdata": "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",
          "dtype": "f8"
         },
         "y": {
          "bdata": "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",
          "dtype": "f8"
         }
        }
       ],
       "layout": {
        "autosize": false,
        "height": 720,
        "legend": {
         "itemsizing": "constant"
        },
        "template": {
         "data": {
          "bar": [
           {
            "error_x": {
             "color": "#2a3f5f"
            },
            "error_y": {
             "color": "#2a3f5f"
            },
            "marker": {
             "line": {
              "color": "#E5ECF6",
              "width": 0.5
             },
             "pattern": {
              "fillmode": "overlay",
              "size": 10,
              "solidity": 0.2
             }
            },
            "type": "bar"
           }
          ],
          "barpolar": [
           {
            "marker": {
             "line": {
              "color": "#E5ECF6",
              "width": 0.5
             },
             "pattern": {
              "fillmode": "overlay",
              "size": 10,
              "solidity": 0.2
             }
            },
            "type": "barpolar"
           }
          ],
          "carpet": [
           {
            "aaxis": {
             "endlinecolor": "#2a3f5f",
             "gridcolor": "white",
             "linecolor": "white",
             "minorgridcolor": "white",
             "startlinecolor": "#2a3f5f"
            },
            "baxis": {
             "endlinecolor": "#2a3f5f",
             "gridcolor": "white",
             "linecolor": "white",
             "minorgridcolor": "white",
             "startlinecolor": "#2a3f5f"
            },
            "type": "carpet"
           }
          ],
          "choropleth": [
           {
            "colorbar": {
             "outlinewidth": 0,
             "ticks": ""
            },
            "type": "choropleth"
           }
          ],
          "contour": [
           {
            "colorbar": {
             "outlinewidth": 0,
             "ticks": ""
            },
            "colorscale": [
             [
              0,
              "#0d0887"
             ],
             [
              0.1111111111111111,
              "#46039f"
             ],
             [
              0.2222222222222222,
              "#7201a8"
             ],
             [
              0.3333333333333333,
              "#9c179e"
             ],
             [
              0.4444444444444444,
              "#bd3786"
             ],
             [
              0.5555555555555556,
              "#d8576b"
             ],
             [
              0.6666666666666666,
              "#ed7953"
             ],
             [
              0.7777777777777778,
              "#fb9f3a"
             ],
             [
              0.8888888888888888,
              "#fdca26"
             ],
             [
              1,
              "#f0f921"
             ]
            ],
            "type": "contour"
           }
          ],
          "contourcarpet": [
           {
            "colorbar": {
             "outlinewidth": 0,
             "ticks": ""
            },
            "type": "contourcarpet"
           }
          ],
          "heatmap": [
           {
            "colorbar": {
             "outlinewidth": 0,
             "ticks": ""
            },
            "colorscale": [
             [
              0,
              "#0d0887"
             ],
             [
              0.1111111111111111,
              "#46039f"
             ],
             [
              0.2222222222222222,
              "#7201a8"
             ],
             [
              0.3333333333333333,
              "#9c179e"
             ],
             [
              0.4444444444444444,
              "#bd3786"
             ],
             [
              0.5555555555555556,
              "#d8576b"
             ],
             [
              0.6666666666666666,
              "#ed7953"
             ],
             [
              0.7777777777777778,
              "#fb9f3a"
             ],
             [
              0.8888888888888888,
              "#fdca26"
             ],
             [
              1,
              "#f0f921"
             ]
            ],
            "type": "heatmap"
           }
          ],
          "histogram": [
           {
            "marker": {
             "pattern": {
              "fillmode": "overlay",
              "size": 10,
              "solidity": 0.2
             }
            },
            "type": "histogram"
           }
          ],
          "histogram2d": [
           {
            "colorbar": {
             "outlinewidth": 0,
             "ticks": ""
            },
            "colorscale": [
             [
              0,
              "#0d0887"
             ],
             [
              0.1111111111111111,
              "#46039f"
             ],
             [
              0.2222222222222222,
              "#7201a8"
             ],
             [
              0.3333333333333333,
              "#9c179e"
             ],
             [
              0.4444444444444444,
              "#bd3786"
             ],
             [
              0.5555555555555556,
              "#d8576b"
             ],
             [
              0.6666666666666666,
              "#ed7953"
             ],
             [
              0.7777777777777778,
              "#fb9f3a"
             ],
             [
              0.8888888888888888,
              "#fdca26"
             ],
             [
              1,
              "#f0f921"
             ]
            ],
            "type": "histogram2d"
           }
          ],
          "histogram2dcontour": [
           {
            "colorbar": {
             "outlinewidth": 0,
             "ticks": ""
            },
            "colorscale": [
             [
              0,
              "#0d0887"
             ],
             [
              0.1111111111111111,
              "#46039f"
             ],
             [
              0.2222222222222222,
              "#7201a8"
             ],
             [
              0.3333333333333333,
              "#9c179e"
             ],
             [
              0.4444444444444444,
              "#bd3786"
             ],
             [
              0.5555555555555556,
              "#d8576b"
             ],
             [
              0.6666666666666666,
              "#ed7953"
             ],
             [
              0.7777777777777778,
              "#fb9f3a"
             ],
             [
              0.8888888888888888,
              "#fdca26"
             ],
             [
              1,
              "#f0f921"
             ]
            ],
            "type": "histogram2dcontour"
           }
          ],
          "mesh3d": [
           {
            "colorbar": {
             "outlinewidth": 0,
             "ticks": ""
            },
            "type": "mesh3d"
           }
          ],
          "parcoords": [
           {
            "line": {
             "colorbar": {
              "outlinewidth": 0,
              "ticks": ""
             }
            },
            "type": "parcoords"
           }
          ],
          "pie": [
           {
            "automargin": true,
            "type": "pie"
           }
          ],
          "scatter": [
           {
            "fillpattern": {
             "fillmode": "overlay",
             "size": 10,
             "solidity": 0.2
            },
            "type": "scatter"
           }
          ],
          "scatter3d": [
           {
            "line": {
             "colorbar": {
              "outlinewidth": 0,
              "ticks": ""
             }
            },
            "marker": {
             "colorbar": {
              "outlinewidth": 0,
              "ticks": ""
             }
            },
            "type": "scatter3d"
           }
          ],
          "scattercarpet": [
           {
            "marker": {
             "colorbar": {
              "outlinewidth": 0,
              "ticks": ""
             }
            },
            "type": "scattercarpet"
           }
          ],
          "scattergeo": [
           {
            "marker": {
             "colorbar": {
              "outlinewidth": 0,
              "ticks": ""
             }
            },
            "type": "scattergeo"
           }
          ],
          "scattergl": [
           {
            "marker": {
             "colorbar": {
              "outlinewidth": 0,
              "ticks": ""
             }
            },
            "type": "scattergl"
           }
          ],
          "scattermap": [
           {
            "marker": {
             "colorbar": {
              "outlinewidth": 0,
              "ticks": ""
             }
            },
            "type": "scattermap"
           }
          ],
          "scattermapbox": [
           {
            "marker": {
             "colorbar": {
              "outlinewidth": 0,
              "ticks": ""
             }
            },
            "type": "scattermapbox"
           }
          ],
          "scatterpolar": [
           {
            "marker": {
             "colorbar": {
              "outlinewidth": 0,
              "ticks": ""
             }
            },
            "type": "scatterpolar"
           }
          ],
          "scatterpolargl": [
           {
            "marker": {
             "colorbar": {
              "outlinewidth": 0,
              "ticks": ""
             }
            },
            "type": "scatterpolargl"
           }
          ],
          "scatterternary": [
           {
            "marker": {
             "colorbar": {
              "outlinewidth": 0,
              "ticks": ""
             }
            },
            "type": "scatterternary"
           }
          ],
          "surface": [
           {
            "colorbar": {
             "outlinewidth": 0,
             "ticks": ""
            },
            "colorscale": [
             [
              0,
              "#0d0887"
             ],
             [
              0.1111111111111111,
              "#46039f"
             ],
             [
              0.2222222222222222,
              "#7201a8"
             ],
             [
              0.3333333333333333,
              "#9c179e"
             ],
             [
              0.4444444444444444,
              "#bd3786"
             ],
             [
              0.5555555555555556,
              "#d8576b"
             ],
             [
              0.6666666666666666,
              "#ed7953"
             ],
             [
              0.7777777777777778,
              "#fb9f3a"
             ],
             [
              0.8888888888888888,
              "#fdca26"
             ],
             [
              1,
              "#f0f921"
             ]
            ],
            "type": "surface"
           }
          ],
          "table": [
           {
            "cells": {
             "fill": {
              "color": "#EBF0F8"
             },
             "line": {
              "color": "white"
             }
            },
            "header": {
             "fill": {
              "color": "#C8D4E3"
             },
             "line": {
              "color": "white"
             }
            },
            "type": "table"
           }
          ]
         },
         "layout": {
          "annotationdefaults": {
           "arrowcolor": "#2a3f5f",
           "arrowhead": 0,
           "arrowwidth": 1
          },
          "autotypenumbers": "strict",
          "coloraxis": {
           "colorbar": {
            "outlinewidth": 0,
            "ticks": ""
           }
          },
          "colorscale": {
           "diverging": [
            [
             0,
             "#8e0152"
            ],
            [
             0.1,
             "#c51b7d"
            ],
            [
             0.2,
             "#de77ae"
            ],
            [
             0.3,
             "#f1b6da"
            ],
            [
             0.4,
             "#fde0ef"
            ],
            [
             0.5,
             "#f7f7f7"
            ],
            [
             0.6,
             "#e6f5d0"
            ],
            [
             0.7,
             "#b8e186"
            ],
            [
             0.8,
             "#7fbc41"
            ],
            [
             0.9,
             "#4d9221"
            ],
            [
             1,
             "#276419"
            ]
           ],
           "sequential": [
            [
             0,
             "#0d0887"
            ],
            [
             0.1111111111111111,
             "#46039f"
            ],
            [
             0.2222222222222222,
             "#7201a8"
            ],
            [
             0.3333333333333333,
             "#9c179e"
            ],
            [
             0.4444444444444444,
             "#bd3786"
            ],
            [
             0.5555555555555556,
             "#d8576b"
            ],
            [
             0.6666666666666666,
             "#ed7953"
            ],
            [
             0.7777777777777778,
             "#fb9f3a"
            ],
            [
             0.8888888888888888,
             "#fdca26"
            ],
            [
             1,
             "#f0f921"
            ]
           ],
           "sequentialminus": [
            [
             0,
             "#0d0887"
            ],
            [
             0.1111111111111111,
             "#46039f"
            ],
            [
             0.2222222222222222,
             "#7201a8"
            ],
            [
             0.3333333333333333,
             "#9c179e"
            ],
            [
             0.4444444444444444,
             "#bd3786"
            ],
            [
             0.5555555555555556,
             "#d8576b"
            ],
            [
             0.6666666666666666,
             "#ed7953"
            ],
            [
             0.7777777777777778,
             "#fb9f3a"
            ],
            [
             0.8888888888888888,
             "#fdca26"
            ],
            [
             1,
             "#f0f921"
            ]
           ]
          },
          "colorway": [
           "#636efa",
           "#EF553B",
           "#00cc96",
           "#ab63fa",
           "#FFA15A",
           "#19d3f3",
           "#FF6692",
           "#B6E880",
           "#FF97FF",
           "#FECB52"
          ],
          "font": {
           "color": "#2a3f5f"
          },
          "geo": {
           "bgcolor": "white",
           "lakecolor": "white",
           "landcolor": "#E5ECF6",
           "showlakes": true,
           "showland": true,
           "subunitcolor": "white"
          },
          "hoverlabel": {
           "align": "left"
          },
          "hovermode": "closest",
          "mapbox": {
           "style": "light"
          },
          "paper_bgcolor": "white",
          "plot_bgcolor": "#E5ECF6",
          "polar": {
           "angularaxis": {
            "gridcolor": "white",
            "linecolor": "white",
            "ticks": ""
           },
           "bgcolor": "#E5ECF6",
           "radialaxis": {
            "gridcolor": "white",
            "linecolor": "white",
            "ticks": ""
           }
          },
          "scene": {
           "xaxis": {
            "backgroundcolor": "#E5ECF6",
            "gridcolor": "white",
            "gridwidth": 2,
            "linecolor": "white",
            "showbackground": true,
            "ticks": "",
            "zerolinecolor": "white"
           },
           "yaxis": {
            "backgroundcolor": "#E5ECF6",
            "gridcolor": "white",
            "gridwidth": 2,
            "linecolor": "white",
            "showbackground": true,
            "ticks": "",
            "zerolinecolor": "white"
           },
           "zaxis": {
            "backgroundcolor": "#E5ECF6",
            "gridcolor": "white",
            "gridwidth": 2,
            "linecolor": "white",
            "showbackground": true,
            "ticks": "",
            "zerolinecolor": "white"
           }
          },
          "shapedefaults": {
           "line": {
            "color": "#2a3f5f"
           }
          },
          "ternary": {
           "aaxis": {
            "gridcolor": "white",
            "linecolor": "white",
            "ticks": ""
           },
           "baxis": {
            "gridcolor": "white",
            "linecolor": "white",
            "ticks": ""
           },
           "bgcolor": "#E5ECF6",
           "caxis": {
            "gridcolor": "white",
            "linecolor": "white",
            "ticks": ""
           }
          },
          "title": {
           "x": 0.05
          },
          "xaxis": {
           "automargin": true,
           "gridcolor": "white",
           "linecolor": "white",
           "ticks": "",
           "title": {
            "standoff": 15
           },
           "zerolinecolor": "white",
           "zerolinewidth": 2
          },
          "yaxis": {
           "automargin": true,
           "gridcolor": "white",
           "linecolor": "white",
           "ticks": "",
           "title": {
            "standoff": 15
           },
           "zerolinecolor": "white",
           "zerolinewidth": 2
          }
         }
        },
        "title": {
         "text": "MDC Mahalanobis — Glucose × Resistin"
        },
        "width": 900,
        "xaxis": {
         "title": {
          "text": "Glucose"
         }
        },
        "yaxis": {
         "title": {
          "text": "Resistin"
         }
        }
       }
      }
     },
     "metadata": {},
     "output_type": "display_data"
    }
   ],
   "source": [
    "\n",
    "\n",
    "print(\"\\n========== MDC 2D — Euclidiano & Mahalanobis==========\")\n",
    "\n",
    "# ---- 1) Escolha das duas variáveis (já padronizadas)\n",
    "f1, f2 = \"Glucose\", \"Resistin\"   \n",
    "Ztr = X_train_std[[f1, f2]].copy()\n",
    "Zte = X_test_std[[f1, f2]].copy()\n",
    "\n",
    "# classes\n",
    "c1, c2 = sorted(y_train.unique())\n",
    "ix_tr_1 = (y_train == c1).values\n",
    "ix_tr_2 = (y_train == c2).values\n",
    "ix_te_1 = (y_test  == c1).values\n",
    "ix_te_2 = (y_test  == c2).values\n",
    "\n",
    "# ---- 2) Estatísticas 2D no TREINO\n",
    "X1 = Ztr.values[ix_tr_1]\n",
    "X2 = Ztr.values[ix_tr_2]\n",
    "mu1 = X1.mean(axis=0)\n",
    "mu2 = X2.mean(axis=0)\n",
    "\n",
    "# Σ pooled p/ Mahalanobis\n",
    "n1, n2 = X1.shape[0], X2.shape[0]\n",
    "S1 = np.cov(X1, rowvar=False, bias=False)\n",
    "S2 = np.cov(X2, rowvar=False, bias=False)\n",
    "S  = ((n1-1)*S1 + (n2-1)*S2) / (n1 + n2 - 2)\n",
    "Sinv = np.linalg.pinv(S)\n",
    "\n",
    "# ---- 3) Decisores lineares g2(x) - g1(x) = w^T x + b (score)\n",
    "# Euclidiano\n",
    "w_e = (mu2 - mu1)\n",
    "b_e = -0.5*(mu2 @ mu2 - mu1 @ mu1)\n",
    "\n",
    "# Mahalanobis\n",
    "mu1_S = Sinv @ mu1\n",
    "mu2_S = Sinv @ mu2\n",
    "w_m = (mu2_S - mu1_S)\n",
    "b_m = -0.5*(mu2 @ mu2_S - mu1 @ mu1_S)\n",
    "\n",
    "# ---- 4) Scores & predições no TESTE \n",
    "score_e_test = Zte.values @ w_e + b_e\n",
    "score_m_test = Zte.values @ w_m + b_m\n",
    "y_pred_e = np.where(score_e_test > 0, c2, c1)\n",
    "y_pred_m = np.where(score_m_test > 0, c2, c1)\n",
    "\n",
    "# ---- 5) Métricas no TESTE\n",
    "def metrics_block(y_true, y_pred, score):\n",
    "    cm = confusion_matrix(y_true, y_pred, labels=[c1, c2])\n",
    "    tn, fp, fn, tp = cm.ravel()\n",
    "    sens = tp/(tp+fn) if (tp+fn) else float('nan')\n",
    "    spec = tn/(tn+fp) if (tn+fp) else float('nan')\n",
    "    prec = precision_score(y_true, y_pred, pos_label=c2, zero_division=0)\n",
    "    f1   = f1_score(y_true, y_pred, pos_label=c2, zero_division=0)\n",
    "    auc  = roc_auc_score((y_true==c2).astype(int), score)\n",
    "    return cm, sens, spec, prec, f1, auc\n",
    "\n",
    "cm_e, sens_e, spec_e, prec_e, f1_e, auc_e = metrics_block(y_test.values, y_pred_e, score_e_test)\n",
    "cm_m, sens_m, spec_m, prec_m, f1_m, auc_m = metrics_block(y_test.values, y_pred_m, score_m_test)\n",
    "\n",
    "print(\"\\n=== Euclidiano (TESTE) ===\")\n",
    "print(cm_e)\n",
    "print(f\"Sensitivity: {sens_e:.3f} | Specificity: {spec_e:.3f} | Precision: {prec_e:.3f} | F1: {f1_e:.3f} | ROC-AUC: {auc_e:.3f}\")\n",
    "\n",
    "print(\"\\n=== Mahalanobis (TESTE) ===\")\n",
    "print(cm_m)\n",
    "print(f\"Sensitivity: {sens_m:.3f} | Specificity: {spec_m:.3f} | Precision: {prec_m:.3f} | F1: {f1_m:.3f} | ROC-AUC: {auc_m:.3f}\")\n",
    "\n",
    "def plot_mdc_2d(Ztr, Zte, ytr, yte, mu1, mu2, w, b, title, color_fn=\"#000\", color_fp=\"#000\"):\n",
    "    y_pred = np.where((Zte.values @ w + b) > 0, c2, c1)\n",
    "    FP_idx = np.where((yte==c1) & (y_pred==c2))[0]\n",
    "    FN_idx = np.where((yte==c2) & (y_pred==c1))[0]\n",
    "\n",
    "    fig = go.Figure()\n",
    "\n",
    "    fig.add_trace(go.Scatter(\n",
    "        x=Zte.values[ix_te_1,0], y=Zte.values[ix_te_1,1],\n",
    "        mode='markers', name='Saudável', marker=dict(color='blue', size=9)\n",
    "    ))\n",
    "    fig.add_trace(go.Scatter(\n",
    "        x=Zte.values[ix_te_2,0], y=Zte.values[ix_te_2,1],\n",
    "        mode='markers', name='Cancro', marker=dict(color='red', size=9)\n",
    "    ))\n",
    "\n",
    "    if len(FP_idx):\n",
    "        fig.add_trace(go.Scatter(\n",
    "            x=Zte.values[FP_idx,0], y=Zte.values[FP_idx,1],\n",
    "            mode='markers', name='False Positive',\n",
    "            marker=dict(symbol='circle-open', color='red', size=15, line=dict(width=3, color='red'))\n",
    "        ))\n",
    "    if len(FN_idx):\n",
    "        fig.add_trace(go.Scatter(\n",
    "            x=Zte.values[FN_idx,0], y=Zte.values[FN_idx,1],\n",
    "            mode='markers', name='False Negative',\n",
    "            marker=dict(symbol='circle-open', color='blue', size=15, line=dict(width=3, color='blue'))\n",
    "        ))\n",
    "\n",
    "    fig.add_trace(go.Scatter(\n",
    "        x=[mu1[0]], y=[mu1[1]], mode='markers', name='Mean (Saudável)',\n",
    "        marker=dict(symbol='x', size=20, color='green', line=dict(width=1, color='black'))\n",
    "    ))\n",
    "    fig.add_trace(go.Scatter(\n",
    "        x=[mu2[0]], y=[mu2[1]], mode='markers', name='Mean (Cancro)',\n",
    "        marker=dict(symbol='x', size=20, color='yellow', line=dict(width=1, color='black'))\n",
    "    ))\n",
    "\n",
    "    fig.add_trace(go.Scatter(\n",
    "        x=[mu1[0], mu2[0]], y=[mu1[1], mu2[1]],\n",
    "        mode='lines', name='Inter mean segment',\n",
    "        line=dict(color='black', width=4)\n",
    "    ))\n",
    "\n",
    "    x1min = min(Ztr[f1].min(), Zte[f1].min()) - 1.0\n",
    "    x1max = max(Ztr[f1].max(), Zte[f1].max()) + 1.0\n",
    "    x1_line = np.linspace(x1min, x1max, 200)\n",
    "    if abs(w[1]) > 1e-8:\n",
    "        x2_line = (-b - w[0]*x1_line) / w[1]\n",
    "        fig.add_trace(go.Scatter(\n",
    "            x=x1_line, y=x2_line, mode='lines', name='Hyperplane',\n",
    "            line=dict(dash='dash', color='gray', width=4)\n",
    "        ))\n",
    "\n",
    "    fig.update_layout(\n",
    "        title=title,\n",
    "        xaxis_title=f1, yaxis_title=f2,\n",
    "        autosize=False, width=900, height=720,\n",
    "        legend=dict(itemsizing='constant')\n",
    "    )\n",
    "    return fig\n",
    "\n",
    "fig_e = plot_mdc_2d(Ztr, Zte, y_train.values, y_test.values, mu1, mu2, w_e, b_e,\n",
    "                    f\"MDC Euclidiano — {f1} × {f2}\")\n",
    "fig_m = plot_mdc_2d(Ztr, Zte, y_train.values, y_test.values, mu1, mu2, w_m, b_m,\n",
    "                    f\"MDC Mahalanobis — {f1} × {f2}\")\n",
    "\n",
    "fig_e.show()\n",
    "fig_m.show()\n",
    "\n",
    "\n"
   ]
  },
  {
   "cell_type": "markdown",
   "id": "168ddfff",
   "metadata": {},
   "source": [
    "FISHER LDA"
   ]
  },
  {
   "cell_type": "code",
   "execution_count": null,
   "id": "888f4929",
   "metadata": {},
   "outputs": [
    {
     "name": "stdout",
     "output_type": "stream",
     "text": [
      "\n",
      "========== FISHER Linear Discriminant  ==========\n"
     ]
    },
    {
     "data": {
      "application/vnd.plotly.v1+json": {
       "config": {
        "plotlyServerURL": "https://plot.ly"
       },
       "data": [
        {
         "marker": {
          "color": "blue",
          "size": 9
         },
         "mode": "markers",
         "name": "Saudável (train)",
         "type": "scatter",
         "x": {
          "bdata": "cwPTUPn5wL/b6ma6bcLTvyLXcYid7OC/vgZNuEJntj9rn2VDJmXZv/A3JeVZ1sA/Om6NFg/23j+O3jDvpyblv2ufZUMmZdm/vgZNuEJntj/8U2TM3gffv7P55IeCNty/2+pmum3C07+UbNBiaj/Mv0aEsapLVeK/2+pmum3C079EK1bnFnD0v5Rs0GJqP8y/1ziwMwT457++Bk24Qme2PxkFkASesNM/i5ru3moD77+Lmu7eagPvv7OLcBFWj+a/i5ru3moD77/XOLAzBPjnv5KQ53UR8dC/ItdxiJ3s4L/5jJSSfXv7v2ufZUMmZdm/s4twEVaP5r/YI5eADDbwvx+TL3hgyeq/xp2oj4Gutr9qMfHM+b3jv9c4sDME+Oe/",
          "dtype": "f8"
         },
         "y": {
          "bdata": "nsqmRqnS2r+i3zxCWfTVv14NTWIlf+A/x+OxQv06FUCNXWvVkeTXvy1iID3w2Oq//Hi3Mec94L9oFTV2e1LtvwJXWRGTZeU/xaOK6He24j8uGtD83WXkvwFPlIxOwOS/jeQ/SEZD178TCM93nHDgv5cCJ0+UZuK/fQtt7O5w67/Y/f72RYDhv16TA0PTWOq/91bwJpS46L8Ehs4O1YnXv20GPxWlss+/I2NPNr741r+1bToxIsTFv6nIv9hLa9+/3s/BYscLxL+rxKcCxGTtvySQWiIVqM+/+RU0kX4Vxj9EKkd2xuzpv8dM4+eUw+S/LHGEpbLJ478MJ/D6z7HHP9Nn9SEKQLA/WFb1FeTT5b+vYWN2pfe4v0Cle7UCI+q/",
          "dtype": "f8"
         }
        },
        {
         "marker": {
          "color": "red",
          "size": 9
         },
         "mode": "markers",
         "name": "Cancro (train)",
         "type": "scatter",
         "x": {
          "bdata": "s4twEVaP5r/8U2TM3gffvzo7n0yjQ6Y/1HHg+aJr9D9izYO/JinsP9vqZrptwtO/SmlW+yDSpr+A7CNuEnnGP0B5n2Ctpfg/2+pmum3C078EuNHZsZzGv8adqI+Brra/0aoQwEHf0D8i13GInezgv0aEsapLVeK/8Dcl5VnWwD+UbNBiaj/Mv2URxs9jTOI/qbmOjVZT2T86O59Mo0OmP4ua7t5qA++/rWtFFMAd5T+A7CNuEnnGP0ppVvsg0qa/ivU/LaiI9j+A7CNuEnnGP2ox8cz5veO/Gqo+tmAr/D8WPW0u8psRQGURxs9jTOI/w0duSuapAkCI0x6lCXf7P4r1Py2oiPY/vgZNuEJntj+SkOd1EfHQv9GqEMBB39A/2+pmum3C079rn2VDJmXZv2ftrry8mu2/8MHl1rXPQb9KaVb7INKmv8adqI+Brra/RoSxqktV4r/wweXWtc9Bv18o/bYd9hFA",
          "dtype": "f8"
         },
         "y": {
          "bdata": "O97D5vcQiL+MHd44SmHRP3B8tTJ4gfI/NSaA3bOpyj+3hpbNWuzov82whMYoe96/upl77GhYtL+j2j1hzwzsP8ZTg051SuS/91SMmuiZ479lYn17gomwPyMVxKELENw/E5dZm6yZ7b9cQYL0wpTnP5yUDkIXW+e/Bz60KHeE5D+m6DqVlbrkP/idvETFkK8/el5+WaKvvz+cwb/prjXjv/ts2rRqM/U/YI0oYh8J6r8WJS+yiwD+Pyht+glIfghAwAIsO7ZI0b/WH+YpsAHRv8dn917W+tY/E1Q6zccZs7+8YsztqXcIQNesByFLlgFAIXJtjhAf0L+NbpnU3bfqvxDO5SFrH+u/1rz5P9jltz/mnVVEntrIP/wVicGuh+m/M4uHriPl4b8ssNo0Dc2pP2vDTYY4SeQ/ovaFKc6D5D9KU67n+fjgv5f5JVc5M9e/gLkM9mMg17/WffeM0RLYv1rC1yQj5ec/",
          "dtype": "f8"
         }
        },
        {
         "marker": {
          "color": "green",
          "line": {
           "color": "black",
           "width": 1
          },
          "size": 20,
          "symbol": "x"
         },
         "mode": "markers",
         "name": "Mean (Saudável)",
         "type": "scatter",
         "x": [
          -0.47507128849338076
         ],
         "y": [
          -0.2297433283301478
         ]
        },
        {
         "marker": {
          "color": "yellow",
          "line": {
           "color": "black",
           "width": 1
          },
          "size": 20,
          "symbol": "x"
         },
         "mode": "markers",
         "name": "Mean (Cancro)",
         "type": "scatter",
         "x": [
          0.38005703079470504
         ],
         "y": [
          0.18379466266411823
         ]
        },
        {
         "line": {
          "color": "black",
          "width": 4
         },
         "mode": "lines",
         "name": "Inter mean segment",
         "type": "scatter",
         "x": [
          -0.47507128849338076,
          0.38005703079470504
         ],
         "y": [
          -0.2297433283301478,
          0.18379466266411823
         ]
        },
        {
         "line": {
          "color": "gray",
          "dash": "dash",
          "width": 4
         },
         "mode": "lines",
         "name": "Hyperplane",
         "type": "scatter",
         "x": {
          "bdata": "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",
          "dtype": "f8"
         },
         "y": {
          "bdata": "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",
          "dtype": "f8"
         }
        }
       ],
       "layout": {
        "autosize": false,
        "height": 720,
        "template": {
         "data": {
          "bar": [
           {
            "error_x": {
             "color": "#2a3f5f"
            },
            "error_y": {
             "color": "#2a3f5f"
            },
            "marker": {
             "line": {
              "color": "#E5ECF6",
              "width": 0.5
             },
             "pattern": {
              "fillmode": "overlay",
              "size": 10,
              "solidity": 0.2
             }
            },
            "type": "bar"
           }
          ],
          "barpolar": [
           {
            "marker": {
             "line": {
              "color": "#E5ECF6",
              "width": 0.5
             },
             "pattern": {
              "fillmode": "overlay",
              "size": 10,
              "solidity": 0.2
             }
            },
            "type": "barpolar"
           }
          ],
          "carpet": [
           {
            "aaxis": {
             "endlinecolor": "#2a3f5f",
             "gridcolor": "white",
             "linecolor": "white",
             "minorgridcolor": "white",
             "startlinecolor": "#2a3f5f"
            },
            "baxis": {
             "endlinecolor": "#2a3f5f",
             "gridcolor": "white",
             "linecolor": "white",
             "minorgridcolor": "white",
             "startlinecolor": "#2a3f5f"
            },
            "type": "carpet"
           }
          ],
          "choropleth": [
           {
            "colorbar": {
             "outlinewidth": 0,
             "ticks": ""
            },
            "type": "choropleth"
           }
          ],
          "contour": [
           {
            "colorbar": {
             "outlinewidth": 0,
             "ticks": ""
            },
            "colorscale": [
             [
              0,
              "#0d0887"
             ],
             [
              0.1111111111111111,
              "#46039f"
             ],
             [
              0.2222222222222222,
              "#7201a8"
             ],
             [
              0.3333333333333333,
              "#9c179e"
             ],
             [
              0.4444444444444444,
              "#bd3786"
             ],
             [
              0.5555555555555556,
              "#d8576b"
             ],
             [
              0.6666666666666666,
              "#ed7953"
             ],
             [
              0.7777777777777778,
              "#fb9f3a"
             ],
             [
              0.8888888888888888,
              "#fdca26"
             ],
             [
              1,
              "#f0f921"
             ]
            ],
            "type": "contour"
           }
          ],
          "contourcarpet": [
           {
            "colorbar": {
             "outlinewidth": 0,
             "ticks": ""
            },
            "type": "contourcarpet"
           }
          ],
          "heatmap": [
           {
            "colorbar": {
             "outlinewidth": 0,
             "ticks": ""
            },
            "colorscale": [
             [
              0,
              "#0d0887"
             ],
             [
              0.1111111111111111,
              "#46039f"
             ],
             [
              0.2222222222222222,
              "#7201a8"
             ],
             [
              0.3333333333333333,
              "#9c179e"
             ],
             [
              0.4444444444444444,
              "#bd3786"
             ],
             [
              0.5555555555555556,
              "#d8576b"
             ],
             [
              0.6666666666666666,
              "#ed7953"
             ],
             [
              0.7777777777777778,
              "#fb9f3a"
             ],
             [
              0.8888888888888888,
              "#fdca26"
             ],
             [
              1,
              "#f0f921"
             ]
            ],
            "type": "heatmap"
           }
          ],
          "histogram": [
           {
            "marker": {
             "pattern": {
              "fillmode": "overlay",
              "size": 10,
              "solidity": 0.2
             }
            },
            "type": "histogram"
           }
          ],
          "histogram2d": [
           {
            "colorbar": {
             "outlinewidth": 0,
             "ticks": ""
            },
            "colorscale": [
             [
              0,
              "#0d0887"
             ],
             [
              0.1111111111111111,
              "#46039f"
             ],
             [
              0.2222222222222222,
              "#7201a8"
             ],
             [
              0.3333333333333333,
              "#9c179e"
             ],
             [
              0.4444444444444444,
              "#bd3786"
             ],
             [
              0.5555555555555556,
              "#d8576b"
             ],
             [
              0.6666666666666666,
              "#ed7953"
             ],
             [
              0.7777777777777778,
              "#fb9f3a"
             ],
             [
              0.8888888888888888,
              "#fdca26"
             ],
             [
              1,
              "#f0f921"
             ]
            ],
            "type": "histogram2d"
           }
          ],
          "histogram2dcontour": [
           {
            "colorbar": {
             "outlinewidth": 0,
             "ticks": ""
            },
            "colorscale": [
             [
              0,
              "#0d0887"
             ],
             [
              0.1111111111111111,
              "#46039f"
             ],
             [
              0.2222222222222222,
              "#7201a8"
             ],
             [
              0.3333333333333333,
              "#9c179e"
             ],
             [
              0.4444444444444444,
              "#bd3786"
             ],
             [
              0.5555555555555556,
              "#d8576b"
             ],
             [
              0.6666666666666666,
              "#ed7953"
             ],
             [
              0.7777777777777778,
              "#fb9f3a"
             ],
             [
              0.8888888888888888,
              "#fdca26"
             ],
             [
              1,
              "#f0f921"
             ]
            ],
            "type": "histogram2dcontour"
           }
          ],
          "mesh3d": [
           {
            "colorbar": {
             "outlinewidth": 0,
             "ticks": ""
            },
            "type": "mesh3d"
           }
          ],
          "parcoords": [
           {
            "line": {
             "colorbar": {
              "outlinewidth": 0,
              "ticks": ""
             }
            },
            "type": "parcoords"
           }
          ],
          "pie": [
           {
            "automargin": true,
            "type": "pie"
           }
          ],
          "scatter": [
           {
            "fillpattern": {
             "fillmode": "overlay",
             "size": 10,
             "solidity": 0.2
            },
            "type": "scatter"
           }
          ],
          "scatter3d": [
           {
            "line": {
             "colorbar": {
              "outlinewidth": 0,
              "ticks": ""
             }
            },
            "marker": {
             "colorbar": {
              "outlinewidth": 0,
              "ticks": ""
             }
            },
            "type": "scatter3d"
           }
          ],
          "scattercarpet": [
           {
            "marker": {
             "colorbar": {
              "outlinewidth": 0,
              "ticks": ""
             }
            },
            "type": "scattercarpet"
           }
          ],
          "scattergeo": [
           {
            "marker": {
             "colorbar": {
              "outlinewidth": 0,
              "ticks": ""
             }
            },
            "type": "scattergeo"
           }
          ],
          "scattergl": [
           {
            "marker": {
             "colorbar": {
              "outlinewidth": 0,
              "ticks": ""
             }
            },
            "type": "scattergl"
           }
          ],
          "scattermap": [
           {
            "marker": {
             "colorbar": {
              "outlinewidth": 0,
              "ticks": ""
             }
            },
            "type": "scattermap"
           }
          ],
          "scattermapbox": [
           {
            "marker": {
             "colorbar": {
              "outlinewidth": 0,
              "ticks": ""
             }
            },
            "type": "scattermapbox"
           }
          ],
          "scatterpolar": [
           {
            "marker": {
             "colorbar": {
              "outlinewidth": 0,
              "ticks": ""
             }
            },
            "type": "scatterpolar"
           }
          ],
          "scatterpolargl": [
           {
            "marker": {
             "colorbar": {
              "outlinewidth": 0,
              "ticks": ""
             }
            },
            "type": "scatterpolargl"
           }
          ],
          "scatterternary": [
           {
            "marker": {
             "colorbar": {
              "outlinewidth": 0,
              "ticks": ""
             }
            },
            "type": "scatterternary"
           }
          ],
          "surface": [
           {
            "colorbar": {
             "outlinewidth": 0,
             "ticks": ""
            },
            "colorscale": [
             [
              0,
              "#0d0887"
             ],
             [
              0.1111111111111111,
              "#46039f"
             ],
             [
              0.2222222222222222,
              "#7201a8"
             ],
             [
              0.3333333333333333,
              "#9c179e"
             ],
             [
              0.4444444444444444,
              "#bd3786"
             ],
             [
              0.5555555555555556,
              "#d8576b"
             ],
             [
              0.6666666666666666,
              "#ed7953"
             ],
             [
              0.7777777777777778,
              "#fb9f3a"
             ],
             [
              0.8888888888888888,
              "#fdca26"
             ],
             [
              1,
              "#f0f921"
             ]
            ],
            "type": "surface"
           }
          ],
          "table": [
           {
            "cells": {
             "fill": {
              "color": "#EBF0F8"
             },
             "line": {
              "color": "white"
             }
            },
            "header": {
             "fill": {
              "color": "#C8D4E3"
             },
             "line": {
              "color": "white"
             }
            },
            "type": "table"
           }
          ]
         },
         "layout": {
          "annotationdefaults": {
           "arrowcolor": "#2a3f5f",
           "arrowhead": 0,
           "arrowwidth": 1
          },
          "autotypenumbers": "strict",
          "coloraxis": {
           "colorbar": {
            "outlinewidth": 0,
            "ticks": ""
           }
          },
          "colorscale": {
           "diverging": [
            [
             0,
             "#8e0152"
            ],
            [
             0.1,
             "#c51b7d"
            ],
            [
             0.2,
             "#de77ae"
            ],
            [
             0.3,
             "#f1b6da"
            ],
            [
             0.4,
             "#fde0ef"
            ],
            [
             0.5,
             "#f7f7f7"
            ],
            [
             0.6,
             "#e6f5d0"
            ],
            [
             0.7,
             "#b8e186"
            ],
            [
             0.8,
             "#7fbc41"
            ],
            [
             0.9,
             "#4d9221"
            ],
            [
             1,
             "#276419"
            ]
           ],
           "sequential": [
            [
             0,
             "#0d0887"
            ],
            [
             0.1111111111111111,
             "#46039f"
            ],
            [
             0.2222222222222222,
             "#7201a8"
            ],
            [
             0.3333333333333333,
             "#9c179e"
            ],
            [
             0.4444444444444444,
             "#bd3786"
            ],
            [
             0.5555555555555556,
             "#d8576b"
            ],
            [
             0.6666666666666666,
             "#ed7953"
            ],
            [
             0.7777777777777778,
             "#fb9f3a"
            ],
            [
             0.8888888888888888,
             "#fdca26"
            ],
            [
             1,
             "#f0f921"
            ]
           ],
           "sequentialminus": [
            [
             0,
             "#0d0887"
            ],
            [
             0.1111111111111111,
             "#46039f"
            ],
            [
             0.2222222222222222,
             "#7201a8"
            ],
            [
             0.3333333333333333,
             "#9c179e"
            ],
            [
             0.4444444444444444,
             "#bd3786"
            ],
            [
             0.5555555555555556,
             "#d8576b"
            ],
            [
             0.6666666666666666,
             "#ed7953"
            ],
            [
             0.7777777777777778,
             "#fb9f3a"
            ],
            [
             0.8888888888888888,
             "#fdca26"
            ],
            [
             1,
             "#f0f921"
            ]
           ]
          },
          "colorway": [
           "#636efa",
           "#EF553B",
           "#00cc96",
           "#ab63fa",
           "#FFA15A",
           "#19d3f3",
           "#FF6692",
           "#B6E880",
           "#FF97FF",
           "#FECB52"
          ],
          "font": {
           "color": "#2a3f5f"
          },
          "geo": {
           "bgcolor": "white",
           "lakecolor": "white",
           "landcolor": "#E5ECF6",
           "showlakes": true,
           "showland": true,
           "subunitcolor": "white"
          },
          "hoverlabel": {
           "align": "left"
          },
          "hovermode": "closest",
          "mapbox": {
           "style": "light"
          },
          "paper_bgcolor": "white",
          "plot_bgcolor": "#E5ECF6",
          "polar": {
           "angularaxis": {
            "gridcolor": "white",
            "linecolor": "white",
            "ticks": ""
           },
           "bgcolor": "#E5ECF6",
           "radialaxis": {
            "gridcolor": "white",
            "linecolor": "white",
            "ticks": ""
           }
          },
          "scene": {
           "xaxis": {
            "backgroundcolor": "#E5ECF6",
            "gridcolor": "white",
            "gridwidth": 2,
            "linecolor": "white",
            "showbackground": true,
            "ticks": "",
            "zerolinecolor": "white"
           },
           "yaxis": {
            "backgroundcolor": "#E5ECF6",
            "gridcolor": "white",
            "gridwidth": 2,
            "linecolor": "white",
            "showbackground": true,
            "ticks": "",
            "zerolinecolor": "white"
           },
           "zaxis": {
            "backgroundcolor": "#E5ECF6",
            "gridcolor": "white",
            "gridwidth": 2,
            "linecolor": "white",
            "showbackground": true,
            "ticks": "",
            "zerolinecolor": "white"
           }
          },
          "shapedefaults": {
           "line": {
            "color": "#2a3f5f"
           }
          },
          "ternary": {
           "aaxis": {
            "gridcolor": "white",
            "linecolor": "white",
            "ticks": ""
           },
           "baxis": {
            "gridcolor": "white",
            "linecolor": "white",
            "ticks": ""
           },
           "bgcolor": "#E5ECF6",
           "caxis": {
            "gridcolor": "white",
            "linecolor": "white",
            "ticks": ""
           }
          },
          "title": {
           "x": 0.05
          },
          "xaxis": {
           "automargin": true,
           "gridcolor": "white",
           "linecolor": "white",
           "ticks": "",
           "title": {
            "standoff": 15
           },
           "zerolinecolor": "white",
           "zerolinewidth": 2
          },
          "yaxis": {
           "automargin": true,
           "gridcolor": "white",
           "linecolor": "white",
           "ticks": "",
           "title": {
            "standoff": 15
           },
           "zerolinecolor": "white",
           "zerolinewidth": 2
          }
         }
        },
        "title": {
         "text": "Fisher LDA — TREINO (Glucose × Resistin)"
        },
        "width": 900,
        "xaxis": {
         "title": {
          "text": "Glucose"
         }
        },
        "yaxis": {
         "title": {
          "text": "Resistin"
         }
        }
       }
      }
     },
     "metadata": {},
     "output_type": "display_data"
    },
    {
     "data": {
      "application/vnd.plotly.v1+json": {
       "config": {
        "plotlyServerURL": "https://plot.ly"
       },
       "data": [
        {
         "marker": {
          "color": "blue",
          "size": 9
         },
         "mode": "markers",
         "name": "Saudável (test)",
         "type": "scatter",
         "x": {
          "bdata": "BLjR2bGcxr+A7CNuEnnGP2ox8cz5veO/a59lQyZl2b+O3jDvpyblv0aEsapLVeK/avq2kWPq8L9DQG+aDjLsv2ftrry8mu2/s/nkh4I23L9qMfHM+b3jvyLXcYid7OC/jt4w76cm5b+zi3ARVo/mvyNF5v7Jk9a/PiBEnXjA6j8=",
          "dtype": "f8"
         },
         "y": {
          "bdata": "s8FM+brF5L9z1Abiv/naP7znQA2Mj+K/fKN+ySz/4T8Ay5VzEHzoP/nfNTeRJd2/nYsNSrwn3L+ec3GtFxTrv2Sw/iqQOOS/GoOj3V5D6r8DSG3hOMzPvwiQ72YXfue/qA//gwG3vj+SSRi+RWHhvwXQhVIIhty/sBvBm7/P6L8=",
          "dtype": "f8"
         }
        },
        {
         "marker": {
          "color": "red",
          "size": 9
         },
         "mode": "markers",
         "name": "Cancro (test)",
         "type": "scatter",
         "x": {
          "bdata": "GQWQBJ6w0z/wNyXlWdbAPyhcleGwFBFAa59lQyZl2b/b6ma6bcLTvwS40dmxnMa/RCtW5xZw9L/XOLAzBPjnvzo7n0yjQ6Y/EaEi98obzD+z+eSHgjbcv/bFxFgc7+c//NDWorqe8b/b6ma6bcLTv9vqZrptwtO/kpDndRHx0L/8U2TM3gffv8adqI+Brra/QHmfYK2l+D8=",
          "dtype": "f8"
         },
         "y": {
          "bdata": "ejHPBI5K6L/zk7U+p8i3v8xEXykJeAlA4Li5DEcbuD/Sjz1hANrMv/oYTMmoGdm/HZsMJbuT3T9B81ye13Ltvy/OzgrZbNk/VSJzw4exBUDaoV4DSvYQPwDO2WvHaOi/Xnvk9qeT8D822S+YJVrVv26JbJbAA9S/Y4sDR+2h578wpekYQXm7v6fBETgAU/A/e8ZXJCMi578=",
          "dtype": "f8"
         }
        },
        {
         "marker": {
          "color": "red",
          "line": {
           "color": "red",
           "width": 3
          },
          "size": 15,
          "symbol": "circle-open"
         },
         "mode": "markers",
         "name": "False Positive",
         "type": "scatter",
         "x": {
          "bdata": "gOwjbhJ5xj8+IESdeMDqPw==",
          "dtype": "f8"
         },
         "y": {
          "bdata": "c9QG4r/52j+wG8Gbv8/ovw==",
          "dtype": "f8"
         }
        },
        {
         "marker": {
          "color": "blue",
          "line": {
           "color": "blue",
           "width": 3
          },
          "size": 15,
          "symbol": "circle-open"
         },
         "mode": "markers",
         "name": "False Negative",
         "type": "scatter",
         "x": {
          "bdata": "a59lQyZl2b/b6ma6bcLTvwS40dmxnMa/RCtW5xZw9L/XOLAzBPjnv7P55IeCNty//NDWorqe8b/b6ma6bcLTv9vqZrptwtO/kpDndRHx0L/8U2TM3gffvw==",
          "dtype": "f8"
         },
         "y": {
          "bdata": "4Li5DEcbuD/Sjz1hANrMv/oYTMmoGdm/HZsMJbuT3T9B81ye13Ltv9qhXgNK9hA/Xnvk9qeT8D822S+YJVrVv26JbJbAA9S/Y4sDR+2h578wpekYQXm7vw==",
          "dtype": "f8"
         }
        },
        {
         "marker": {
          "color": "green",
          "line": {
           "color": "black",
           "width": 1
          },
          "size": 20,
          "symbol": "x"
         },
         "mode": "markers",
         "name": "Mean (Saudável)",
         "type": "scatter",
         "x": [
          -0.47507128849338076
         ],
         "y": [
          -0.2297433283301478
         ]
        },
        {
         "marker": {
          "color": "yellow",
          "line": {
           "color": "black",
           "width": 1
          },
          "size": 20,
          "symbol": "x"
         },
         "mode": "markers",
         "name": "Mean (Cancro)",
         "type": "scatter",
         "x": [
          0.38005703079470504
         ],
         "y": [
          0.18379466266411823
         ]
        },
        {
         "line": {
          "color": "black",
          "width": 4
         },
         "mode": "lines",
         "name": "Inter mean segment",
         "type": "scatter",
         "x": [
          -0.47507128849338076,
          0.38005703079470504
         ],
         "y": [
          -0.2297433283301478,
          0.18379466266411823
         ]
        },
        {
         "line": {
          "color": "gray",
          "dash": "dash",
          "width": 4
         },
         "mode": "lines",
         "name": "Hyperplane",
         "type": "scatter",
         "x": {
          "bdata": "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",
          "dtype": "f8"
         },
         "y": {
          "bdata": "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",
          "dtype": "f8"
         }
        }
       ],
       "layout": {
        "autosize": false,
        "height": 720,
        "template": {
         "data": {
          "bar": [
           {
            "error_x": {
             "color": "#2a3f5f"
            },
            "error_y": {
             "color": "#2a3f5f"
            },
            "marker": {
             "line": {
              "color": "#E5ECF6",
              "width": 0.5
             },
             "pattern": {
              "fillmode": "overlay",
              "size": 10,
              "solidity": 0.2
             }
            },
            "type": "bar"
           }
          ],
          "barpolar": [
           {
            "marker": {
             "line": {
              "color": "#E5ECF6",
              "width": 0.5
             },
             "pattern": {
              "fillmode": "overlay",
              "size": 10,
              "solidity": 0.2
             }
            },
            "type": "barpolar"
           }
          ],
          "carpet": [
           {
            "aaxis": {
             "endlinecolor": "#2a3f5f",
             "gridcolor": "white",
             "linecolor": "white",
             "minorgridcolor": "white",
             "startlinecolor": "#2a3f5f"
            },
            "baxis": {
             "endlinecolor": "#2a3f5f",
             "gridcolor": "white",
             "linecolor": "white",
             "minorgridcolor": "white",
             "startlinecolor": "#2a3f5f"
            },
            "type": "carpet"
           }
          ],
          "choropleth": [
           {
            "colorbar": {
             "outlinewidth": 0,
             "ticks": ""
            },
            "type": "choropleth"
           }
          ],
          "contour": [
           {
            "colorbar": {
             "outlinewidth": 0,
             "ticks": ""
            },
            "colorscale": [
             [
              0,
              "#0d0887"
             ],
             [
              0.1111111111111111,
              "#46039f"
             ],
             [
              0.2222222222222222,
              "#7201a8"
             ],
             [
              0.3333333333333333,
              "#9c179e"
             ],
             [
              0.4444444444444444,
              "#bd3786"
             ],
             [
              0.5555555555555556,
              "#d8576b"
             ],
             [
              0.6666666666666666,
              "#ed7953"
             ],
             [
              0.7777777777777778,
              "#fb9f3a"
             ],
             [
              0.8888888888888888,
              "#fdca26"
             ],
             [
              1,
              "#f0f921"
             ]
            ],
            "type": "contour"
           }
          ],
          "contourcarpet": [
           {
            "colorbar": {
             "outlinewidth": 0,
             "ticks": ""
            },
            "type": "contourcarpet"
           }
          ],
          "heatmap": [
           {
            "colorbar": {
             "outlinewidth": 0,
             "ticks": ""
            },
            "colorscale": [
             [
              0,
              "#0d0887"
             ],
             [
              0.1111111111111111,
              "#46039f"
             ],
             [
              0.2222222222222222,
              "#7201a8"
             ],
             [
              0.3333333333333333,
              "#9c179e"
             ],
             [
              0.4444444444444444,
              "#bd3786"
             ],
             [
              0.5555555555555556,
              "#d8576b"
             ],
             [
              0.6666666666666666,
              "#ed7953"
             ],
             [
              0.7777777777777778,
              "#fb9f3a"
             ],
             [
              0.8888888888888888,
              "#fdca26"
             ],
             [
              1,
              "#f0f921"
             ]
            ],
            "type": "heatmap"
           }
          ],
          "histogram": [
           {
            "marker": {
             "pattern": {
              "fillmode": "overlay",
              "size": 10,
              "solidity": 0.2
             }
            },
            "type": "histogram"
           }
          ],
          "histogram2d": [
           {
            "colorbar": {
             "outlinewidth": 0,
             "ticks": ""
            },
            "colorscale": [
             [
              0,
              "#0d0887"
             ],
             [
              0.1111111111111111,
              "#46039f"
             ],
             [
              0.2222222222222222,
              "#7201a8"
             ],
             [
              0.3333333333333333,
              "#9c179e"
             ],
             [
              0.4444444444444444,
              "#bd3786"
             ],
             [
              0.5555555555555556,
              "#d8576b"
             ],
             [
              0.6666666666666666,
              "#ed7953"
             ],
             [
              0.7777777777777778,
              "#fb9f3a"
             ],
             [
              0.8888888888888888,
              "#fdca26"
             ],
             [
              1,
              "#f0f921"
             ]
            ],
            "type": "histogram2d"
           }
          ],
          "histogram2dcontour": [
           {
            "colorbar": {
             "outlinewidth": 0,
             "ticks": ""
            },
            "colorscale": [
             [
              0,
              "#0d0887"
             ],
             [
              0.1111111111111111,
              "#46039f"
             ],
             [
              0.2222222222222222,
              "#7201a8"
             ],
             [
              0.3333333333333333,
              "#9c179e"
             ],
             [
              0.4444444444444444,
              "#bd3786"
             ],
             [
              0.5555555555555556,
              "#d8576b"
             ],
             [
              0.6666666666666666,
              "#ed7953"
             ],
             [
              0.7777777777777778,
              "#fb9f3a"
             ],
             [
              0.8888888888888888,
              "#fdca26"
             ],
             [
              1,
              "#f0f921"
             ]
            ],
            "type": "histogram2dcontour"
           }
          ],
          "mesh3d": [
           {
            "colorbar": {
             "outlinewidth": 0,
             "ticks": ""
            },
            "type": "mesh3d"
           }
          ],
          "parcoords": [
           {
            "line": {
             "colorbar": {
              "outlinewidth": 0,
              "ticks": ""
             }
            },
            "type": "parcoords"
           }
          ],
          "pie": [
           {
            "automargin": true,
            "type": "pie"
           }
          ],
          "scatter": [
           {
            "fillpattern": {
             "fillmode": "overlay",
             "size": 10,
             "solidity": 0.2
            },
            "type": "scatter"
           }
          ],
          "scatter3d": [
           {
            "line": {
             "colorbar": {
              "outlinewidth": 0,
              "ticks": ""
             }
            },
            "marker": {
             "colorbar": {
              "outlinewidth": 0,
              "ticks": ""
             }
            },
            "type": "scatter3d"
           }
          ],
          "scattercarpet": [
           {
            "marker": {
             "colorbar": {
              "outlinewidth": 0,
              "ticks": ""
             }
            },
            "type": "scattercarpet"
           }
          ],
          "scattergeo": [
           {
            "marker": {
             "colorbar": {
              "outlinewidth": 0,
              "ticks": ""
             }
            },
            "type": "scattergeo"
           }
          ],
          "scattergl": [
           {
            "marker": {
             "colorbar": {
              "outlinewidth": 0,
              "ticks": ""
             }
            },
            "type": "scattergl"
           }
          ],
          "scattermap": [
           {
            "marker": {
             "colorbar": {
              "outlinewidth": 0,
              "ticks": ""
             }
            },
            "type": "scattermap"
           }
          ],
          "scattermapbox": [
           {
            "marker": {
             "colorbar": {
              "outlinewidth": 0,
              "ticks": ""
             }
            },
            "type": "scattermapbox"
           }
          ],
          "scatterpolar": [
           {
            "marker": {
             "colorbar": {
              "outlinewidth": 0,
              "ticks": ""
             }
            },
            "type": "scatterpolar"
           }
          ],
          "scatterpolargl": [
           {
            "marker": {
             "colorbar": {
              "outlinewidth": 0,
              "ticks": ""
             }
            },
            "type": "scatterpolargl"
           }
          ],
          "scatterternary": [
           {
            "marker": {
             "colorbar": {
              "outlinewidth": 0,
              "ticks": ""
             }
            },
            "type": "scatterternary"
           }
          ],
          "surface": [
           {
            "colorbar": {
             "outlinewidth": 0,
             "ticks": ""
            },
            "colorscale": [
             [
              0,
              "#0d0887"
             ],
             [
              0.1111111111111111,
              "#46039f"
             ],
             [
              0.2222222222222222,
              "#7201a8"
             ],
             [
              0.3333333333333333,
              "#9c179e"
             ],
             [
              0.4444444444444444,
              "#bd3786"
             ],
             [
              0.5555555555555556,
              "#d8576b"
             ],
             [
              0.6666666666666666,
              "#ed7953"
             ],
             [
              0.7777777777777778,
              "#fb9f3a"
             ],
             [
              0.8888888888888888,
              "#fdca26"
             ],
             [
              1,
              "#f0f921"
             ]
            ],
            "type": "surface"
           }
          ],
          "table": [
           {
            "cells": {
             "fill": {
              "color": "#EBF0F8"
             },
             "line": {
              "color": "white"
             }
            },
            "header": {
             "fill": {
              "color": "#C8D4E3"
             },
             "line": {
              "color": "white"
             }
            },
            "type": "table"
           }
          ]
         },
         "layout": {
          "annotationdefaults": {
           "arrowcolor": "#2a3f5f",
           "arrowhead": 0,
           "arrowwidth": 1
          },
          "autotypenumbers": "strict",
          "coloraxis": {
           "colorbar": {
            "outlinewidth": 0,
            "ticks": ""
           }
          },
          "colorscale": {
           "diverging": [
            [
             0,
             "#8e0152"
            ],
            [
             0.1,
             "#c51b7d"
            ],
            [
             0.2,
             "#de77ae"
            ],
            [
             0.3,
             "#f1b6da"
            ],
            [
             0.4,
             "#fde0ef"
            ],
            [
             0.5,
             "#f7f7f7"
            ],
            [
             0.6,
             "#e6f5d0"
            ],
            [
             0.7,
             "#b8e186"
            ],
            [
             0.8,
             "#7fbc41"
            ],
            [
             0.9,
             "#4d9221"
            ],
            [
             1,
             "#276419"
            ]
           ],
           "sequential": [
            [
             0,
             "#0d0887"
            ],
            [
             0.1111111111111111,
             "#46039f"
            ],
            [
             0.2222222222222222,
             "#7201a8"
            ],
            [
             0.3333333333333333,
             "#9c179e"
            ],
            [
             0.4444444444444444,
             "#bd3786"
            ],
            [
             0.5555555555555556,
             "#d8576b"
            ],
            [
             0.6666666666666666,
             "#ed7953"
            ],
            [
             0.7777777777777778,
             "#fb9f3a"
            ],
            [
             0.8888888888888888,
             "#fdca26"
            ],
            [
             1,
             "#f0f921"
            ]
           ],
           "sequentialminus": [
            [
             0,
             "#0d0887"
            ],
            [
             0.1111111111111111,
             "#46039f"
            ],
            [
             0.2222222222222222,
             "#7201a8"
            ],
            [
             0.3333333333333333,
             "#9c179e"
            ],
            [
             0.4444444444444444,
             "#bd3786"
            ],
            [
             0.5555555555555556,
             "#d8576b"
            ],
            [
             0.6666666666666666,
             "#ed7953"
            ],
            [
             0.7777777777777778,
             "#fb9f3a"
            ],
            [
             0.8888888888888888,
             "#fdca26"
            ],
            [
             1,
             "#f0f921"
            ]
           ]
          },
          "colorway": [
           "#636efa",
           "#EF553B",
           "#00cc96",
           "#ab63fa",
           "#FFA15A",
           "#19d3f3",
           "#FF6692",
           "#B6E880",
           "#FF97FF",
           "#FECB52"
          ],
          "font": {
           "color": "#2a3f5f"
          },
          "geo": {
           "bgcolor": "white",
           "lakecolor": "white",
           "landcolor": "#E5ECF6",
           "showlakes": true,
           "showland": true,
           "subunitcolor": "white"
          },
          "hoverlabel": {
           "align": "left"
          },
          "hovermode": "closest",
          "mapbox": {
           "style": "light"
          },
          "paper_bgcolor": "white",
          "plot_bgcolor": "#E5ECF6",
          "polar": {
           "angularaxis": {
            "gridcolor": "white",
            "linecolor": "white",
            "ticks": ""
           },
           "bgcolor": "#E5ECF6",
           "radialaxis": {
            "gridcolor": "white",
            "linecolor": "white",
            "ticks": ""
           }
          },
          "scene": {
           "xaxis": {
            "backgroundcolor": "#E5ECF6",
            "gridcolor": "white",
            "gridwidth": 2,
            "linecolor": "white",
            "showbackground": true,
            "ticks": "",
            "zerolinecolor": "white"
           },
           "yaxis": {
            "backgroundcolor": "#E5ECF6",
            "gridcolor": "white",
            "gridwidth": 2,
            "linecolor": "white",
            "showbackground": true,
            "ticks": "",
            "zerolinecolor": "white"
           },
           "zaxis": {
            "backgroundcolor": "#E5ECF6",
            "gridcolor": "white",
            "gridwidth": 2,
            "linecolor": "white",
            "showbackground": true,
            "ticks": "",
            "zerolinecolor": "white"
           }
          },
          "shapedefaults": {
           "line": {
            "color": "#2a3f5f"
           }
          },
          "ternary": {
           "aaxis": {
            "gridcolor": "white",
            "linecolor": "white",
            "ticks": ""
           },
           "baxis": {
            "gridcolor": "white",
            "linecolor": "white",
            "ticks": ""
           },
           "bgcolor": "#E5ECF6",
           "caxis": {
            "gridcolor": "white",
            "linecolor": "white",
            "ticks": ""
           }
          },
          "title": {
           "x": 0.05
          },
          "xaxis": {
           "automargin": true,
           "gridcolor": "white",
           "linecolor": "white",
           "ticks": "",
           "title": {
            "standoff": 15
           },
           "zerolinecolor": "white",
           "zerolinewidth": 2
          },
          "yaxis": {
           "automargin": true,
           "gridcolor": "white",
           "linecolor": "white",
           "ticks": "",
           "title": {
            "standoff": 15
           },
           "zerolinecolor": "white",
           "zerolinewidth": 2
          }
         }
        },
        "title": {
         "text": "Fisher LDA — TESTE (Glucose × Resistin)"
        },
        "width": 900,
        "xaxis": {
         "title": {
          "text": "Glucose"
         }
        },
        "yaxis": {
         "title": {
          "text": "Resistin"
         }
        }
       }
      }
     },
     "metadata": {},
     "output_type": "display_data"
    },
    {
     "name": "stdout",
     "output_type": "stream",
     "text": [
      "\n",
      "[TEST] Confusion matrix:\n",
      " [[14  2]\n",
      " [11  8]]\n",
      "[TEST] Sensitivity: 0.421 | Specificity: 0.875 | Precision: 0.800 | F1: 0.552 | ROC-AUC: 0.724\n",
      "\n",
      "[TRAIN] Confusion matrix:\n",
      " [[31  5]\n",
      " [19 26]]\n",
      "[TRAIN] Sensitivity: 0.578 | Specificity: 0.861 | Precision: 0.839 | F1: 0.684 | ROC-AUC: 0.821\n"
     ]
    }
   ],
   "source": [
    "\n",
    "print(\"\\n========== FISHER Linear Discriminant  ==========\")\n",
    "\n",
    "f1, f2 = \"Glucose\", \"Resistin\"\n",
    "Ztr = X_train_std[[f1, f2]].copy()\n",
    "Zte = X_test_std[[f1, f2]].copy()\n",
    "\n",
    "c1, c2 = sorted(y_train.unique())\n",
    "ix_tr_1 = (y_train == c1).values\n",
    "ix_tr_2 = (y_train == c2).values\n",
    "ix_te_1 = (y_test  == c1).values\n",
    "ix_te_2 = (y_test  == c2).values\n",
    "\n",
    "X1 = Ztr.values[ix_tr_1]\n",
    "X2 = Ztr.values[ix_tr_2]\n",
    "mu1 = X1.mean(axis=0)  \n",
    "mu2 = X2.mean(axis=0)  \n",
    "\n",
    "# 2) Matriz de dispersão intra-classe (pooled) S_w\n",
    "S1 = np.cov(X1, rowvar=False, bias=False)\n",
    "S2 = np.cov(X2, rowvar=False, bias=False)\n",
    "n1, n2 = X1.shape[0], X2.shape[0]\n",
    "Sw = ((n1-1)*S1 + (n2-1)*S2) / (n1 + n2 - 2)\n",
    "Sw_inv = np.linalg.pinv(Sw)\n",
    "\n",
    "# 3) Direção de Fisher e limiar \n",
    "w = Sw_inv @ (mu2 - mu1)\n",
    "b = -0.5 * (mu1 + mu2) @ w\n",
    "\n",
    "# 4) Hiperplano\n",
    "def add_hyperplane(fig, Ztr, Zte, w, b, name=\"Hyperplane\"):\n",
    "    x1min = min(Ztr[f1].min(), Zte[f1].min()) - 1.0\n",
    "    x1max = max(Ztr[f1].max(), Zte[f1].max()) + 1.0\n",
    "    x1_line = np.linspace(x1min, x1max, 200)\n",
    "    if abs(w[1]) > 1e-8:\n",
    "        x2_line = (-b - w[0]*x1_line) / w[1]\n",
    "        fig.add_trace(go.Scatter(\n",
    "            x=x1_line, y=x2_line, mode='lines', name=name,\n",
    "            line=dict(dash='dash', color='gray', width=4)\n",
    "        ))\n",
    "\n",
    "# 5) Plot — TREINO\n",
    "fig_tr = go.Figure()\n",
    "fig_tr.add_trace(go.Scatter(x=Ztr.values[ix_tr_1,0], y=Ztr.values[ix_tr_1,1],\n",
    "                            mode='markers', name='Saudável (train)', marker=dict(color='blue', size=9)))\n",
    "fig_tr.add_trace(go.Scatter(x=Ztr.values[ix_tr_2,0], y=Ztr.values[ix_tr_2,1],\n",
    "                            mode='markers', name='Cancro (train)', marker=dict(color='red', size=9)))\n",
    "# Médias + segmento\n",
    "fig_tr.add_trace(go.Scatter(x=[mu1[0]], y=[mu1[1]], mode='markers', name='Mean (Saudável)',\n",
    "                            marker=dict(symbol='x', size=20, color='green', line=dict(width=1, color='black'))))\n",
    "fig_tr.add_trace(go.Scatter(x=[mu2[0]], y=[mu2[1]], mode='markers', name='Mean (Cancro)',\n",
    "                            marker=dict(symbol='x', size=20, color='yellow', line=dict(width=1, color='black'))))\n",
    "fig_tr.add_trace(go.Scatter(x=[mu1[0], mu2[0]], y=[mu1[1], mu2[1]],\n",
    "                            mode='lines', name='Inter mean segment', line=dict(color='black', width=4)))\n",
    "add_hyperplane(fig_tr, Ztr, Zte, w, b)\n",
    "fig_tr.update_layout(title=f\"Fisher LDA — TREINO ({f1} × {f2})\", xaxis_title=f1, yaxis_title=f2,\n",
    "                     autosize=False, width=900, height=720)\n",
    "fig_tr.show()\n",
    "\n",
    "# 6) Plot — TESTE\n",
    "# Predição no TESTE via score s = w^T x + b\n",
    "s_te = Zte.values @ w + b\n",
    "y_pred_te = np.where(s_te > 0, c2, c1)\n",
    "# FP / FN\n",
    "FP_idx = np.where((y_test.values==c1) & (y_pred_te==c2))[0]\n",
    "FN_idx = np.where((y_test.values==c2) & (y_pred_te==c1))[0]\n",
    "\n",
    "fig_te = go.Figure()\n",
    "fig_te.add_trace(go.Scatter(x=Zte.values[ix_te_1,0], y=Zte.values[ix_te_1,1],\n",
    "                            mode='markers', name='Saudável (test)', marker=dict(color='blue', size=9)))\n",
    "fig_te.add_trace(go.Scatter(x=Zte.values[ix_te_2,0], y=Zte.values[ix_te_2,1],\n",
    "                            mode='markers', name='Cancro (test)', marker=dict(color='red', size=9)))\n",
    "# Realce FP/FN com círculo aberto \n",
    "if len(FP_idx):\n",
    "    fig_te.add_trace(go.Scatter(x=Zte.values[FP_idx,0], y=Zte.values[FP_idx,1],\n",
    "                                mode='markers', name='False Positive',\n",
    "                                marker=dict(symbol='circle-open', color='red', size=15, line=dict(width=3, color='red'))))\n",
    "if len(FN_idx):\n",
    "    fig_te.add_trace(go.Scatter(x=Zte.values[FN_idx,0], y=Zte.values[FN_idx,1],\n",
    "                                mode='markers', name='False Negative',\n",
    "                                marker=dict(symbol='circle-open', color='blue', size=15, line=dict(width=3, color='blue'))))\n",
    "# Médias (das classes — iguais às do treino)\n",
    "fig_te.add_trace(go.Scatter(x=[mu1[0]], y=[mu1[1]], mode='markers', name='Mean (Saudável)',\n",
    "                            marker=dict(symbol='x', size=20, color='green', line=dict(width=1, color='black'))))\n",
    "fig_te.add_trace(go.Scatter(x=[mu2[0]], y=[mu2[1]], mode='markers', name='Mean (Cancro)',\n",
    "                            marker=dict(symbol='x', size=20, color='yellow', line=dict(width=1, color='black'))))\n",
    "fig_te.add_trace(go.Scatter(x=[mu1[0], mu2[0]], y=[mu1[1], mu2[1]],\n",
    "                            mode='lines', name='Inter mean segment', line=dict(color='black', width=4)))\n",
    "add_hyperplane(fig_te, Ztr, Zte, w, b)\n",
    "fig_te.update_layout(title=f\"Fisher LDA — TESTE ({f1} × {f2})\", xaxis_title=f1, yaxis_title=f2,\n",
    "                     autosize=False, width=900, height=720)\n",
    "fig_te.show()\n",
    "\n",
    "# 7) Métricas (TESTE) — Sens, Spec, Precision, F1, ROC-AUC\n",
    "cm = confusion_matrix(y_test.values, y_pred_te, labels=[c1, c2])\n",
    "tn, fp, fn, tp = cm.ravel()\n",
    "sens = tp/(tp+fn) if (tp+fn) else float('nan')   \n",
    "spec = tn/(tn+fp) if (tn+fp) else float('nan')   \n",
    "prec = precision_score(y_test.values, y_pred_te, pos_label=c2, zero_division=0)\n",
    "f1   = f1_score(y_test.values, y_pred_te, pos_label=c2, zero_division=0)\n",
    "auc  = roc_auc_score((y_test.values==c2).astype(int), s_te)\n",
    "\n",
    "print(\"\\n[TEST] Confusion matrix:\\n\", cm)\n",
    "print(f\"[TEST] Sensitivity: {sens:.3f} | Specificity: {spec:.3f} | Precision: {prec:.3f} | F1: {f1:.3f} | ROC-AUC: {auc:.3f}\")\n",
    "\n",
    "# Métricas no TREINO\n",
    "s_tr = Ztr.values @ w + b\n",
    "y_pred_tr = np.where(s_tr > 0, c2, c1)\n",
    "cm_tr = confusion_matrix(y_train.values, y_pred_tr, labels=[c1, c2])\n",
    "tn_tr, fp_tr, fn_tr, tp_tr = cm_tr.ravel()\n",
    "sens_tr = tp_tr/(tp_tr+fn_tr) if (tp_tr+fn_tr) else float('nan')\n",
    "spec_tr = tn_tr/(tn_tr+fp_tr) if (tn_tr+fp_tr) else float('nan')\n",
    "prec_tr = precision_score(y_train.values, y_pred_tr, pos_label=c2, zero_division=0)\n",
    "f1_tr   = f1_score(y_train.values, y_pred_tr, pos_label=c2, zero_division=0)\n",
    "auc_tr  = roc_auc_score((y_train.values==c2).astype(int), s_tr)\n",
    "\n",
    "print(\"\\n[TRAIN] Confusion matrix:\\n\", cm_tr)\n",
    "print(f\"[TRAIN] Sensitivity: {sens_tr:.3f} | Specificity: {spec_tr:.3f} | Precision: {prec_tr:.3f} | F1: {f1_tr:.3f} | ROC-AUC: {auc_tr:.3f}\")\n",
    "\n",
    "\n"
   ]
  }
 ],
 "metadata": {
  "kernelspec": {
   "display_name": "Python 3",
   "language": "python",
   "name": "python3"
  },
  "language_info": {
   "codemirror_mode": {
    "name": "ipython",
    "version": 3
   },
   "file_extension": ".py",
   "mimetype": "text/x-python",
   "name": "python",
   "nbconvert_exporter": "python",
   "pygments_lexer": "ipython3",
   "version": "3.10.12"
  }
 },
 "nbformat": 4,
 "nbformat_minor": 5
}
